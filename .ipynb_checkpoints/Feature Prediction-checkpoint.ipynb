{
 "metadata": {
  "name": "",
  "signature": "sha256:49b85128211fc9b4b7c547dcc6829dc3f8b816719ea14ae2eae443a5c44fe725"
 },
 "nbformat": 3,
 "nbformat_minor": 0,
 "worksheets": [
  {
   "cells": [
    {
     "cell_type": "code",
     "collapsed": false,
     "input": [
      "import Quandl\n",
      "import numpy as np\n",
      "import pandas as pd\n",
      "\n",
      "from datetime import datetime\n",
      "from sklearn.linear_model import SGDClassifier\n",
      "from sklearn.linear_model import LogisticRegression\n",
      "from sklearn.cross_validation import cross_val_score\n",
      "from sklearn.cross_validation import StratifiedKFold\n",
      "from sklearn.cross_validation import train_test_split\n",
      "from sklearn.preprocessing import LabelEncoder\n",
      "from sklearn.metrics import confusion_matrix"
     ],
     "language": "python",
     "metadata": {},
     "outputs": [],
     "prompt_number": 101
    },
    {
     "cell_type": "code",
     "collapsed": false,
     "input": [
      "def kappa(cm):\n",
      "    num_classes = len(cm)\n",
      "    sum_all = 0\n",
      "    sum_diag = 0\n",
      "    sum_rands = 0\n",
      "    for i in range(0, num_classes):\n",
      "        sum_diag = sum_diag + cm[i, i]\n",
      "        sum_col = 0\n",
      "        sum_row = 0\n",
      "        for j in range(0, num_classes):\n",
      "            sum_col = sum_col + cm[j, i]\n",
      "            sum_row = sum_row + cm[i, j]\n",
      "            sum_all = sum_all + cm[i, j]\n",
      "        sum_rands = sum_rands + sum_row * sum_col\n",
      "    acc = sum_diag * 1.0 / sum_all\n",
      "    rand = sum_rands * 1.0 / (sum_all * sum_all)\n",
      "    return (acc - rand) / (1 - rand)"
     ],
     "language": "python",
     "metadata": {},
     "outputs": [],
     "prompt_number": 46
    },
    {
     "cell_type": "code",
     "collapsed": false,
     "input": [
      "start_date = datetime(2008, 1, 1)"
     ],
     "language": "python",
     "metadata": {},
     "outputs": [],
     "prompt_number": 2
    },
    {
     "cell_type": "code",
     "collapsed": false,
     "input": [
      "dji = Quandl.get(\"YAHOO/INDEX_DJI\", trim_start = start_date, transformation = 'rdiff')"
     ],
     "language": "python",
     "metadata": {},
     "outputs": [],
     "prompt_number": 3
    },
    {
     "cell_type": "code",
     "collapsed": false,
     "input": [
      "dax = Quandl.get(\"YAHOO/INDEX_GDAXI\", trim_start = start_date, transformation = 'rdiff')"
     ],
     "language": "python",
     "metadata": {},
     "outputs": [],
     "prompt_number": 4
    },
    {
     "cell_type": "code",
     "collapsed": false,
     "input": [
      "ftse = Quandl.get(\"YAHOO/INDEX_FTSE\", trim_start = start_date, transformation = 'rdiff')"
     ],
     "language": "python",
     "metadata": {},
     "outputs": [],
     "prompt_number": 5
    },
    {
     "cell_type": "code",
     "collapsed": false,
     "input": [
      "aud = Quandl.get(\"CURRFX/AUDUSD\", trim_start = start_date, transformation = 'rdiff')"
     ],
     "language": "python",
     "metadata": {},
     "outputs": [],
     "prompt_number": 6
    },
    {
     "cell_type": "code",
     "collapsed": false,
     "input": [
      "eur = Quandl.get(\"CURRFX/EURUSD\", trim_start = start_date, transformation = 'rdiff')"
     ],
     "language": "python",
     "metadata": {},
     "outputs": [],
     "prompt_number": 7
    },
    {
     "cell_type": "code",
     "collapsed": false,
     "input": [
      "dax_fut = Quandl.get(\"CHRIS/EUREX_FDAX1\", trim_start = start_date, transformation = 'rdiff')"
     ],
     "language": "python",
     "metadata": {},
     "outputs": [],
     "prompt_number": 8
    },
    {
     "cell_type": "code",
     "collapsed": false,
     "input": [
      "dji_change = pd.DataFrame({'pc_change' : dji['Adjusted Close']})#, 'pc_change_class': dji['Adjusted Close'] > 0})\n",
      "dax_change = pd.DataFrame({'pc_change' : dax['Adjusted Close']})#, 'pc_change_class': dax['Adjusted Close'] > 0})\n",
      "ftse_change = pd.DataFrame({'pc_change' : ftse['Adjusted Close']})#, 'pc_change_class': ftse['Adjusted Close'] > 0})\n",
      "aud_change = pd.DataFrame({'pc_change': aud['Rate']})\n",
      "eur_change = pd.DataFrame({'pc_change': eur['Rate']})\n",
      "dax_fut_change = pd.DataFrame({'pc_change': dax_fut['Settle']})"
     ],
     "language": "python",
     "metadata": {},
     "outputs": [],
     "prompt_number": 84
    },
    {
     "cell_type": "code",
     "collapsed": false,
     "input": [
      "dataset = dji_change.join(dax_change, rsuffix='_dax', how='inner')\n",
      "dataset = dataset.join(ftse_change, rsuffix='_ftse', how='inner')\n",
      "# dataset = dataset.join(aud_change, rsuffix='_aud', how='inner')\n",
      "# dataset = dataset.join(eur_change, rsuffix='_eur', how='inner')\n",
      "# dataset = dataset.join(dax_fut_change, rsuffix='_dax_fut', how='inner')\n",
      "\n",
      "dataset.loc[dataset['pc_change'] > 0 , 'trend'] = 'Gain'\n",
      "dataset.loc[dataset['pc_change'] < 0 , 'trend'] = 'Loss'\n",
      "\n",
      "# drop no-change events (only 2 exist)\n",
      "dataset = dataset.dropna()\n",
      "\n",
      "dataset = dataset.take(np.random.permutation(len(dataset)))"
     ],
     "language": "python",
     "metadata": {},
     "outputs": [],
     "prompt_number": 88
    },
    {
     "cell_type": "code",
     "collapsed": false,
     "input": [
      "encoder = LabelEncoder()\n",
      "encoder.fit(['Loss', 'Gain'])"
     ],
     "language": "python",
     "metadata": {},
     "outputs": [
      {
       "metadata": {},
       "output_type": "pyout",
       "prompt_number": 172,
       "text": [
        "LabelEncoder()"
       ]
      }
     ],
     "prompt_number": 172
    },
    {
     "cell_type": "code",
     "collapsed": false,
     "input": [
      "# X = dataset.drop(['trend', 'pc_change'], axis=1)\n",
      "X = dataset[['pc_change_dax']]\n",
      "y = dataset['trend']\n",
      "y = encoder.transform(y)\n",
      "\n",
      "classifer = LogisticRegression()\n",
      "folds = StratifiedKFold(y, n_folds = 10)\n",
      "scores = cross_val_score(classifer, X, y, cv = folds)\n",
      "\n",
      "print np.mean(scores)"
     ],
     "language": "python",
     "metadata": {},
     "outputs": [
      {
       "output_type": "stream",
       "stream": "stdout",
       "text": [
        "0.56197037223\n"
       ]
      }
     ],
     "prompt_number": 173
    },
    {
     "cell_type": "code",
     "collapsed": false,
     "input": [
      "kappas = []\n",
      "\n",
      "for i in range(100):\n",
      "    X_train, X_test, y_train, y_test = train_test_split(X, y, test_size = 0.3, random_state = np.random)\n",
      "    estimator = LogisticRegression()\n",
      "    estimator.fit(X_train, y_train)\n",
      "    y_predicted = estimator.predict(X_test)\n",
      "    cm = confusion_matrix(y_test, y_predicted, labels=[0, 1])\n",
      "    kappas.append(kappa(cm))\n",
      "    \n",
      "print np.mean(kappas)"
     ],
     "language": "python",
     "metadata": {},
     "outputs": [
      {
       "output_type": "stream",
       "stream": "stdout",
       "text": [
        "0.0762865000819\n"
       ]
      }
     ],
     "prompt_number": 174
    },
    {
     "cell_type": "code",
     "collapsed": false,
     "input": [
      "encoder.transform(['Gain'])"
     ],
     "language": "python",
     "metadata": {},
     "outputs": [
      {
       "metadata": {},
       "output_type": "pyout",
       "prompt_number": 77,
       "text": [
        "array([0])"
       ]
      }
     ],
     "prompt_number": 77
    }
   ],
   "metadata": {}
  }
 ]
}