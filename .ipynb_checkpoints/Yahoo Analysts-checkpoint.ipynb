{
 "metadata": {
  "name": "",
  "signature": "sha256:e39c00ff1fede33d4eff596c886fe9be2fcdb2cb57b9bf2e9e0c358d68726986"
 },
 "nbformat": 3,
 "nbformat_minor": 0,
 "worksheets": [
  {
   "cells": [
    {
     "cell_type": "code",
     "collapsed": false,
     "input": [
      "import urllib2\n",
      "import pandas as pd\n",
      "from bs4 import BeautifulSoup\n",
      "from IPython.display import HTML"
     ],
     "language": "python",
     "metadata": {},
     "outputs": [],
     "prompt_number": 1
    },
    {
     "cell_type": "code",
     "collapsed": false,
     "input": [
      "def loadSoup(url):\n",
      "    return BeautifulSoup(urllib2.urlopen(url).read())"
     ],
     "language": "python",
     "metadata": {},
     "outputs": [],
     "prompt_number": 21
    },
    {
     "cell_type": "code",
     "collapsed": false,
     "input": [
      "def load_df(ticker):\n",
      "    soup  = loadSoup('http://finance.yahoo.com/q/ud?s=' + ticker)\n",
      "    table = soup.select('.yfnc_datamodoutline1 table')[0]\n",
      "    data  = pd.read_html(str(table), flavor='bs4', header=0)[0]\n",
      "    data['Ticker'] = ticker\n",
      "    return data"
     ],
     "language": "python",
     "metadata": {},
     "outputs": [],
     "prompt_number": 22
    },
    {
     "cell_type": "code",
     "collapsed": false,
     "input": [
      "DJIA = pd.read_csv('../data/DowJonesIA.csv')\n",
      "df = pd.DataFrame()\n",
      "for ticker in DJIA['Ticker']:\n",
      "    print 'Loading data for', ticker\n",
      "    df = df.append(load_df(ticker))"
     ],
     "language": "python",
     "metadata": {},
     "outputs": [
      {
       "output_type": "stream",
       "stream": "stdout",
       "text": [
        "Loading data for AXP\n",
        "Loading data for"
       ]
      },
      {
       "output_type": "stream",
       "stream": "stdout",
       "text": [
        " BA\n",
        "Loading data for"
       ]
      },
      {
       "output_type": "stream",
       "stream": "stdout",
       "text": [
        " CAT\n",
        "Loading data for"
       ]
      },
      {
       "output_type": "stream",
       "stream": "stdout",
       "text": [
        " CSCO\n",
        "Loading data for"
       ]
      },
      {
       "output_type": "stream",
       "stream": "stdout",
       "text": [
        " CVX\n",
        "Loading data for"
       ]
      },
      {
       "output_type": "stream",
       "stream": "stdout",
       "text": [
        " DD\n",
        "Loading data for"
       ]
      },
      {
       "output_type": "stream",
       "stream": "stdout",
       "text": [
        " DIS\n",
        "Loading data for"
       ]
      },
      {
       "output_type": "stream",
       "stream": "stdout",
       "text": [
        " GE\n",
        "Loading data for"
       ]
      },
      {
       "output_type": "stream",
       "stream": "stdout",
       "text": [
        " GS\n",
        "Loading data for"
       ]
      },
      {
       "output_type": "stream",
       "stream": "stdout",
       "text": [
        " HD\n",
        "Loading data for"
       ]
      },
      {
       "output_type": "stream",
       "stream": "stdout",
       "text": [
        " IBM\n",
        "Loading data for"
       ]
      },
      {
       "output_type": "stream",
       "stream": "stdout",
       "text": [
        " INTC\n",
        "Loading data for"
       ]
      },
      {
       "output_type": "stream",
       "stream": "stdout",
       "text": [
        " JNJ\n",
        "Loading data for"
       ]
      },
      {
       "output_type": "stream",
       "stream": "stdout",
       "text": [
        " JPM\n",
        "Loading data for"
       ]
      },
      {
       "output_type": "stream",
       "stream": "stdout",
       "text": [
        " KO\n",
        "Loading data for"
       ]
      },
      {
       "output_type": "stream",
       "stream": "stdout",
       "text": [
        " MCD\n",
        "Loading data for"
       ]
      },
      {
       "output_type": "stream",
       "stream": "stdout",
       "text": [
        " MMM\n",
        "Loading data for"
       ]
      },
      {
       "output_type": "stream",
       "stream": "stdout",
       "text": [
        " MRK\n",
        "Loading data for"
       ]
      },
      {
       "output_type": "stream",
       "stream": "stdout",
       "text": [
        " MSFT\n",
        "Loading data for"
       ]
      },
      {
       "output_type": "stream",
       "stream": "stdout",
       "text": [
        " NKE\n",
        "Loading data for"
       ]
      },
      {
       "output_type": "stream",
       "stream": "stdout",
       "text": [
        " PFE\n",
        "Loading data for"
       ]
      },
      {
       "output_type": "stream",
       "stream": "stdout",
       "text": [
        " PG\n",
        "Loading data for"
       ]
      },
      {
       "output_type": "stream",
       "stream": "stdout",
       "text": [
        " T\n",
        "Loading data for"
       ]
      },
      {
       "output_type": "stream",
       "stream": "stdout",
       "text": [
        " TRV\n",
        "Loading data for"
       ]
      },
      {
       "output_type": "stream",
       "stream": "stdout",
       "text": [
        " UNH\n",
        "Loading data for"
       ]
      },
      {
       "output_type": "stream",
       "stream": "stdout",
       "text": [
        " UTX\n",
        "Loading data for"
       ]
      },
      {
       "output_type": "stream",
       "stream": "stdout",
       "text": [
        " V\n",
        "Loading data for"
       ]
      },
      {
       "output_type": "stream",
       "stream": "stdout",
       "text": [
        " VZ\n",
        "Loading data for"
       ]
      },
      {
       "output_type": "stream",
       "stream": "stdout",
       "text": [
        " WMT\n",
        "Loading data for"
       ]
      },
      {
       "output_type": "stream",
       "stream": "stdout",
       "text": [
        " XOM\n"
       ]
      }
     ],
     "prompt_number": 23
    },
    {
     "cell_type": "code",
     "collapsed": false,
     "input": [
      "# for action in df['To'].unique():\n",
      "#     print action\n",
      "    \n",
      "df[df['To'] == 'Recomm List']"
     ],
     "language": "python",
     "metadata": {},
     "outputs": [
      {
       "html": [
        "<div style=\"max-height:1000px;max-width:1500px;overflow:auto;\">\n",
        "<table border=\"1\" class=\"dataframe\">\n",
        "  <thead>\n",
        "    <tr style=\"text-align: right;\">\n",
        "      <th></th>\n",
        "      <th>Action</th>\n",
        "      <th>Date</th>\n",
        "      <th>From</th>\n",
        "      <th>Research Firm</th>\n",
        "      <th>Ticker</th>\n",
        "      <th>To</th>\n",
        "    </tr>\n",
        "  </thead>\n",
        "  <tbody>\n",
        "    <tr>\n",
        "      <th>89 </th>\n",
        "      <td>   Upgrade</td>\n",
        "      <td>2001-03-13</td>\n",
        "      <td>    Mkt Perform</td>\n",
        "      <td> Goldman Sachs</td>\n",
        "      <td>   BA</td>\n",
        "      <td> Recomm List</td>\n",
        "    </tr>\n",
        "    <tr>\n",
        "      <th>82 </th>\n",
        "      <td>   Upgrade</td>\n",
        "      <td>2000-12-06</td>\n",
        "      <td> Mkt Outperform</td>\n",
        "      <td> Goldman Sachs</td>\n",
        "      <td>   HD</td>\n",
        "      <td> Recomm List</td>\n",
        "    </tr>\n",
        "    <tr>\n",
        "      <th>95 </th>\n",
        "      <td>   Upgrade</td>\n",
        "      <td>2001-04-19</td>\n",
        "      <td> Mkt Outperform</td>\n",
        "      <td> Goldman Sachs</td>\n",
        "      <td>  IBM</td>\n",
        "      <td> Recomm List</td>\n",
        "    </tr>\n",
        "    <tr>\n",
        "      <th>57 </th>\n",
        "      <td>   Upgrade</td>\n",
        "      <td>2001-06-25</td>\n",
        "      <td> Mkt Outperform</td>\n",
        "      <td> Goldman Sachs</td>\n",
        "      <td>   KO</td>\n",
        "      <td> Recomm List</td>\n",
        "    </tr>\n",
        "    <tr>\n",
        "      <th>90 </th>\n",
        "      <td> Initiated</td>\n",
        "      <td>2000-11-29</td>\n",
        "      <td>            NaN</td>\n",
        "      <td> Goldman Sachs</td>\n",
        "      <td>  MRK</td>\n",
        "      <td> Recomm List</td>\n",
        "    </tr>\n",
        "    <tr>\n",
        "      <th>122</th>\n",
        "      <td>   Upgrade</td>\n",
        "      <td>2001-04-20</td>\n",
        "      <td> Mkt Outperform</td>\n",
        "      <td> Goldman Sachs</td>\n",
        "      <td> MSFT</td>\n",
        "      <td> Recomm List</td>\n",
        "    </tr>\n",
        "    <tr>\n",
        "      <th>71 </th>\n",
        "      <td>   Upgrade</td>\n",
        "      <td>2002-04-03</td>\n",
        "      <td> Mkt Outperform</td>\n",
        "      <td> Goldman Sachs</td>\n",
        "      <td>  NKE</td>\n",
        "      <td> Recomm List</td>\n",
        "    </tr>\n",
        "    <tr>\n",
        "      <th>72 </th>\n",
        "      <td>   Upgrade</td>\n",
        "      <td>2001-09-24</td>\n",
        "      <td> Mkt Outperform</td>\n",
        "      <td> Goldman Sachs</td>\n",
        "      <td>   PG</td>\n",
        "      <td> Recomm List</td>\n",
        "    </tr>\n",
        "    <tr>\n",
        "      <th>86 </th>\n",
        "      <td>   Upgrade</td>\n",
        "      <td>2001-09-20</td>\n",
        "      <td> Mkt Outperform</td>\n",
        "      <td> Goldman Sachs</td>\n",
        "      <td>  WMT</td>\n",
        "      <td> Recomm List</td>\n",
        "    </tr>\n",
        "  </tbody>\n",
        "</table>\n",
        "<p>9 rows \u00d7 6 columns</p>\n",
        "</div>"
       ],
       "metadata": {},
       "output_type": "pyout",
       "prompt_number": 32,
       "text": [
        "        Action       Date            From  Research Firm Ticker           To\n",
        "89     Upgrade 2001-03-13     Mkt Perform  Goldman Sachs     BA  Recomm List\n",
        "82     Upgrade 2000-12-06  Mkt Outperform  Goldman Sachs     HD  Recomm List\n",
        "95     Upgrade 2001-04-19  Mkt Outperform  Goldman Sachs    IBM  Recomm List\n",
        "57     Upgrade 2001-06-25  Mkt Outperform  Goldman Sachs     KO  Recomm List\n",
        "90   Initiated 2000-11-29             NaN  Goldman Sachs    MRK  Recomm List\n",
        "122    Upgrade 2001-04-20  Mkt Outperform  Goldman Sachs   MSFT  Recomm List\n",
        "71     Upgrade 2002-04-03  Mkt Outperform  Goldman Sachs    NKE  Recomm List\n",
        "72     Upgrade 2001-09-24  Mkt Outperform  Goldman Sachs     PG  Recomm List\n",
        "86     Upgrade 2001-09-20  Mkt Outperform  Goldman Sachs    WMT  Recomm List\n",
        "\n",
        "[9 rows x 6 columns]"
       ]
      }
     ],
     "prompt_number": 32
    }
   ],
   "metadata": {}
  }
 ]
}