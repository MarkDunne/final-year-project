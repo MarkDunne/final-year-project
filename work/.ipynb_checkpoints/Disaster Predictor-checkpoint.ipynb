{
 "cells": [
  {
   "cell_type": "code",
   "execution_count": 63,
   "metadata": {
    "collapsed": false
   },
   "outputs": [],
   "source": [
    "%matplotlib inline\n",
    "\n",
    "import common\n",
    "import numpy as np\n",
    "import pandas as pd \n",
    "import matplotlib.pyplot as plt\n",
    "\n",
    "from datetime import datetime\n",
    "from sklearn.naive_bayes import MultinomialNB\n",
    "from sklearn.linear_model import LogisticRegression\n",
    "from sklearn.cross_validation import StratifiedKFold\n",
    "from sklearn.cross_validation import cross_val_score\n",
    "\n",
    "from pylab import rcParams\n",
    "rcParams['figure.figsize'] = 12, 6"
   ]
  },
  {
   "cell_type": "code",
   "execution_count": 70,
   "metadata": {
    "collapsed": false
   },
   "outputs": [],
   "source": [
    "columns = ['start','end','country','countryISO','location','type','subtype','deaths','affected','damage','disasterid']\n",
    "disaster_html = open('../data/disaster-table.html').read()\n",
    "disasters = pd.read_html(disaster_html)[0]\n",
    "disasters.columns = columns\n",
    "disasters['duration'] = (raw_disasters['end'] - raw_disasters['start']) / np.timedelta64(1,'D')"
   ]
  },
  {
   "cell_type": "code",
   "execution_count": 71,
   "metadata": {
    "collapsed": false
   },
   "outputs": [
    {
     "data": {
      "text/plain": [
       "398"
      ]
     },
     "execution_count": 71,
     "metadata": {},
     "output_type": "execute_result"
    }
   ],
   "source": [
    "disasters.dropna(subset=['duration'], inplace=True)\n",
    "len(disasters)"
   ]
  },
  {
   "cell_type": "code",
   "execution_count": 87,
   "metadata": {
    "collapsed": false
   },
   "outputs": [
    {
     "data": {
      "text/plain": [
       "<matplotlib.text.Text at 0xa866a24c>"
      ]
     },
     "execution_count": 87,
     "metadata": {},
     "output_type": "execute_result"
    },
    {
     "data": {
      "image/png": "[encoded data removed]",
      "text/plain": [
       "<matplotlib.figure.Figure at 0xa8ca7eec>"
      ]
     },
     "metadata": {},
     "output_type": "display_data"
    }
   ],
   "source": [
    "plt.plot(disasters['duration'], linestyle='', marker='o', color='g')\n",
    "plt.ylim(-1, 150)\n",
    "plt.xlabel('Disaster ID')\n",
    "plt.ylabel('Disaster Duration in Days')"
   ]
  },
  {
   "cell_type": "code",
   "execution_count": 88,
   "metadata": {
    "collapsed": false
   },
   "outputs": [],
   "source": [
    "disasters = disasters[disasters['duration'] < 100]"
   ]
  },
  {
   "cell_type": "code",
   "execution_count": 153,
   "metadata": {
    "collapsed": false
   },
   "outputs": [
    {
     "data": {
      "text/plain": [
       "395"
      ]
     },
     "execution_count": 153,
     "metadata": {},
     "output_type": "execute_result"
    }
   ],
   "source": [
    "len(disasters)"
   ]
  },
  {
   "cell_type": "code",
   "execution_count": 111,
   "metadata": {
    "collapsed": false
   },
   "outputs": [
    {
     "data": {
      "text/html": [
       "<div style=\"max-height:1000px;max-width:1500px;overflow:auto;\">\n",
       "<table border=\"1\" class=\"dataframe\">\n",
       "  <thead>\n",
       "    <tr style=\"text-align: right;\">\n",
       "      <th></th>\n",
       "      <th>Adjusted Close</th>\n",
       "    </tr>\n",
       "    <tr>\n",
       "      <th>Date</th>\n",
       "      <th></th>\n",
       "    </tr>\n",
       "  </thead>\n",
       "  <tbody>\n",
       "    <tr>\n",
       "      <th>2000-01-03</th>\n",
       "      <td> 11357.5</td>\n",
       "    </tr>\n",
       "    <tr>\n",
       "      <th>2000-01-04</th>\n",
       "      <td> 10997.9</td>\n",
       "    </tr>\n",
       "    <tr>\n",
       "      <th>2000-01-05</th>\n",
       "      <td> 11122.7</td>\n",
       "    </tr>\n",
       "    <tr>\n",
       "      <th>2000-01-06</th>\n",
       "      <td> 11253.3</td>\n",
       "    </tr>\n",
       "    <tr>\n",
       "      <th>2000-01-07</th>\n",
       "      <td> 11522.6</td>\n",
       "    </tr>\n",
       "  </tbody>\n",
       "</table>\n",
       "</div>"
      ],
      "text/plain": [
       "            Adjusted Close\n",
       "Date                      \n",
       "2000-01-03         11357.5\n",
       "2000-01-04         10997.9\n",
       "2000-01-05         11122.7\n",
       "2000-01-06         11253.3\n",
       "2000-01-07         11522.6"
      ]
     },
     "execution_count": 111,
     "metadata": {},
     "output_type": "execute_result"
    }
   ],
   "source": [
    "prices = pd.read_csv('../data/dow-2000-2014.csv', index_col='Date', parse_dates=True)[['Adjusted Close']]\n",
    "prices.sort_index(inplace=True)\n",
    "prices[:5]"
   ]
  },
  {
   "cell_type": "code",
   "execution_count": 133,
   "metadata": {
    "collapsed": false
   },
   "outputs": [
    {
     "data": {
      "text/html": [
       "<div style=\"max-height:1000px;max-width:1500px;overflow:auto;\">\n",
       "<table border=\"1\" class=\"dataframe\">\n",
       "  <thead>\n",
       "    <tr style=\"text-align: right;\">\n",
       "      <th></th>\n",
       "      <th>Adjusted Close</th>\n",
       "    </tr>\n",
       "    <tr>\n",
       "      <th>Date</th>\n",
       "      <th></th>\n",
       "    </tr>\n",
       "  </thead>\n",
       "  <tbody>\n",
       "    <tr>\n",
       "      <th>2000-02-28</th>\n",
       "      <td> 10038.7</td>\n",
       "    </tr>\n",
       "    <tr>\n",
       "      <th>2000-02-29</th>\n",
       "      <td> 10128.3</td>\n",
       "    </tr>\n",
       "  </tbody>\n",
       "</table>\n",
       "</div>"
      ],
      "text/plain": [
       "            Adjusted Close\n",
       "Date                      \n",
       "2000-02-28         10038.7\n",
       "2000-02-29         10128.3"
      ]
     },
     "execution_count": 133,
     "metadata": {},
     "output_type": "execute_result"
    }
   ],
   "source": [
    "prices.ix[datetime(2000,2,26) : datetime(2000,2,29)]"
   ]
  },
  {
   "cell_type": "code",
   "execution_count": 165,
   "metadata": {
    "collapsed": true
   },
   "outputs": [],
   "source": [
    "prices_non_disaster = prices.copy()\n",
    "\n",
    "def price_change_between(start, end):\n",
    "    start = start - np.timedelta64(1,'D')\n",
    "    period_prices = prices.ix[start:end]\n",
    "    prices_non_disaster.ix[start:end]['Adjusted Close'] = np.nan\n",
    "    days_covered = len(period_prices)\n",
    "    if days_covered == 0:\n",
    "        return 0.0\n",
    "    else:\n",
    "        p1 = period_prices['Adjusted Close'][0]\n",
    "        p2 = period_prices['Adjusted Close'][-1]    \n",
    "        return (p2 - p1) / (p1 * days_covered)\n",
    "\n",
    "for index, disaster in disasters.iterrows():\n",
    "    disasters.loc[index, 'price_change'] = price_change_between(disaster['start'], disaster['end'])"
   ]
  },
  {
   "cell_type": "code",
   "execution_count": 168,
   "metadata": {
    "collapsed": false
   },
   "outputs": [
    {
     "data": {
      "text/plain": [
       "{'boxes': [<matplotlib.lines.Line2D at 0xa730b42c>,\n",
       "  <matplotlib.lines.Line2D at 0xa731aaac>],\n",
       " 'caps': [<matplotlib.lines.Line2D at 0xa731156c>,\n",
       "  <matplotlib.lines.Line2D at 0xa7311aac>,\n",
       "  <matplotlib.lines.Line2D at 0xa731ea6c>,\n",
       "  <matplotlib.lines.Line2D at 0xa731efac>],\n",
       " 'fliers': [<matplotlib.lines.Line2D at 0xa731a54c>,\n",
       "  <matplotlib.lines.Line2D at 0xa7324a4c>],\n",
       " 'means': [],\n",
       " 'medians': [<matplotlib.lines.Line2D at 0xa7311fec>,\n",
       "  <matplotlib.lines.Line2D at 0xa732450c>],\n",
       " 'whiskers': [<matplotlib.lines.Line2D at 0xa730baec>,\n",
       "  <matplotlib.lines.Line2D at 0xa731102c>,\n",
       "  <matplotlib.lines.Line2D at 0xa731afcc>,\n",
       "  <matplotlib.lines.Line2D at 0xa731e52c>]}"
      ]
     },
     "execution_count": 168,
     "metadata": {},
     "output_type": "execute_result"
    },
    {
     "data": {
      "image/png": "[encoded data removed]",
      "text/plain": [
       "<matplotlib.figure.Figure at 0xa7389c8c>"
      ]
     },
     "metadata": {},
     "output_type": "display_data"
    }
   ],
   "source": [
    "no_disaster_price_change = common.rdiff(prices_non_disaster['Adjusted Close'], 2).dropna()\n",
    "\n",
    "plt.boxplot([disasters['price_change'], no_disaster_price_change], labels=['Disaster Price Changes', 'No Disaster Price Changes'])\n",
    "plt.ylabel('Price Change')"
   ]
  },
  {
   "cell_type": "code",
   "execution_count": 167,
   "metadata": {
    "collapsed": false
   },
   "outputs": [
    {
     "data": {
      "text/plain": [
       "(-0.47832261778701363, 0.63245805124608256)"
      ]
     },
     "execution_count": 167,
     "metadata": {},
     "output_type": "execute_result"
    }
   ],
   "source": [
    "from scipy.stats import ttest_ind\n",
    "\n",
    "ttest_ind(disasters['price_change'], no_disaster_price_change)"
   ]
  }
 ],
 "metadata": {
  "kernelspec": {
   "display_name": "Python 2",
   "language": "python",
   "name": "python2"
  },
  "language_info": {
   "codemirror_mode": {
    "name": "ipython",
    "version": 2
   },
   "file_extension": ".py",
   "mimetype": "text/x-python",
   "name": "python",
   "nbconvert_exporter": "python",
   "pygments_lexer": "ipython2",
   "version": "2.7.9"
  }
 },
 "nbformat": 4,
 "nbformat_minor": 0
}
