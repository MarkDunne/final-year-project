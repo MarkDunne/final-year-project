{
 "metadata": {
  "name": "",
  "signature": "sha256:87d30180769f3b7ae01f751fe343a9e00f24586e214bb7adeafea953598233a4"
 },
 "nbformat": 3,
 "nbformat_minor": 0,
 "worksheets": [
  {
   "cells": [
    {
     "cell_type": "code",
     "collapsed": false,
     "input": [
      "import Quandl\n",
      "import numpy as np\n",
      "import pandas as pd\n",
      "\n",
      "from datetime import datetime\n",
      "from sklearn.linear_model import SGDClassifier\n",
      "from sklearn.linear_model import LogisticRegression\n",
      "from sklearn.cross_validation import cross_val_score\n",
      "from sklearn.cross_validation import StratifiedKFold"
     ],
     "language": "python",
     "metadata": {},
     "outputs": [],
     "prompt_number": 122
    },
    {
     "cell_type": "code",
     "collapsed": false,
     "input": [
      "start_date = datetime(2008, 1, 1)"
     ],
     "language": "python",
     "metadata": {},
     "outputs": [],
     "prompt_number": 5
    },
    {
     "cell_type": "code",
     "collapsed": false,
     "input": [
      "dji = Quandl.get(\"YAHOO/INDEX_DJI\", trim_start = start_date, transformation = 'rdiff')"
     ],
     "language": "python",
     "metadata": {},
     "outputs": [],
     "prompt_number": 8
    },
    {
     "cell_type": "code",
     "collapsed": false,
     "input": [
      "dax = Quandl.get(\"YAHOO/INDEX_GDAXI\", trim_start = start_date, transformation = 'rdiff')"
     ],
     "language": "python",
     "metadata": {},
     "outputs": [],
     "prompt_number": 9
    },
    {
     "cell_type": "code",
     "collapsed": false,
     "input": [
      "ftse = Quandl.get(\"YAHOO/INDEX_FTSE\", trim_start = start_date, transformation = 'rdiff')"
     ],
     "language": "python",
     "metadata": {},
     "outputs": [],
     "prompt_number": 10
    },
    {
     "cell_type": "code",
     "collapsed": false,
     "input": [
      "aud = Quandl.get(\"CURRFX/AUDUSD\", trim_start = start_date, transformation = 'rdiff')"
     ],
     "language": "python",
     "metadata": {},
     "outputs": [],
     "prompt_number": 81
    },
    {
     "cell_type": "code",
     "collapsed": false,
     "input": [
      "eur = Quandl.get(\"CURRFX/EURUSD\", trim_start = start_date, transformation = 'rdiff')"
     ],
     "language": "python",
     "metadata": {},
     "outputs": [],
     "prompt_number": 141
    },
    {
     "cell_type": "code",
     "collapsed": false,
     "input": [
      "dax_fut = Quandl.get(\"CHRIS/EUREX_FDAX1\", trim_start = start_date, transformation = 'rdiff')"
     ],
     "language": "python",
     "metadata": {},
     "outputs": [],
     "prompt_number": 169
    },
    {
     "cell_type": "code",
     "collapsed": false,
     "input": [
      "dji_change = pd.DataFrame({'pc_change' : dji['Adjusted Close']})#, 'pc_change_class': dji['Adjusted Close'] > 0})\n",
      "dax_change = pd.DataFrame({'pc_change' : dax['Adjusted Close']})#, 'pc_change_class': dax['Adjusted Close'] > 0})\n",
      "ftse_change = pd.DataFrame({'pc_change' : ftse['Adjusted Close']})#, 'pc_change_class': ftse['Adjusted Close'] > 0})\n",
      "aud_change = pd.DataFrame({'pc_change': aud['Rate']})\n",
      "eur_change = pd.DataFrame({'pc_change': eur['Rate']})\n",
      "# dax_fut_change = pd.DataFrame({'pc_change': dax_fut['Settle']})"
     ],
     "language": "python",
     "metadata": {},
     "outputs": [],
     "prompt_number": 189
    },
    {
     "cell_type": "code",
     "collapsed": false,
     "input": [
      "dataset = dji_change.join(dax_change, rsuffix='_dax', how='inner')\n",
      "dataset = dataset.join(ftse_change, rsuffix='_ftse', how='inner')\n",
      "dataset = dataset.join(aud_change, rsuffix='_aud', how='inner')\n",
      "dataset = dataset.join(eur_change, rsuffix='_eur', how='inner')\n",
      "# dataset = dataset.join(dax_fut_change, rsuffix='_dax_fut', how='inner')\n",
      "\n",
      "dataset.loc[dataset['pc_change'] > 0 , 'trend'] = 'Gain'\n",
      "dataset.loc[dataset['pc_change'] < 0 , 'trend'] = 'Loss'\n",
      "\n",
      "# drop no-change events (only 2 exist)\n",
      "dataset = dataset.dropna()\n",
      "\n",
      "dataset = dataset.take(np.random.permutation(len(dataset)))"
     ],
     "language": "python",
     "metadata": {},
     "outputs": [],
     "prompt_number": 193
    },
    {
     "cell_type": "code",
     "collapsed": false,
     "input": [
      "len(dataset)"
     ],
     "language": "python",
     "metadata": {},
     "outputs": [
      {
       "metadata": {},
       "output_type": "pyout",
       "prompt_number": 194,
       "text": [
        "3762"
       ]
      }
     ],
     "prompt_number": 194
    },
    {
     "cell_type": "code",
     "collapsed": false,
     "input": [
      "X = dataset.drop(['trend', 'pc_change'], axis=1)\n",
      "# X = dataset[['pc_change_dax']]\n",
      "y = dataset['trend']\n",
      "\n",
      "classifer = LogisticRegression()\n",
      "folds = StratifiedKFold(y, n_folds = 10)\n",
      "scores = cross_val_score(classifer, X, y, cv = folds)\n",
      "\n",
      "print np.mean(scores)"
     ],
     "language": "python",
     "metadata": {},
     "outputs": [
      {
       "output_type": "stream",
       "stream": "stdout",
       "text": [
        "0.65231577779\n"
       ]
      }
     ],
     "prompt_number": 195
    }
   ],
   "metadata": {}
  }
 ]
}