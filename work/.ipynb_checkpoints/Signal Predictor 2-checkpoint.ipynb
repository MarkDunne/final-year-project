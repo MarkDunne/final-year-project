{
 "cells": [
  {
   "cell_type": "code",
   "execution_count": 25,
   "metadata": {
    "collapsed": false
   },
   "outputs": [],
   "source": [
    "%matplotlib inline\n",
    "\n",
    "import common\n",
    "import numpy as np\n",
    "import pandas as pd\n",
    "import matplotlib.pyplot as plt\n",
    "\n",
    "from sklearn.pipeline import Pipeline\n",
    "from sklearn.preprocessing import StandardScaler\n",
    "from sklearn.linear_model import LogisticRegression\n",
    "from sklearn.neighbors import KNeighborsClassifier\n",
    "from sklearn.svm import LinearSVC\n",
    "from sklearn.naive_bayes import GaussianNB\n",
    "from sklearn.cross_validation import cross_val_score\n",
    "from sklearn.metrics import make_scorer\n",
    "from sklearn.metrics import confusion_matrix\n",
    "from sklearn.metrics import accuracy_score\n",
    "from sklearn.preprocessing import StandardScaler\n",
    "from sklearn.grid_search import GridSearchCV\n",
    "from sklearn.feature_selection import SelectKBest\n",
    "from sklearn.feature_selection import f_classif\n",
    "\n",
    "from datetime import datetime\n",
    "from pylab import rcParams\n",
    "rcParams['figure.figsize'] = 12, 6"
   ]
  },
  {
   "cell_type": "code",
   "execution_count": 3,
   "metadata": {
    "collapsed": false
   },
   "outputs": [
    {
     "name": "stdout",
     "output_type": "stream",
     "text": [
      "Loading prices from cache\n"
     ]
    }
   ],
   "source": [
    "DJIA = pd.read_csv('../data/DowJonesIA.csv')\n",
    "prices = common.load_quandl_absolute_prices(DJIA, datetime(2000, 1, 1))"
   ]
  },
  {
   "cell_type": "code",
   "execution_count": 4,
   "metadata": {
    "collapsed": true
   },
   "outputs": [],
   "source": [
    "def weighted_ma(prices):\n",
    "    n = len(prices)\n",
    "    coeff = np.arange(1, n + 1)\n",
    "    weighted = prices * coeff\n",
    "    return weighted.sum() / coeff.sum()\n",
    "\n",
    "def momentum(prices):\n",
    "    return (prices[-1] - prices[0]) / prices[0]\n",
    "\n",
    "def bollinger(prices):\n",
    "    m = prices.mean()\n",
    "    s = prices.std()\n",
    "    return (prices[-1] - m) / s\n",
    "\n",
    "def RSI(series):\n",
    "    delta = series.diff()\n",
    "    ups, dns = delta.copy(), delta.copy()\n",
    "    ups.loc[ups < 0] = 0\n",
    "    dns.loc[ups > 0] = 0\n",
    "    rs = pd.rolling_mean(ups, 10).values + pd.rolling_mean(dns, 10).values\n",
    "    rsi = 100 - 100 / (1 + rs)\n",
    "    return rsi\n",
    "\n",
    "def stochastic(prices):\n",
    "    low = prices.min()\n",
    "    high = prices.max()\n",
    "    return (prices[-1] - low) / (high - low)"
   ]
  },
  {
   "cell_type": "markdown",
   "metadata": {},
   "source": [
    "Items in rolling apply are in the same order they are in the source series"
   ]
  },
  {
   "cell_type": "code",
   "execution_count": 5,
   "metadata": {
    "collapsed": false
   },
   "outputs": [
    {
     "name": "stderr",
     "output_type": "stream",
     "text": [
      "/home/mark/anaconda/lib/python2.7/site-packages/pandas/core/indexing.py:389: SettingWithCopyWarning: A value is trying to be set on a copy of a slice from a DataFrame.\n",
      "Try using .loc[row_index,col_indexer] = value instead\n",
      "  self.obj[item] = s\n"
     ]
    }
   ],
   "source": [
    "dataset = pd.DataFrame()\n",
    "\n",
    "for ticker in prices['Ticker'].unique():\n",
    "    ticker_prices = prices[prices['Ticker'] == ticker] \n",
    "\n",
    "    ticker_prices.loc[:,'wma'] = pd.rolling_apply(ticker_prices['Close'], 10, weighted_ma)\n",
    "    ticker_prices.loc[:,'mom'] = pd.rolling_apply(ticker_prices['Close'], 10, momentum)\n",
    "    ticker_prices.loc[:,'bol'] = pd.rolling_apply(ticker_prices['Close'], 10, bollinger)  \n",
    "    ticker_prices.loc[:,'rsi'] = RSI(ticker_prices['Close'])\n",
    "    \n",
    "    sto_k = pd.rolling_apply(ticker_prices['Close'], 10, stochastic) \n",
    "    sto_d = pd.rolling_mean(sto_k, 3)\n",
    "    ticker_prices.loc[:,'sto'] = sto_k - sto_d    \n",
    "        \n",
    "    features = ['wma', 'mom', 'bol', 'rsi', 'sto']\n",
    "    ticker_data = ticker_prices[features]\n",
    "    ticker_data = (ticker_data - ticker_data.mean()) / ticker_data.std()\n",
    "\n",
    "    # dependent variables\n",
    "    ticker_prices.loc[:, 'y'] = common.rdiff(ticker_prices.shift(-1)['Close'], 2)\n",
    "    ticker_prices.loc[:, 'yClass'] = 'Neutral'\n",
    "    ticker_data.loc[ticker_prices['y'] > 0, 'yClass'] = 'Gain'\n",
    "    ticker_data.loc[ticker_prices['y'] < 0, 'yClass'] = 'Loss'\n",
    "    \n",
    "    dataset = dataset.append(ticker_data)"
   ]
  },
  {
   "cell_type": "code",
   "execution_count": 6,
   "metadata": {
    "collapsed": false
   },
   "outputs": [],
   "source": [
    "dataset = dataset.dropna()"
   ]
  },
  {
   "cell_type": "code",
   "execution_count": 8,
   "metadata": {
    "collapsed": false
   },
   "outputs": [
    {
     "data": {
      "text/plain": [
       "95407"
      ]
     },
     "execution_count": 8,
     "metadata": {},
     "output_type": "execute_result"
    }
   ],
   "source": [
    "len(dataset)"
   ]
  },
  {
   "cell_type": "markdown",
   "metadata": {},
   "source": [
    "# Error Estimation"
   ]
  },
  {
   "cell_type": "markdown",
   "metadata": {},
   "source": [
    "## LogisticRegression "
   ]
  },
  {
   "cell_type": "code",
   "execution_count": 12,
   "metadata": {
    "collapsed": false
   },
   "outputs": [
    {
     "data": {
      "text/plain": [
       "0.51438575917638474"
      ]
     },
     "execution_count": 12,
     "metadata": {},
     "output_type": "execute_result"
    }
   ],
   "source": [
    "X = dataset.drop(['yClass'], axis=1)\n",
    "y = dataset['yClass']\n",
    "\n",
    "pipe = Pipeline([\n",
    "    ('classifier', LogisticRegression())\n",
    "])\n",
    "\n",
    "hyperparams = {\n",
    "    'classifier__penalty': ['l1', 'l2'],\n",
    "}\n",
    "\n",
    "gs = GridSearchCV(pipe, hyperparams)\n",
    "scores = cross_val_score(gs, X, y, cv = 10)\n",
    "scores.mean()"
   ]
  },
  {
   "cell_type": "markdown",
   "metadata": {},
   "source": [
    "0.51439624355396996"
   ]
  },
  {
   "cell_type": "markdown",
   "metadata": {},
   "source": [
    "## GaussianNB"
   ]
  },
  {
   "cell_type": "code",
   "execution_count": 23,
   "metadata": {
    "collapsed": false
   },
   "outputs": [
    {
     "name": "stdout",
     "output_type": "stream",
     "text": [
      "Fitting 3 folds for each of 4 candidates, totalling 12 fits\n",
      "[CV] selector__k=1 ...................................................\n",
      "[CV] .......................................... selector__k=1 -   0.2s\n",
      "[CV] selector__k=1 ...................................................\n",
      "[CV] .......................................... selector__k=1 -   0.2s\n",
      "[CV] selector__k=1 ...................................................\n",
      "[CV] .......................................... selector__k=1 -   0.2s\n",
      "[CV] selector__k=2 ...................................................\n",
      "[CV] .......................................... selector__k=2 -   0.3s\n",
      "[CV] selector__k=2 ...................................................\n",
      "[CV] .......................................... selector__k=2 -   0.3s\n",
      "[CV] selector__k=2 ...................................................\n",
      "[CV] .......................................... selector__k=2 -   0.3s\n",
      "[CV] selector__k=3 ...................................................\n",
      "[CV] .......................................... selector__k=3 -   0.3s\n",
      "[CV] selector__k=3 ...................................................\n",
      "[CV] .......................................... selector__k=3 -   0.3s\n",
      "[CV] selector__k=3 ...................................................\n",
      "[CV] .......................................... selector__k=3 -   0.3s\n",
      "[CV] selector__k=4 ...................................................\n",
      "[CV] .......................................... selector__k=4 -   0.4s\n",
      "[CV] selector__k=4 ...................................................\n",
      "[CV] .......................................... selector__k=4 -   0.4s\n",
      "[CV] selector__k=4 ...................................................\n",
      "[CV] .......................................... selector__k=4 -   0.4s"
     ]
    },
    {
     "name": "stderr",
     "output_type": "stream",
     "text": [
      "[Parallel(n_jobs=1)]: Done   1 jobs       | elapsed:    0.3s\n",
      "[Parallel(n_jobs=1)]: Done  12 out of  12 | elapsed:    3.6s finished\n"
     ]
    },
    {
     "name": "stdout",
     "output_type": "stream",
     "text": [
      "\n",
      "Fitting 3 folds for each of 4 candidates, totalling 12 fits\n",
      "[CV] selector__k=1 ...................................................\n",
      "[CV] .......................................... selector__k=1 -   0.2s\n",
      "[CV] selector__k=1 ...................................................\n",
      "[CV] .......................................... selector__k=1 -   0.2s\n",
      "[CV] selector__k=1 ...................................................\n",
      "[CV] .......................................... selector__k=1 -   0.2s\n",
      "[CV] selector__k=2 ...................................................\n",
      "[CV] .......................................... selector__k=2 -   0.3s\n",
      "[CV] selector__k=2 ...................................................\n",
      "[CV] .......................................... selector__k=2 -   0.3s\n",
      "[CV] selector__k=2 ...................................................\n",
      "[CV] .......................................... selector__k=2 -   0.3s\n",
      "[CV] selector__k=3 ...................................................\n",
      "[CV] .......................................... selector__k=3 -   0.3s\n",
      "[CV] selector__k=3 ...................................................\n",
      "[CV] .......................................... selector__k=3 -   0.3s\n",
      "[CV] selector__k=3 ...................................................\n",
      "[CV] .......................................... selector__k=3 -   0.3s\n",
      "[CV] selector__k=4 ...................................................\n",
      "[CV] .......................................... selector__k=4 -   0.3s\n",
      "[CV] selector__k=4 ...................................................\n",
      "[CV] .......................................... selector__k=4 -   0.4s\n",
      "[CV] selector__k=4 ...................................................\n",
      "[CV] .......................................... selector__k=4 -   0.3s"
     ]
    },
    {
     "name": "stderr",
     "output_type": "stream",
     "text": [
      "[Parallel(n_jobs=1)]: Done   1 jobs       | elapsed:    0.2s\n",
      "[Parallel(n_jobs=1)]: Done  12 out of  12 | elapsed:    3.7s finished\n"
     ]
    },
    {
     "name": "stdout",
     "output_type": "stream",
     "text": [
      "\n",
      "Fitting 3 folds for each of 4 candidates, totalling 12 fits\n",
      "[CV] selector__k=1 ...................................................\n",
      "[CV] .......................................... selector__k=1 -   0.2s\n",
      "[CV] selector__k=1 ...................................................\n",
      "[CV] .......................................... selector__k=1 -   0.2s\n",
      "[CV] selector__k=1 ...................................................\n",
      "[CV] .......................................... selector__k=1 -   0.2s\n",
      "[CV] selector__k=2 ...................................................\n",
      "[CV] .......................................... selector__k=2 -   0.3s\n",
      "[CV] selector__k=2 ...................................................\n",
      "[CV] .......................................... selector__k=2 -   0.3s\n",
      "[CV] selector__k=2 ...................................................\n",
      "[CV] .......................................... selector__k=2 -   0.3s\n",
      "[CV] selector__k=3 ...................................................\n",
      "[CV] .......................................... selector__k=3 -   0.3s\n",
      "[CV] selector__k=3 ...................................................\n",
      "[CV] .......................................... selector__k=3 -   0.3s\n",
      "[CV] selector__k=3 ...................................................\n",
      "[CV] .......................................... selector__k=3 -   0.3s\n",
      "[CV] selector__k=4 ...................................................\n",
      "[CV] .......................................... selector__k=4 -   0.4s\n",
      "[CV] selector__k=4 ...................................................\n",
      "[CV] .......................................... selector__k=4 -   0.5s\n",
      "[CV] selector__k=4 ...................................................\n",
      "[CV] .......................................... selector__k=4 -   0.4s"
     ]
    },
    {
     "name": "stderr",
     "output_type": "stream",
     "text": [
      "[Parallel(n_jobs=1)]: Done   1 jobs       | elapsed:    0.2s\n",
      "[Parallel(n_jobs=1)]: Done  12 out of  12 | elapsed:    3.7s finished\n"
     ]
    },
    {
     "name": "stdout",
     "output_type": "stream",
     "text": [
      "\n"
     ]
    },
    {
     "data": {
      "text/plain": [
       "0.51314893850442778"
      ]
     },
     "execution_count": 23,
     "metadata": {},
     "output_type": "execute_result"
    }
   ],
   "source": [
    "X = dataset.drop(['yClass'], axis=1)\n",
    "y = dataset['yClass']\n",
    "\n",
    "pipe = Pipeline([\n",
    "    ('selector', SelectKBest(f_classif)),\n",
    "    ('classifier', GaussianNB())\n",
    "])\n",
    "\n",
    "hyperparams = {\n",
    "    'selector__k': np.arange(1, X.shape[1]),\n",
    "}\n",
    "\n",
    "gs = GridSearchCV(pipe, hyperparams, verbose=2)\n",
    "scores = cross_val_score(gs, X, y)\n",
    "scores.mean()"
   ]
  },
  {
   "cell_type": "markdown",
   "metadata": {},
   "source": [
    "## kNN"
   ]
  },
  {
   "cell_type": "code",
   "execution_count": 19,
   "metadata": {
    "collapsed": false
   },
   "outputs": [
    {
     "data": {
      "text/plain": [
       "0.50347442143660248"
      ]
     },
     "execution_count": 19,
     "metadata": {},
     "output_type": "execute_result"
    }
   ],
   "source": [
    "X = dataset.drop(['yClass'], axis=1)\n",
    "y = dataset['yClass']\n",
    "\n",
    "pipe = Pipeline([\n",
    "    ('classifier', KNeighborsClassifier(3, weights='distance'))\n",
    "])\n",
    "\n",
    "hyperparams = {\n",
    "    'classifier__n_neighbors': [6, 8, 10, 12, 14],\n",
    "    'classifier__weights': ['uniform', 'distance']\n",
    "}\n",
    "\n",
    "# gs = GridSearchCV(pipe, hyperparams, verbose=10)\n",
    "scores = cross_val_score(pipe, X, y, cv = 10)\n",
    "scores.mean()"
   ]
  },
  {
   "cell_type": "markdown",
   "metadata": {},
   "source": [
    "## SVM"
   ]
  },
  {
   "cell_type": "code",
   "execution_count": null,
   "metadata": {
    "collapsed": true
   },
   "outputs": [],
   "source": [
    "X = dataset.drop(['yClass'], axis=1)\n",
    "y = dataset['yClass']\n",
    "\n",
    "pipe = Pipeline([\n",
    "    ('classifier', LinearSVC())\n",
    "])\n",
    "\n",
    "hyperparams = {\n",
    "    'classifier__n_neighbors': [6, 8, 10, 12, 14],\n",
    "    'classifier__weights': ['uniform', 'distance']\n",
    "}\n",
    "\n",
    "# gs = GridSearchCV(pipe, hyperparams, verbose=10)\n",
    "scores = cross_val_score(pipe, X, y)\n",
    "scores.mean()"
   ]
  }
 ],
 "metadata": {
  "kernelspec": {
   "display_name": "Python 2",
   "language": "python",
   "name": "python2"
  },
  "language_info": {
   "codemirror_mode": {
    "name": "ipython",
    "version": 2
   },
   "file_extension": ".py",
   "mimetype": "text/x-python",
   "name": "python",
   "nbconvert_exporter": "python",
   "pygments_lexer": "ipython2",
   "version": "2.7.9"
  }
 },
 "nbformat": 4,
 "nbformat_minor": 0
}
