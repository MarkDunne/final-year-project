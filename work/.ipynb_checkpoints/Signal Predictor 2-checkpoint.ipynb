{
 "cells": [
  {
   "cell_type": "code",
   "execution_count": 1,
   "metadata": {
    "collapsed": true
   },
   "outputs": [],
   "source": [
    "%matplotlib inline\n",
    "\n",
    "import common\n",
    "import numpy as np\n",
    "import pandas as pd\n",
    "import matplotlib.pyplot as plt\n",
    "\n",
    "from sklearn.pipeline import Pipeline\n",
    "from sklearn.preprocessing import StandardScaler\n",
    "from sklearn.linear_model import LogisticRegression\n",
    "from sklearn.naive_bayes import GaussianNB\n",
    "from sklearn.cross_validation import cross_val_score\n",
    "from sklearn.metrics import make_scorer\n",
    "from sklearn.metrics import confusion_matrix\n",
    "from sklearn.metrics import accuracy_score\n",
    "from sklearn.preprocessing import StandardScaler\n",
    "from sklearn.grid_search import GridSearchCV\n",
    "from sklearn.feature_selection import SelectKBest\n",
    "from sklearn.feature_selection import f_classif\n",
    "import pand\n",
    "\n",
    "from datetime import datetime\n",
    "from pylab import rcParams\n",
    "rcParams['figure.figsize'] = 12, 6"
   ]
  },
  {
   "cell_type": "code",
   "execution_count": 2,
   "metadata": {
    "collapsed": false
   },
   "outputs": [
    {
     "name": "stdout",
     "output_type": "stream",
     "text": [
      "Loading prices from cache\n"
     ]
    }
   ],
   "source": [
    "DJIA = pd.read_csv('../data/DowJonesIA.csv')\n",
    "prices = common.load_quandl_absolute_prices(DJIA, datetime(2000, 1, 1))"
   ]
  },
  {
   "cell_type": "code",
   "execution_count": 45,
   "metadata": {
    "collapsed": true
   },
   "outputs": [],
   "source": [
    "def weighted_ma(prices):\n",
    "    n = len(prices)\n",
    "    coeff = np.arange(1, n + 1)\n",
    "    weighted = prices * coeff\n",
    "    return weighted.sum() / coeff.sum()\n",
    "\n",
    "def momentum(prices):\n",
    "    return (prices[-1] - prices[0]) / prices[0]\n",
    "\n",
    "def bollinger(prices):\n",
    "    m = prices.mean()\n",
    "    s = prices.std()\n",
    "    return (prices[-1] - m) / s\n",
    "\n",
    "def RSI(series):\n",
    "    delta = series.diff()\n",
    "    ups, dns = delta.copy(), delta.copy()\n",
    "    ups.loc[ups < 0] = 0\n",
    "    dns.loc[ups > 0] = 0\n",
    "    rs = pd.rolling_mean(ups, 10).values + pd.rolling_mean(dns, 10).values\n",
    "    rsi = 100 - 100 / (1 + rs)\n",
    "    return rsi\n",
    "\n",
    "def stochastic(prices):\n",
    "    low = prices.min()\n",
    "    high = prices.max()\n",
    "    return (prices[-1] - low) / (high - low)"
   ]
  },
  {
   "cell_type": "markdown",
   "metadata": {},
   "source": [
    "Items in rolling apply are in the same order they are in the source series"
   ]
  },
  {
   "cell_type": "code",
   "execution_count": 47,
   "metadata": {
    "collapsed": false
   },
   "outputs": [],
   "source": [
    "dataset = pd.DataFrame()\n",
    "\n",
    "for ticker in prices['Ticker'].unique():\n",
    "    ticker_prices = prices[prices['Ticker'] == ticker] \n",
    "\n",
    "    ticker_prices.loc[:,'wma'] = pd.rolling_apply(ticker_prices['Close'], 10, weighted_ma)\n",
    "    ticker_prices.loc[:,'mom'] = pd.rolling_apply(ticker_prices['Close'], 10, momentum)\n",
    "    ticker_prices.loc[:,'bol'] = pd.rolling_apply(ticker_prices['Close'], 10, bollinger)  \n",
    "    ticker_prices.loc[:,'rsi'] = RSI(ticker_prices['Close'])\n",
    "    \n",
    "    sto_k = pd.rolling_apply(ticker_prices['Close'], 10, stochastic) \n",
    "    sto_d = pd.rolling_mean(sto_k, 3)\n",
    "    ticker_prices.loc[:,'sto'] = sto_k - sto_d    \n",
    "        \n",
    "    features = ['wma', 'mom', 'bol', 'rsi', 'sto']\n",
    "    ticker_data = ticker_prices[features]\n",
    "    ticker_data = (ticker_data - ticker_data.mean()) / ticker_data.std()\n",
    "\n",
    "    # dependent variables\n",
    "    ticker_prices.loc[:, 'y'] = common.rdiff(ticker_prices.shift(-1)['Close'], 2)\n",
    "    ticker_prices.loc[:, 'yClass'] = 'Neutral'\n",
    "    ticker_data.loc[ticker_prices['y'] > 0, 'yClass'] = 'Gain'\n",
    "    ticker_data.loc[ticker_prices['y'] < 0, 'yClass'] = 'Loss'\n",
    "    \n",
    "    dataset = dataset.append(ticker_data)"
   ]
  },
  {
   "cell_type": "code",
   "execution_count": 52,
   "metadata": {
    "collapsed": false
   },
   "outputs": [
    {
     "data": {
      "text/plain": [
       "wma       112178\n",
       "mom       112178\n",
       "bol       112178\n",
       "rsi        96861\n",
       "yClass    110824\n",
       "dtype: int64"
      ]
     },
     "execution_count": 52,
     "metadata": {},
     "output_type": "execute_result"
    }
   ],
   "source": [
    "dataset.count()"
   ]
  },
  {
   "cell_type": "code",
   "execution_count": 66,
   "metadata": {
    "collapsed": false
   },
   "outputs": [],
   "source": [
    "dataset = dataset.dropna()"
   ]
  },
  {
   "cell_type": "markdown",
   "metadata": {},
   "source": [
    "# Error Estimation"
   ]
  },
  {
   "cell_type": "markdown",
   "metadata": {},
   "source": [
    "## LogisticRegression "
   ]
  },
  {
   "cell_type": "code",
   "execution_count": 73,
   "metadata": {
    "collapsed": false
   },
   "outputs": [
    {
     "data": {
      "text/plain": [
       "0.51520531596382058"
      ]
     },
     "execution_count": 73,
     "metadata": {},
     "output_type": "execute_result"
    }
   ],
   "source": [
    "X = dataset.drop(['yClass'], axis=1)\n",
    "y = dataset['yClass']\n",
    "\n",
    "pipe = Pipeline([\n",
    "    ('classifier', LogisticRegression())\n",
    "])\n",
    "\n",
    "scores = cross_val_score(pipe, X, y, cv = 10)\n",
    "scores.mean()"
   ]
  },
  {
   "cell_type": "markdown",
   "metadata": {},
   "source": [
    "## GaussianNB"
   ]
  },
  {
   "cell_type": "code",
   "execution_count": 70,
   "metadata": {
    "collapsed": false
   },
   "outputs": [
    {
     "data": {
      "text/plain": [
       "0.51343296619428802"
      ]
     },
     "execution_count": 70,
     "metadata": {},
     "output_type": "execute_result"
    }
   ],
   "source": [
    "X = dataset.drop(['yClass'], axis=1)\n",
    "y = dataset['yClass']\n",
    "\n",
    "pipe = Pipeline([\n",
    "    ('selector', SelectKBest(f_classif)),\n",
    "    ('classifier', GaussianNB())\n",
    "])\n",
    "\n",
    "hyperparams = {\n",
    "    'selector__k': np.arange(1, X.shape[1]),\n",
    "}\n",
    "\n",
    "gs = GridSearchCV(pipe, hyperparams, cv = 10)\n",
    "scores = cross_val_score(gs, X, y, cv = 10)\n",
    "scores.mean()"
   ]
  }
 ],
 "metadata": {
  "kernelspec": {
   "display_name": "Python 2",
   "language": "python",
   "name": "python2"
  },
  "language_info": {
   "codemirror_mode": {
    "name": "ipython",
    "version": 2
   },
   "file_extension": ".py",
   "mimetype": "text/x-python",
   "name": "python",
   "nbconvert_exporter": "python",
   "pygments_lexer": "ipython2",
   "version": "2.7.9"
  }
 },
 "nbformat": 4,
 "nbformat_minor": 0
}
