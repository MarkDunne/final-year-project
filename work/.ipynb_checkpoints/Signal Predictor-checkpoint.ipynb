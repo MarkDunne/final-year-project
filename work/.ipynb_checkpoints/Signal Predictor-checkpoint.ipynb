{
 "metadata": {
  "name": "",
  "signature": "sha256:71b733f2d20ecf19c6692a80f037319a920fcf63a785a0a5175fdc54e6c6fef2"
 },
 "nbformat": 3,
 "nbformat_minor": 0,
 "worksheets": [
  {
   "cells": [
    {
     "cell_type": "code",
     "collapsed": false,
     "input": [
      "%matplotlib inline\n",
      "\n",
      "import talib\n",
      "import common\n",
      "import numpy as np\n",
      "import pandas as pd\n",
      "\n",
      "from sklearn.pipeline import Pipeline\n",
      "from sklearn.preprocessing import StandardScaler\n",
      "from sklearn.linear_model import LogisticRegression\n",
      "from sklearn.cross_validation import cross_val_score\n",
      "from sklearn.metrics import make_scorer\n",
      "from sklearn.metrics import confusion_matrix\n",
      "\n",
      "from datetime import datetime"
     ],
     "language": "python",
     "metadata": {},
     "outputs": [],
     "prompt_number": 82
    },
    {
     "cell_type": "code",
     "collapsed": false,
     "input": [
      "DJIA = pd.read_csv('../data/DowJonesIA.csv')"
     ],
     "language": "python",
     "metadata": {},
     "outputs": [],
     "prompt_number": 2
    },
    {
     "cell_type": "code",
     "collapsed": false,
     "input": [
      "prices = common.load_quandl_absolute_prices(DJIA, datetime(2000, 1, 1))"
     ],
     "language": "python",
     "metadata": {},
     "outputs": [
      {
       "output_type": "stream",
       "stream": "stdout",
       "text": [
        "Loading prices from cache\n"
       ]
      }
     ],
     "prompt_number": 3
    },
    {
     "cell_type": "code",
     "collapsed": false,
     "input": [
      "def sign(num):\n",
      "    if num < 0:\n",
      "        return -1\n",
      "    if num == 0:\n",
      "        return 0\n",
      "    if num > 0:\n",
      "        return 1\n",
      "\n",
      "def crossover(df, col1, col2):\n",
      "    def find_crossover(vals):\n",
      "        if sign(vals[0]) == sign(vals[1]):\n",
      "            return 0\n",
      "        else:\n",
      "            return sign(vals[0])\n",
      "    \n",
      "    diff = df[col2] - df[col1]\n",
      "    return pd.rolling_apply(diff, 2, find_crossover)"
     ],
     "language": "python",
     "metadata": {},
     "outputs": [],
     "prompt_number": 85
    },
    {
     "cell_type": "code",
     "collapsed": false,
     "input": [
      "def kappa(cm):\n",
      "    num_classes = len(cm)\n",
      "    sum_all = 0\n",
      "    sum_diag = 0\n",
      "    sum_rands = 0\n",
      "    for i in range(0, num_classes):\n",
      "        sum_diag = sum_diag + cm[i, i]\n",
      "        sum_col = 0\n",
      "        sum_row = 0\n",
      "        for j in range(0, num_classes):\n",
      "            sum_col = sum_col + cm[j, i]\n",
      "            sum_row = sum_row + cm[i, j]\n",
      "            sum_all = sum_all + cm[i, j]\n",
      "        sum_rands = sum_rands + sum_row * sum_col\n",
      "    acc = sum_diag * 1.0 / sum_all\n",
      "    rand = sum_rands * 1.0 / (sum_all * sum_all)\n",
      "    return (acc - rand) / (1 - rand)\n",
      "\n",
      "kappa_scorer = make_scorer(lambda y_true, y_pred: kappa(confusion_matrix(y_true, y_pred)), greater_is_better=True)"
     ],
     "language": "python",
     "metadata": {},
     "outputs": [],
     "prompt_number": 86
    },
    {
     "cell_type": "code",
     "collapsed": false,
     "input": [
      "dataset = pd.DataFrame()\n",
      "\n",
      "for ticker in prices['Ticker'].unique():\n",
      "    ticker_prices = prices[prices['Ticker'] == ticker]\n",
      "        \n",
      "    #Moving averages\n",
      "    ticker_prices['10MA'] = pd.rolling_mean(ticker_prices['Close'], 10)\n",
      "    ticker_prices['20MA'] = pd.rolling_mean(ticker_prices['Close'], 20)\n",
      "    ticker_prices['MACrossover'] = crossover(ticker_prices, '10MA', '20MA')\n",
      "    ticker_prices['momentum'] = talib.MOM(ticker_prices['Close'].values)\n",
      "    \n",
      "    #dependent variables\n",
      "    five_day_movement = pd.rolling_mean(common.rdiff(ticker_prices.shift(-5)['Close'], 2), 5)\n",
      "    ticker_prices['y'] = five_day_movement \n",
      "    ticker_prices.loc[ticker_prices['y'] > 0, 'yClass'] = 'Gain'\n",
      "    ticker_prices.loc[ticker_prices['y'] < 0, 'yClass'] = 'Loss'\n",
      "    \n",
      "    dataset = dataset.append(ticker_prices)"
     ],
     "language": "python",
     "metadata": {},
     "outputs": [],
     "prompt_number": 89
    },
    {
     "cell_type": "code",
     "collapsed": false,
     "input": [
      "dataset.dropna(inplace=True)"
     ],
     "language": "python",
     "metadata": {},
     "outputs": [],
     "prompt_number": 90
    },
    {
     "cell_type": "markdown",
     "metadata": {},
     "source": [
      "Should decide \n",
      "* cross val methodology\n",
      "* score metric\n",
      "* features"
     ]
    },
    {
     "cell_type": "code",
     "collapsed": false,
     "input": [
      "dataset = dataset.take(np.random.permutation(len(dataset)))\n",
      "X = dataset.drop(['y', 'yClass', 'Ticker'], axis=1)\n",
      "y = dataset['yClass']"
     ],
     "language": "python",
     "metadata": {},
     "outputs": [],
     "prompt_number": 91
    },
    {
     "cell_type": "code",
     "collapsed": false,
     "input": [
      "pipe = Pipeline([\n",
      "    ('scaler', StandardScaler()),\n",
      "    ('classifier', LogisticRegression())\n",
      "])\n",
      "\n",
      "scores = cross_val_score(pipe, X, y, cv = 10, scoring=kappa_scorer)\n",
      "scores.mean()"
     ],
     "language": "python",
     "metadata": {},
     "outputs": [
      {
       "metadata": {},
       "output_type": "pyout",
       "prompt_number": 92,
       "text": [
        "0.53581979254447565"
       ]
      }
     ],
     "prompt_number": 92
    }
   ],
   "metadata": {}
  }
 ]
}