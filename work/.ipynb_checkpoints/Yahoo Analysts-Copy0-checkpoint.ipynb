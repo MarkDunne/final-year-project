{
 "metadata": {
  "name": "",
  "signature": "sha256:f73762cf02b1e05dffdb68c924637e0f4f1a79ac5e2a97be75a8dab4628b6654"
 },
 "nbformat": 3,
 "nbformat_minor": 0,
 "worksheets": [
  {
   "cells": [
    {
     "cell_type": "code",
     "collapsed": false,
     "input": [
      "%matplotlib inline\n",
      "\n",
      "import os\n",
      "import Quandl\n",
      "import common\n",
      "import urllib2\n",
      "import numpy as np\n",
      "import pandas as pd\n",
      "from datetime import datetime\n",
      "import matplotlib.pyplot as plt\n",
      "import matplotlib.dates as mdates\n",
      "import matplotlib.cbook as cbook\n",
      "import pandas.io.data as web\n",
      "from bs4 import BeautifulSoup\n",
      "from IPython.display import HTML\n",
      "from pandas.stats.moments import rolling_apply\n",
      "from sklearn.utils import shuffle\n",
      "from sklearn.cross_validation import cross_val_score\n",
      "from sklearn.cross_validation import KFold\n",
      "from sklearn.cross_validation import train_test_split\n",
      "from sklearn.naive_bayes import MultinomialNB\n",
      "from sklearn.neighbors import KNeighborsClassifier\n",
      "from sklearn.svm import SVC\n",
      "from sklearn.metrics import classification_report\n",
      "from sklearn.feature_extraction.text import TfidfTransformer\n",
      "from sklearn.pipeline import Pipeline\n",
      "from plot_learning_curve import plot_learning_curve\n",
      "from sklearn.preprocessing import StandardScaler"
     ],
     "language": "python",
     "metadata": {},
     "outputs": [],
     "prompt_number": 84
    },
    {
     "cell_type": "code",
     "collapsed": false,
     "input": [
      "def loadSoup(url):\n",
      "    return BeautifulSoup(urllib2.urlopen(url).read())"
     ],
     "language": "python",
     "metadata": {},
     "outputs": [],
     "prompt_number": 19
    },
    {
     "cell_type": "code",
     "collapsed": false,
     "input": [
      "def load_yahoo_opinions_for_ticker(ticker):\n",
      "    print 'Downloading analyst opinions for', ticker\n",
      "    soup  = loadSoup('http://finance.yahoo.com/q/ud?s=' + ticker)\n",
      "    table = soup.select('.yfnc_datamodoutline1 table')[0]\n",
      "    data  = pd.read_html(str(table), flavor='bs4', header=0, index_col=0)[0]\n",
      "    data.index = pd.to_datetime(data.index)\n",
      "    data['Ticker'] = ticker    \n",
      "    return data\n",
      "\n",
      "def load_yahoo_opinions(dataset):\n",
      "    cache_file = '../data/opinions-cache.csv'\n",
      "    if os.path.exists(cache_file):\n",
      "        print 'Loading opinions from cache'\n",
      "        return pd.read_csv(cache_file, index_col=0, parse_dates=True)\n",
      "    else:\n",
      "        raw_opinions = pd.DataFrame()\n",
      "        for ticker in dataset['Ticker']:        \n",
      "            raw_opinions = raw_opinions.append(load_yahoo_opinions_for_ticker(ticker))\n",
      "        raw_opinions.index.name = 'Date'\n",
      "        raw_opinions.to_csv(cache_file)\n",
      "        return raw_opinions"
     ],
     "language": "python",
     "metadata": {},
     "outputs": [],
     "prompt_number": 71
    },
    {
     "cell_type": "code",
     "collapsed": false,
     "input": [
      "def determine_sentiment(opinion):    \n",
      "    negitive = [u'Sell', u'Underperform', u'Underweight', u'Reduce', u'Sector Underperform', u'Mkt Underperform', u'Below Average', u'Avoid', u'Avoi', u'Strong Sell']\n",
      "    neutral  = [u'Hold', u'Equal Weight', u'Perform', u'Neutral', u'Mkt Perform', u'Equal-weight', u'In-Line', u'Sector Perform', u'Market Perform', u'Maintain Position', u'Perform-In-Line', u'Maintain', u'NT Neutral', u'NT Accumulate', u'ST Mkt Perform', u'ST Buy', u'LT Mkt Performer', u'Mkt Performer', u'NT Mkt Performer', u'Average', u'ST Neutral', u'Perform In Line', u'LT Neutral', u'ST Mkt Perform/LT Buy', u'In-line', u'NT/LT Mkt Performer', u'In Line', u'LT Mkt Perform', u'Equal-Weight']\n",
      "    positive = [u'Buy', u'Outperform', u'Overweight', u'Sector Outperform', u'NT Buy/LT Buy', u'Strong Buy', u'NT Buy', u'Attractive', u'Recommended List', u'Accumulate', u'NT Accum/LT Buy', u'Top Pick', u'Peer Perform', u'NT Strong Buy', u'Recomm List', u'NT Accum', u'Mkt Outperform', u'Add', u'Market Outperform', u'Positive', u'Above Average', u'Buy Aggressive', u'NT/LT Outperformer', u'Outperf. Signif.', u'Buy-Focus List', u'Trading Buy', u'Mkt Outperformer', u'ST Accumulate', u'Long-term Buy', u'US Recomm. List', u'Net Positive', u'Buy $100', u'NT Outperformer', u'NT/LT Buy', u'Outperform/Buy', u'NT Mkt Outperformer', u'NT Acc/LT Buy', u'Buy/Core', u'Recomm. List', u'NT Strong Buy/LT Strong Buy']\n",
      "    \n",
      "    opinion['Negative'] = 0.0\n",
      "    opinion['Positive'] = 0.0\n",
      "    \n",
      "    if opinion['Action'] == 'Downgrade' or (opinion['Action'] == 'Initiated' and opinion['To'] in negitive):\n",
      "        opinion['Negative'] = 1.0\n",
      "\n",
      "    if opinion['Action'] == 'Upgrade' or (opinion['Action'] == 'Initiated' and opinion['To'] in positive):\n",
      "        opinion['Positive'] = 1.0\n",
      "\n",
      "    return opinion\n",
      "\n",
      "def determine_sentiments(opinions):\n",
      "    opinion_sentiments = opinions.apply(determine_sentiment, axis=1)\n",
      "    opinion_sentiments = opinion_sentiments.groupby([opinions.index, 'Ticker']).sum()\n",
      "    return opinion_sentiments\n"
     ],
     "language": "python",
     "metadata": {},
     "outputs": [],
     "prompt_number": 34
    },
    {
     "cell_type": "code",
     "collapsed": false,
     "input": [
      "def load_quandl_prices(dataset, start, transform='rdiff'):\n",
      "    cache_file = '../data/prices-cache.csv'\n",
      "    if os.path.exists(cache_file):\n",
      "        print 'Loading prices from cache'\n",
      "        return pd.read_csv(cache_file, index_col=[0,1], parse_dates=True)\n",
      "    else:\n",
      "        prices = pd.DataFrame()\n",
      "        quandl_auth = 'pdRRzNygCjs_YY5Y2MVe'    \n",
      "        for index, row in dataset.iterrows():\n",
      "            print 'Downloading prices for', row['Ticker']\n",
      "            all_price_data = Quandl.get(row['Code'], trim_start=start, transformation = transform, authtoken=quandl_auth)\n",
      "            close_price_data = all_price_data[['Close']]\n",
      "            close_price_data['Ticker'] = row['Ticker']\n",
      "\n",
      "            close_price_data['CloseClass'] = 'Neutral'\n",
      "            close_price_data.loc[close_price_data['Close'] > 0, 'CloseClass'] = 'Gain'\n",
      "            close_price_data.loc[close_price_data['Close'] < 0, 'CloseClass'] = 'Loss'\n",
      "\n",
      "            prices = prices.append(close_price_data)\n",
      "        prices.index = pd.MultiIndex.from_arrays([prices.index, prices['Ticker']])\n",
      "        prices.drop('Ticker', axis=1, inplace=True)\n",
      "        prices.to_csv(cache_file)\n",
      "        return prices"
     ],
     "language": "python",
     "metadata": {},
     "outputs": [],
     "prompt_number": 59
    },
    {
     "cell_type": "code",
     "collapsed": false,
     "input": [
      "def encode_opinions(opinions):\n",
      "    one_hot = pd.get_dummies(opinions['To'], 'opinion', '_')\n",
      "    opinions = opinions.drop('To', axis=1)\n",
      "    opinions = pd.concat([opinions, one_hot], axis=1)\n",
      "    opinions = opinions.groupby([opinions.index, 'Ticker']).sum()\n",
      "    return opinions"
     ],
     "language": "python",
     "metadata": {},
     "outputs": [],
     "prompt_number": 23
    },
    {
     "cell_type": "code",
     "collapsed": false,
     "input": [
      "DJIA = pd.read_csv('../data/DowJonesIA.csv')\n",
      "\n",
      "opinions = load_yahoo_opinions(DJIA)\n",
      "opinion_sentiments = determine_sentiments(opinions)\n",
      "prices = load_quandl_prices(DJIA, start=datetime(2000, 1, 1))\n",
      "\n",
      "dataset = prices.join(opinion_sentiments)\n",
      "dataset[['Positive', 'Negative']] = dataset[['Positive', 'Negative']].fillna(0)"
     ],
     "language": "python",
     "metadata": {},
     "outputs": [
      {
       "output_type": "stream",
       "stream": "stdout",
       "text": [
        "Loading opinions from cache\n",
        "Loading prices from cache"
       ]
      },
      {
       "output_type": "stream",
       "stream": "stdout",
       "text": [
        "\n"
       ]
      }
     ],
     "prompt_number": 72
    },
    {
     "cell_type": "code",
     "collapsed": false,
     "input": [
      "def offsetPrices(prices, days):\n",
      "    prices = prices.reset_index(level='Ticker')\n",
      "    prices.index = prices.index - pd.offsets.Day(days)\n",
      "    prices.index = pd.MultiIndex.from_arrays([prices.index, prices['Ticker']], names=['Date', 'Ticker'])\n",
      "    prices.drop('Ticker', axis=1, inplace=True)\n",
      "    return prices\n",
      "\n",
      "one_hot_opinions = encode_opinions(opinions)"
     ],
     "language": "python",
     "metadata": {},
     "outputs": [],
     "prompt_number": 73
    },
    {
     "cell_type": "heading",
     "level": 1,
     "metadata": {},
     "source": [
      "MultinominalNB based on words"
     ]
    },
    {
     "cell_type": "code",
     "collapsed": false,
     "input": [
      "day_scores = []\n",
      "\n",
      "for day_offset in range(-3, 10):\n",
      "    offset_prices = offsetPrices(prices, day_offset)\n",
      "    dataset = one_hot_opinions.join(offset_prices['CloseClass']).dropna(axis=0).reset_index(level='Ticker', drop=True)\n",
      "    \n",
      "    X = dataset.drop('CloseClass', axis=1)\n",
      "    y = dataset['CloseClass']\n",
      "\n",
      "    pipeline = Pipeline([\n",
      "      ('tf-idf', TfidfTransformer()),\n",
      "      ('classifier',  MultinomialNB()) ])\n",
      "    \n",
      "    folds = KFold(len(dataset), n_folds=10, shuffle=True)\n",
      "    scores = cross_val_score(pipeline, X, y, cv = folds)\n",
      "    \n",
      "    day_scores.append((day_offset, scores.mean()))\n",
      "    print 'mean kfold score: ', scores.mean(), 'on day', day_offset"
     ],
     "language": "python",
     "metadata": {},
     "outputs": []
    },
    {
     "cell_type": "code",
     "collapsed": false,
     "input": [
      "x, y = zip(*day_scores)\n",
      "plt.plot(x, y)\n",
      "plt.ylim(.3, .8)\n",
      "plt.title('MultinomialNB score in days surrounding\\nanalyst opinion with TF-IDF')\n",
      "plt.ylabel('Score')\n",
      "plt.xlabel('Day offset')\n",
      "plt.axhline(.5, color='r')"
     ],
     "language": "python",
     "metadata": {},
     "outputs": [
      {
       "metadata": {},
       "output_type": "pyout",
       "prompt_number": 76,
       "text": [
        "<matplotlib.lines.Line2D at 0xa939acac>"
       ]
      },
      {
       "metadata": {},
       "output_type": "display_data",
       "png": "[encoded data removed]",
       "text": [
        "<matplotlib.figure.Figure at 0xaaf9caac>"
       ]
      }
     ],
     "prompt_number": 76
    },
    {
     "cell_type": "heading",
     "level": 2,
     "metadata": {},
     "source": [
      "Learning Curve"
     ]
    },
    {
     "cell_type": "code",
     "collapsed": false,
     "input": [
      "dataset = one_hot_opinions.join(prices['CloseClass']).dropna(axis=0).reset_index(level='Ticker', drop=True)\n",
      "\n",
      "X = dataset.drop('CloseClass', axis=1)\n",
      "y = dataset['CloseClass']\n",
      "\n",
      "classifier = MultinomialNB()\n",
      "folds = KFold(len(dataset), n_folds=10, shuffle=True)\n",
      "fig = plot_learning_curve(classifier, \"MultinomialNB Learning Curve\", X, y, cv=folds, train_sizes=np.linspace(.1, 1.0, 20))\n",
      "fig.show()"
     ],
     "language": "python",
     "metadata": {},
     "outputs": [
      {
       "metadata": {},
       "output_type": "display_data",
       "png": "[encoded data removed]",
       "text": [
        "<matplotlib.figure.Figure at 0xa939aaec>"
       ]
      }
     ],
     "prompt_number": 77
    },
    {
     "cell_type": "heading",
     "level": 1,
     "metadata": {},
     "source": [
      "MultinominalNB based on Sentiment"
     ]
    },
    {
     "cell_type": "code",
     "collapsed": false,
     "input": [
      "day_scores = []\n",
      "\n",
      "for day_offset in range(-3, 5):\n",
      "    offset_prices = offsetPrices(prices, day_offset)\n",
      "    dataset = opinion_sentiments.join(offset_prices['CloseClass']).dropna(axis=0, subset=['CloseClass']).fillna(0).reset_index(level='Ticker', drop=True)\n",
      "    \n",
      "    X = dataset.drop('CloseClass', axis=1)\n",
      "    y = dataset['CloseClass']\n",
      "\n",
      "    pipeline = Pipeline([    \n",
      "      ('classifier',   SVC(gamma=2, C=1)) ])    \n",
      "    \n",
      "    folds = KFold(len(dataset), n_folds=10, shuffle=True)\n",
      "    scores = cross_val_score(pipeline, X, y, cv = folds)\n",
      "    \n",
      "    day_scores.append((day_offset, scores.mean()))\n",
      "    print 'mean kfold score: ', scores.mean(), 'on day', day_offset"
     ],
     "language": "python",
     "metadata": {},
     "outputs": [
      {
       "output_type": "stream",
       "stream": "stdout",
       "text": [
        "mean kfold score:  0.516178554558 on day -3\n",
        "mean kfold score: "
       ]
      },
      {
       "output_type": "stream",
       "stream": "stdout",
       "text": [
        " 0.472313150044 on day -2\n",
        "mean kfold score: "
       ]
      },
      {
       "output_type": "stream",
       "stream": "stdout",
       "text": [
        " 0.522658066781 on day -1\n",
        "mean kfold score: "
       ]
      },
      {
       "output_type": "stream",
       "stream": "stdout",
       "text": [
        " 0.681845651866 on day 0\n",
        "mean kfold score: "
       ]
      },
      {
       "output_type": "stream",
       "stream": "stdout",
       "text": [
        " 0.540449646971 on day 1\n",
        "mean kfold score: "
       ]
      },
      {
       "output_type": "stream",
       "stream": "stdout",
       "text": [
        " 0.51929693962 on day 2\n",
        "mean kfold score: "
       ]
      },
      {
       "output_type": "stream",
       "stream": "stdout",
       "text": [
        " 0.448326710817 on day 3\n",
        "mean kfold score: "
       ]
      },
      {
       "output_type": "stream",
       "stream": "stdout",
       "text": [
        " 0.498974995404 on day 4\n"
       ]
      }
     ],
     "prompt_number": 195
    },
    {
     "cell_type": "code",
     "collapsed": false,
     "input": [
      "x, y = zip(*day_scores)\n",
      "plt.plot(x, y)\n",
      "plt.ylim(.3, .8)\n",
      "plt.title('MultinomialNB score in days surrounding\\nanalyst opinion without TF-IDF')\n",
      "plt.ylabel('Score')\n",
      "plt.xlabel('Day offset')\n",
      "plt.axhline(.5, color='r')"
     ],
     "language": "python",
     "metadata": {},
     "outputs": [
      {
       "metadata": {},
       "output_type": "pyout",
       "prompt_number": 197,
       "text": [
        "<matplotlib.lines.Line2D at 0xa1bbaa2c>"
       ]
      },
      {
       "metadata": {},
       "output_type": "display_data",
       "png": "[encoded data removed]",
       "text": [
        "<matplotlib.figure.Figure at 0x9d43126c>"
       ]
      }
     ],
     "prompt_number": 197
    },
    {
     "cell_type": "heading",
     "level": 1,
     "metadata": {},
     "source": [
      "Correlation"
     ]
    },
    {
     "cell_type": "code",
     "collapsed": false,
     "input": [
      "dataset = opinion_sentiments.join(prices['Close']).dropna()\n",
      "dataset['Close'] = StandardScaler().fit_transform(dataset['Close'])\n",
      "\n",
      "plt.xcorr(dataset['Positive'], dataset['Close'], color='g', usevlines=False, linestyle='-')\n",
      "plt.xcorr(dataset['Negative'], dataset['Close'], color='r', usevlines=False, linestyle='-')"
     ],
     "language": "python",
     "metadata": {},
     "outputs": [
      {
       "metadata": {},
       "output_type": "pyout",
       "prompt_number": 99,
       "text": [
        "(array([-10,  -9,  -8,  -7,  -6,  -5,  -4,  -3,  -2,  -1,   0,   1,   2,\n",
        "          3,   4,   5,   6,   7,   8,   9,  10]),\n",
        " array([-0.03053861, -0.01880123, -0.00160547, -0.02701377, -0.05984908,\n",
        "        -0.04573193,  0.00103067, -0.02832572, -0.01959863, -0.02510433,\n",
        "        -0.40513355, -0.04593998, -0.02855434, -0.01418582, -0.00892436,\n",
        "        -0.00236788,  0.00614716, -0.03220224, -0.02390237,  0.00228297,\n",
        "        -0.00880194]),\n",
        " <matplotlib.lines.Line2D at 0xa87ef80c>,\n",
        " None)"
       ]
      },
      {
       "metadata": {},
       "output_type": "display_data",
       "png": "[encoded data removed]",
       "text": [
        "<matplotlib.figure.Figure at 0xa880f94c>"
       ]
      }
     ],
     "prompt_number": 99
    }
   ],
   "metadata": {}
  }
 ]
}