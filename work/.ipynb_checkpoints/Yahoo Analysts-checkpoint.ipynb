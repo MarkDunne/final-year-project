{
 "metadata": {
  "name": "",
  "signature": "sha256:40de31a2b77da3c2fbb8c5748cca15775b84fd9cba8ca765ca2ed67c8492d9c3"
 },
 "nbformat": 3,
 "nbformat_minor": 0,
 "worksheets": [
  {
   "cells": [
    {
     "cell_type": "code",
     "collapsed": false,
     "input": [
      "%matplotlib inline\n",
      "\n",
      "import os\n",
      "import Quandl\n",
      "import common\n",
      "import urllib2\n",
      "import numpy as np\n",
      "import pandas as pd\n",
      "import matplotlib.pyplot as plt\n",
      "from datetime import datetime\n",
      "from collections import defaultdict\n",
      "from sklearn.cross_validation import cross_val_score\n",
      "from sklearn.cross_validation import KFold\n",
      "from sklearn.naive_bayes import MultinomialNB\n",
      "from sklearn.linear_model import LogisticRegression\n",
      "from sklearn.linear_model import LinearRegression\n",
      "from sklearn.feature_selection import SelectKBest\n",
      "from sklearn.feature_extraction.text import TfidfTransformer\n",
      "from sklearn.pipeline import Pipeline\n",
      "from sklearn.grid_search import GridSearchCV\n",
      "from sklearn.metrics import classification_report\n",
      "from sklearn.preprocessing import LabelEncoder\n",
      "from sklearn.preprocessing import OneHotEncoder\n",
      "from plot_learning_curve import plot_learning_curve\n",
      "from sklearn.neighbors import KNeighborsClassifier\n",
      "from sklearn.preprocessing import StandardScaler\n",
      "import matplotlib.dates as mdates\n",
      "from pylab import rcParams\n",
      "rcParams['figure.figsize'] = 12, 6"
     ],
     "language": "python",
     "metadata": {},
     "outputs": [],
     "prompt_number": 114
    },
    {
     "cell_type": "code",
     "collapsed": false,
     "input": [
      "DJIA = pd.read_csv('../data/DowJonesIA.csv')\n",
      "\n",
      "opinions = common.load_yahoo_opinions(DJIA)\n",
      "opinion_sentiments = common.determine_opinion_sentiments(opinions)\n",
      "prices = common.load_quandl_prices(DJIA, start=datetime(2000, 1, 1))\n",
      "\n",
      "dataset = prices.join(opinion_sentiments)\n",
      "dataset[['Positive', 'Negative']] = dataset[['Positive', 'Negative']].fillna(0)\n",
      "\n",
      "one_hot_opinions = common.encode_opinions(opinions)"
     ],
     "language": "python",
     "metadata": {},
     "outputs": [
      {
       "output_type": "stream",
       "stream": "stdout",
       "text": [
        "Loading opinions from cache\n",
        "Loading prices from cache"
       ]
      },
      {
       "output_type": "stream",
       "stream": "stdout",
       "text": [
        "\n"
       ]
      }
     ],
     "prompt_number": 2
    },
    {
     "cell_type": "code",
     "collapsed": false,
     "input": [
      "opinions_cache = opinion_sentiments.reset_index()\n",
      "lex_sorted = opinions_cache.sort(columns=['Ticker', 'Date'])\n",
      "lex_sorted.to_csv('../data/opinion_sentiments.csv')"
     ],
     "language": "python",
     "metadata": {},
     "outputs": [],
     "prompt_number": 3
    },
    {
     "cell_type": "code",
     "collapsed": false,
     "input": [
      "def offsetPrices(prices, days):\n",
      "    prices = prices.reset_index(level='Ticker')\n",
      "    prices.index = prices.index - pd.offsets.Day(days)\n",
      "    prices.index = pd.MultiIndex.from_arrays([prices.index, prices['Ticker']], names=['Date', 'Ticker'])\n",
      "    prices.drop('Ticker', axis=1, inplace=True)\n",
      "    return prices"
     ],
     "language": "python",
     "metadata": {},
     "outputs": [],
     "prompt_number": 4
    },
    {
     "cell_type": "code",
     "collapsed": false,
     "input": [
      "prcs = common.load_quandl_absolute_prices(1,1).reset_index()"
     ],
     "language": "python",
     "metadata": {},
     "outputs": [
      {
       "output_type": "stream",
       "stream": "stdout",
       "text": [
        "Loading prices from cache\n"
       ]
      }
     ],
     "prompt_number": 5
    },
    {
     "cell_type": "code",
     "collapsed": false,
     "input": [
      "from matplotlib.dates import DateFormatter\n",
      "\n",
      "ops = opinion_sentiments.reset_index()\n",
      "prc_ops = pd.merge(prcs, ops, how='left', on=['Date', 'Ticker'])\n",
      "prc_ops[['Negative', 'Positive']] = prc_ops[['Negative', 'Positive']].fillna(0)\n",
      "\n",
      "intc = prc_ops[prc_ops['Ticker'] == 'INTC'].reset_index()\n",
      "# intc.index = intc['Date']\n",
      "\n",
      "plt.plot(intc['Close'], color='k', alpha=0.2)\n",
      "plt.fill_between(intc.index, intc['Close'], [0] * len(intc), alpha=0.1)\n",
      "\n",
      "pos = intc[intc['Positive'] > 0]\n",
      "plt.scatter(pos.index, pos['Close'], marker='^', color='g', s=20 + 20 * pos['Positive'] ** 2, alpha=0.7)\n",
      "\n",
      "neg = intc[intc['Negative'] > 0]\n",
      "plt.scatter(neg.index, neg['Close'], marker='v', color='r', s=20 + 20 * neg['Negative'] ** 2, alpha=0.7)\n",
      "\n",
      "plt.xlim(0, len(intc)-100)\n",
      "plt.ylim(0, 80)\n",
      "\n",
      "plt.title('Aggregate analyst opinions, and price history of Intel')\n",
      "plt.xlabel('Time')\n",
      "plt.ylabel('Price')"
     ],
     "language": "python",
     "metadata": {},
     "outputs": [
      {
       "metadata": {},
       "output_type": "pyout",
       "prompt_number": 6,
       "text": [
        "<matplotlib.text.Text at 0xab0fc50c>"
       ]
      },
      {
       "metadata": {},
       "output_type": "display_data",
       "png": "[encoded data removed]",
       "text": [
        "<matplotlib.figure.Figure at 0xab240bcc>"
       ]
      }
     ],
     "prompt_number": 6
    },
    {
     "cell_type": "code",
     "collapsed": false,
     "input": [
      "intc[(intc['Positive'] > 0) & (intc['Negative'] > 0)]"
     ],
     "language": "python",
     "metadata": {},
     "outputs": [
      {
       "html": [
        "<div style=\"max-height:1000px;max-width:1500px;overflow:auto;\">\n",
        "<table border=\"1\" class=\"dataframe\">\n",
        "  <thead>\n",
        "    <tr style=\"text-align: right;\">\n",
        "      <th></th>\n",
        "      <th>level_0</th>\n",
        "      <th>index</th>\n",
        "      <th>Date</th>\n",
        "      <th>Close</th>\n",
        "      <th>Ticker</th>\n",
        "      <th>Negative</th>\n",
        "      <th>Positive</th>\n",
        "    </tr>\n",
        "  </thead>\n",
        "  <tbody>\n",
        "  </tbody>\n",
        "</table>\n",
        "</div>"
       ],
       "metadata": {},
       "output_type": "pyout",
       "prompt_number": 7,
       "text": [
        "Empty DataFrame\n",
        "Columns: [level_0, index, Date, Close, Ticker, Negative, Positive]\n",
        "Index: []"
       ]
      }
     ],
     "prompt_number": 7
    },
    {
     "cell_type": "code",
     "collapsed": false,
     "input": [
      "intc.describe()"
     ],
     "language": "python",
     "metadata": {},
     "outputs": [
      {
       "html": [
        "<div style=\"max-height:1000px;max-width:1500px;overflow:auto;\">\n",
        "<table border=\"1\" class=\"dataframe\">\n",
        "  <thead>\n",
        "    <tr style=\"text-align: right;\">\n",
        "      <th></th>\n",
        "      <th>level_0</th>\n",
        "      <th>index</th>\n",
        "      <th>Close</th>\n",
        "      <th>Negative</th>\n",
        "      <th>Positive</th>\n",
        "    </tr>\n",
        "  </thead>\n",
        "  <tbody>\n",
        "    <tr>\n",
        "      <th>count</th>\n",
        "      <td>  3831.000000</td>\n",
        "      <td>  3831.000000</td>\n",
        "      <td> 3831.000000</td>\n",
        "      <td> 3831</td>\n",
        "      <td> 3831</td>\n",
        "    </tr>\n",
        "    <tr>\n",
        "      <th>mean</th>\n",
        "      <td> 43623.000000</td>\n",
        "      <td> 43623.000000</td>\n",
        "      <td>   25.654210</td>\n",
        "      <td>    0</td>\n",
        "      <td>    0</td>\n",
        "    </tr>\n",
        "    <tr>\n",
        "      <th>std</th>\n",
        "      <td>  1106.058769</td>\n",
        "      <td>  1106.058769</td>\n",
        "      <td>    9.806077</td>\n",
        "      <td>    0</td>\n",
        "      <td>    0</td>\n",
        "    </tr>\n",
        "    <tr>\n",
        "      <th>min</th>\n",
        "      <td> 41708.000000</td>\n",
        "      <td> 41708.000000</td>\n",
        "      <td>   12.080000</td>\n",
        "      <td>    0</td>\n",
        "      <td>    0</td>\n",
        "    </tr>\n",
        "    <tr>\n",
        "      <th>25%</th>\n",
        "      <td> 42665.500000</td>\n",
        "      <td> 42665.500000</td>\n",
        "      <td>   20.430000</td>\n",
        "      <td>    0</td>\n",
        "      <td>    0</td>\n",
        "    </tr>\n",
        "    <tr>\n",
        "      <th>50%</th>\n",
        "      <td> 43623.000000</td>\n",
        "      <td> 43623.000000</td>\n",
        "      <td>   23.290000</td>\n",
        "      <td>    0</td>\n",
        "      <td>    0</td>\n",
        "    </tr>\n",
        "    <tr>\n",
        "      <th>75%</th>\n",
        "      <td> 44580.500000</td>\n",
        "      <td> 44580.500000</td>\n",
        "      <td>   27.445000</td>\n",
        "      <td>    0</td>\n",
        "      <td>    0</td>\n",
        "    </tr>\n",
        "    <tr>\n",
        "      <th>max</th>\n",
        "      <td> 45538.000000</td>\n",
        "      <td> 45538.000000</td>\n",
        "      <td>   74.880000</td>\n",
        "      <td>    0</td>\n",
        "      <td>    0</td>\n",
        "    </tr>\n",
        "  </tbody>\n",
        "</table>\n",
        "</div>"
       ],
       "metadata": {},
       "output_type": "pyout",
       "prompt_number": 8,
       "text": [
        "            level_0         index        Close  Negative  Positive\n",
        "count   3831.000000   3831.000000  3831.000000      3831      3831\n",
        "mean   43623.000000  43623.000000    25.654210         0         0\n",
        "std     1106.058769   1106.058769     9.806077         0         0\n",
        "min    41708.000000  41708.000000    12.080000         0         0\n",
        "25%    42665.500000  42665.500000    20.430000         0         0\n",
        "50%    43623.000000  43623.000000    23.290000         0         0\n",
        "75%    44580.500000  44580.500000    27.445000         0         0\n",
        "max    45538.000000  45538.000000    74.880000         0         0"
       ]
      }
     ],
     "prompt_number": 8
    },
    {
     "cell_type": "heading",
     "level": 1,
     "metadata": {},
     "source": [
      "V2"
     ]
    },
    {
     "cell_type": "code",
     "collapsed": false,
     "input": [
      "opinions = pd.read_csv('../data/opinions-cache.csv', parse_dates=['Date'])\n",
      "prices = pd.read_csv('../data/prices-cache.csv', parse_dates=['Date'])"
     ],
     "language": "python",
     "metadata": {},
     "outputs": [],
     "prompt_number": 29
    },
    {
     "cell_type": "code",
     "collapsed": false,
     "input": [
      "dataset[:3]"
     ],
     "language": "python",
     "metadata": {},
     "outputs": [
      {
       "html": [
        "<div style=\"max-height:1000px;max-width:1500px;overflow:auto;\">\n",
        "<table border=\"1\" class=\"dataframe\">\n",
        "  <thead>\n",
        "    <tr style=\"text-align: right;\">\n",
        "      <th></th>\n",
        "      <th>Date</th>\n",
        "      <th>Research Firm</th>\n",
        "      <th>Action</th>\n",
        "      <th>From</th>\n",
        "      <th>To</th>\n",
        "      <th>Ticker</th>\n",
        "      <th>Close</th>\n",
        "      <th>CloseClass</th>\n",
        "    </tr>\n",
        "  </thead>\n",
        "  <tbody>\n",
        "    <tr>\n",
        "      <th>0</th>\n",
        "      <td>2014-11-13</td>\n",
        "      <td> Deutsche Bank</td>\n",
        "      <td> Initiated</td>\n",
        "      <td>        NaN</td>\n",
        "      <td>         Hold</td>\n",
        "      <td> AXP</td>\n",
        "      <td>-0.005243</td>\n",
        "      <td> Loss</td>\n",
        "    </tr>\n",
        "    <tr>\n",
        "      <th>1</th>\n",
        "      <td>2013-06-14</td>\n",
        "      <td>      Barclays</td>\n",
        "      <td> Downgrade</td>\n",
        "      <td> Overweight</td>\n",
        "      <td> Equal Weight</td>\n",
        "      <td> AXP</td>\n",
        "      <td>-0.029783</td>\n",
        "      <td> Loss</td>\n",
        "    </tr>\n",
        "    <tr>\n",
        "      <th>2</th>\n",
        "      <td>2013-06-13</td>\n",
        "      <td>   Oppenheimer</td>\n",
        "      <td> Initiated</td>\n",
        "      <td>        NaN</td>\n",
        "      <td>      Perform</td>\n",
        "      <td> AXP</td>\n",
        "      <td> 0.006558</td>\n",
        "      <td> Gain</td>\n",
        "    </tr>\n",
        "  </tbody>\n",
        "</table>\n",
        "</div>"
       ],
       "metadata": {},
       "output_type": "pyout",
       "prompt_number": 34,
       "text": [
        "        Date  Research Firm     Action        From            To Ticker  \\\n",
        "0 2014-11-13  Deutsche Bank  Initiated         NaN          Hold    AXP   \n",
        "1 2013-06-14       Barclays  Downgrade  Overweight  Equal Weight    AXP   \n",
        "2 2013-06-13    Oppenheimer  Initiated         NaN       Perform    AXP   \n",
        "\n",
        "      Close CloseClass  \n",
        "0 -0.005243       Loss  \n",
        "1 -0.029783       Loss  \n",
        "2  0.006558       Gain  "
       ]
      }
     ],
     "prompt_number": 34
    },
    {
     "cell_type": "code",
     "collapsed": false,
     "input": [
      "dataset = pd.merge(opinions, prices, on = ['Date', 'Ticker'])\n",
      "\n",
      "X = dataset[['Date', 'Ticker']] \\\n",
      "    .join(pd.get_dummies(dataset['Research Firm'])) \\\n",
      "    .join(pd.get_dummies(dataset['Action'])) \\\n",
      "    .join(pd.get_dummies(dataset['To'])) \\\n",
      "    .groupby(['Date', 'Ticker']).sum()\n",
      "    \n",
      "y = [frame['CloseClass'].values[0] for index, frame in \\\n",
      "         dataset.groupby(['Date', 'Ticker'])]"
     ],
     "language": "python",
     "metadata": {},
     "outputs": [],
     "prompt_number": 132
    },
    {
     "cell_type": "code",
     "collapsed": false,
     "input": [
      "X.shape"
     ],
     "language": "python",
     "metadata": {},
     "outputs": [
      {
       "metadata": {},
       "output_type": "pyout",
       "prompt_number": 134,
       "text": [
        "(2838, 266)"
       ]
      }
     ],
     "prompt_number": 134
    },
    {
     "cell_type": "heading",
     "level": 2,
     "metadata": {},
     "source": [
      "Error Estimation"
     ]
    },
    {
     "cell_type": "heading",
     "level": 3,
     "metadata": {},
     "source": [
      "MultinomialNB"
     ]
    },
    {
     "cell_type": "code",
     "collapsed": false,
     "input": [
      "pipe = Pipeline([  \n",
      "    ('selector', SelectKBest()),\n",
      "    ('classifier', MultinomialNB())\n",
      "])\n",
      "\n",
      "hyperparams = {\n",
      "    'selector__k' : np.arange(1, 20)\n",
      "}\n",
      "\n",
      "gs = GridSearchCV(pipe, hyperparams)\n",
      "scores = cross_val_score(gs, X, y, cv = 10)\n",
      "scores.mean()"
     ],
     "language": "python",
     "metadata": {},
     "outputs": [
      {
       "metadata": {},
       "output_type": "pyout",
       "prompt_number": 126,
       "text": [
        "0.67296360845175562"
       ]
      }
     ],
     "prompt_number": 126
    },
    {
     "cell_type": "heading",
     "level": 3,
     "metadata": {},
     "source": [
      "LogisticRegression"
     ]
    },
    {
     "cell_type": "code",
     "collapsed": false,
     "input": [
      "pipe = Pipeline([  \n",
      "    ('selector', SelectKBest()),\n",
      "    ('classifier', LogisticRegrLogisticRegression())\n",
      "])\n",
      "\n",
      "hyperparams = {\n",
      "    'selector__k' : np.arange(1, 20)\n",
      "}\n",
      "\n",
      "gs = GridSearchCV(pipe, hypeLogisticRegression\n",
      "scores = cross_val_score(gs, X, y, cv = 10)\n",
      "scores.mean()"
     ],
     "language": "python",
     "metadata": {},
     "outputs": [
      {
       "metadata": {},
       "output_type": "pyout",
       "prompt_number": 127,
       "text": [
        "0.66272108575304001"
       ]
      }
     ],
     "prompt_number": 127
    },
    {
     "cell_type": "heading",
     "level": 3,
     "metadata": {},
     "source": [
      "KNeighborsClassifier"
     ]
    },
    {
     "cell_type": "code",
     "collapsed": false,
     "input": [
      "pipe = Pipeline([  \n",
      "    ('selector', SelectKBest()),\n",
      "    ('classifier', KNeighborsClassifier())\n",
      "])\n",
      "\n",
      "hyperparams = {\n",
      "    'selector__k' : np.arange(1, 20),\n",
      "    'classifier__n_neighbors': np.arange(1, 20)\n",
      "}\n",
      "\n",
      "gs = GridSearchCV(pipe, hyperparams)\n",
      "scores = cross_val_score(gs, X, y, cv = 10)\n",
      "scores.mean()"
     ],
     "language": "python",
     "metadata": {},
     "outputs": [
      {
       "metadata": {},
       "output_type": "pyout",
       "prompt_number": 128,
       "text": [
        "0.65641801912632947"
       ]
      }
     ],
     "prompt_number": 128
    },
    {
     "cell_type": "heading",
     "level": 2,
     "metadata": {},
     "source": [
      "Model Selection"
     ]
    },
    {
     "cell_type": "code",
     "collapsed": false,
     "input": [
      "pipe = Pipeline([  \n",
      "    ('selector', SelectKBest()),\n",
      "    ('classifier', MultinomialNB())\n",
      "])\n",
      "\n",
      "hyperparams = {\n",
      "    'selector__k' : np.arange(5, 13),\n",
      "    'classifier__alpha': np.linspace(0.1, 2, 10)\n",
      "}\n",
      "\n",
      "gs = GridSearchCV(pipe, hyperparams, cv = 10)\n",
      "gs.fit(X, y)\n",
      "\n",
      "print(gs.best_estimator_)\n",
      "print(gs.best_score_)\n",
      "print(gs.best_params_)"
     ],
     "language": "python",
     "metadata": {},
     "outputs": []
    },
    {
     "cell_type": "heading",
     "level": 2,
     "metadata": {},
     "source": [
      "Final Model"
     ]
    },
    {
     "cell_type": "code",
     "collapsed": false,
     "input": [
      "pipe = Pipeline([  \n",
      "    ('selector', SelectKBest(k=6)),\n",
      "    ('transformer', TfidfTransformer()),\n",
      "    ('classifier', MultinomialNB())\n",
      "])\n",
      "\n",
      "pipe.fit(X, y)\n",
      "\n",
      "X.columns[pipe.named_steps['selector'].get_support()]\n"
     ],
     "language": "python",
     "metadata": {},
     "outputs": [
      {
       "metadata": {},
       "output_type": "pyout",
       "prompt_number": 125,
       "text": [
        "Index([u'Downgrade', u'Upgrade', u'Buy', u'Hold', u'Neutral', u'Outperform'], dtype='object')"
       ]
      }
     ],
     "prompt_number": 125
    },
    {
     "cell_type": "heading",
     "level": 2,
     "metadata": {},
     "source": [
      "Inspection"
     ]
    },
    {
     "cell_type": "code",
     "collapsed": false,
     "input": [
      "dataset = one_hot_opinions.join(prices['CloseClass']).dropna(axis=0).reset_index(level='Ticker', drop=True)\n",
      "\n",
      "X = dataset.drop('CloseClass', axis=1)\n",
      "y = dataset['CloseClass']\n",
      "\n",
      "classifier = MultinomialNB()\n",
      "folds = KFold(len(dataset), n_folds=10, shuffle=True)\n",
      "fig = plot_learning_curve(classifier, \"MultinomialNB Learning Curve\", X, y, cv=folds, train_sizes=np.linspace(.1, 1.0, 20))\n",
      "fig.show()"
     ],
     "language": "python",
     "metadata": {},
     "outputs": [
      {
       "metadata": {},
       "output_type": "display_data",
       "png": "[encoded data removed]",
       "text": [
        "<matplotlib.figure.Figure at 0xaa91412c>"
       ]
      }
     ],
     "prompt_number": 7
    }
   ],
   "metadata": {}
  }
 ]
}