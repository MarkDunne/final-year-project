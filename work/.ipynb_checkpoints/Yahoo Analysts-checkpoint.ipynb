{
 "metadata": {
  "name": "",
  "signature": "sha256:92fc191a3d8347cd82b8f01b50d95be9de5a75c0c78392e2685d8b9272eacb35"
 },
 "nbformat": 3,
 "nbformat_minor": 0,
 "worksheets": [
  {
   "cells": [
    {
     "cell_type": "code",
     "collapsed": false,
     "input": [
      "%matplotlib inline\n",
      "\n",
      "import Quandl\n",
      "import urllib2\n",
      "import numpy as np\n",
      "import pandas as pd\n",
      "from datetime import datetime\n",
      "import matplotlib.pyplot as plt\n",
      "import matplotlib.dates as mdates\n",
      "import matplotlib.cbook as cbook\n",
      "import pandas.io.data as web\n",
      "from bs4 import BeautifulSoup\n",
      "from IPython.display import HTML\n",
      "from pandas.stats.moments import rolling_apply\n",
      "from sklearn.utils import shuffle\n",
      "from sklearn.cross_validation import cross_val_score\n",
      "from sklearn.cross_validation import KFold\n",
      "from sklearn.cross_validation import train_test_split\n",
      "from sklearn.naive_bayes import MultinomialNB\n",
      "from sklearn.neighbors import KNeighborsClassifier\n",
      "from sklearn.svm import SVC\n",
      "from sklearn.metrics import classification_report\n",
      "from sklearn.feature_extraction.text import TfidfTransformer\n",
      "from sklearn.pipeline import Pipeline\n",
      "from plot_learning_curve import plot_learning_curve"
     ],
     "language": "python",
     "metadata": {},
     "outputs": [],
     "prompt_number": 190
    },
    {
     "cell_type": "code",
     "collapsed": false,
     "input": [
      "def loadSoup(url):\n",
      "    return BeautifulSoup(urllib2.urlopen(url).read())"
     ],
     "language": "python",
     "metadata": {},
     "outputs": [],
     "prompt_number": 3
    },
    {
     "cell_type": "code",
     "collapsed": false,
     "input": [
      "def load_yahoo_opinions_for_ticker(ticker):\n",
      "    print 'Downloading analyst opinions for', ticker\n",
      "    soup  = loadSoup('http://finance.yahoo.com/q/ud?s=' + ticker)\n",
      "    table = soup.select('.yfnc_datamodoutline1 table')[0]\n",
      "    data  = pd.read_html(str(table), flavor='bs4', header=0, index_col=0)[0]\n",
      "    data.index = pd.to_datetime(data.index)\n",
      "    data['Ticker'] = ticker    \n",
      "    return data\n",
      "\n",
      "def load_yahoo_opinions(dataset):\n",
      "    raw_opinions = pd.DataFrame()\n",
      "    for ticker in dataset['Ticker']:        \n",
      "        raw_opinions = raw_opinions.append(load_yahoo_opinions_for_ticker(ticker))\n",
      "    raw_opinions.index.name = 'Date'\n",
      "    return raw_opinions"
     ],
     "language": "python",
     "metadata": {},
     "outputs": [],
     "prompt_number": 4
    },
    {
     "cell_type": "code",
     "collapsed": false,
     "input": [
      "def determine_sentiment(opinion):    \n",
      "    negitive = [u'Sell', u'Underperform', u'Underweight', u'Reduce', u'Sector Underperform', u'Mkt Underperform', u'Below Average', u'Avoid', u'Avoi', u'Strong Sell']\n",
      "    neutral  = [u'Hold', u'Equal Weight', u'Perform', u'Neutral', u'Mkt Perform', u'Equal-weight', u'In-Line', u'Sector Perform', u'Market Perform', u'Maintain Position', u'Perform-In-Line', u'Maintain', u'NT Neutral', u'NT Accumulate', u'ST Mkt Perform', u'ST Buy', u'LT Mkt Performer', u'Mkt Performer', u'NT Mkt Performer', u'Average', u'ST Neutral', u'Perform In Line', u'LT Neutral', u'ST Mkt Perform/LT Buy', u'In-line', u'NT/LT Mkt Performer', u'In Line', u'LT Mkt Perform', u'Equal-Weight']\n",
      "    positive = [u'Buy', u'Outperform', u'Overweight', u'Sector Outperform', u'NT Buy/LT Buy', u'Strong Buy', u'NT Buy', u'Attractive', u'Recommended List', u'Accumulate', u'NT Accum/LT Buy', u'Top Pick', u'Peer Perform', u'NT Strong Buy', u'Recomm List', u'NT Accum', u'Mkt Outperform', u'Add', u'Market Outperform', u'Positive', u'Above Average', u'Buy Aggressive', u'NT/LT Outperformer', u'Outperf. Signif.', u'Buy-Focus List', u'Trading Buy', u'Mkt Outperformer', u'ST Accumulate', u'Long-term Buy', u'US Recomm. List', u'Net Positive', u'Buy $100', u'NT Outperformer', u'NT/LT Buy', u'Outperform/Buy', u'NT Mkt Outperformer', u'NT Acc/LT Buy', u'Buy/Core', u'Recomm. List', u'NT Strong Buy/LT Strong Buy']\n",
      "    \n",
      "    if opinion['Action'] == 'Downgrade' or (opinion['Action'] == 'Initiated' and opinion['To'] in negitive):\n",
      "        opinion['Negative'] = 1.0\n",
      "\n",
      "    if opinion['Action'] == 'Upgrade' or (opinion['Action'] == 'Initiated' and opinion['To'] in positive):\n",
      "        opinion['Positive'] = 1.0\n",
      "\n",
      "    return opinion\n",
      "\n",
      "def determine_sentiments(opinions):\n",
      "    opinion_sentiments = opinions.apply(determine_sentiment, axis=1)\n",
      "    opinion_sentiments = opinion_sentiments.groupby([opinions.index, 'Ticker']).sum()\n",
      "    return opinion_sentiments\n"
     ],
     "language": "python",
     "metadata": {},
     "outputs": [],
     "prompt_number": 5
    },
    {
     "cell_type": "code",
     "collapsed": false,
     "input": [
      "def load_quandl_prices(dataset, start, transform='rdiff'):\n",
      "    prices = pd.DataFrame()\n",
      "    quandl_auth = 'pdRRzNygCjs_YY5Y2MVe'    \n",
      "    for index, row in dataset.iterrows():\n",
      "        print 'Downloading prices for', row['Ticker']\n",
      "        all_price_data = Quandl.get(row['Code'], trim_start=start, transformation = transform, authtoken=quandl_auth)\n",
      "        close_price_data = all_price_data[['Close']]\n",
      "        close_price_data['Ticker'] = row['Ticker']\n",
      "        \n",
      "        close_price_data['CloseClass'] = 'Neutral'\n",
      "        close_price_data.loc[close_price_data['Close'] > 0, 'CloseClass'] = 'Gain'\n",
      "        close_price_data.loc[close_price_data['Close'] < 0, 'CloseClass'] = 'Loss'\n",
      "\n",
      "        prices = prices.append(close_price_data)\n",
      "    prices.index = pd.MultiIndex.from_arrays([prices.index, prices['Ticker']])\n",
      "    prices.drop('Ticker', axis=1, inplace=True)\n",
      "    return prices"
     ],
     "language": "python",
     "metadata": {},
     "outputs": [],
     "prompt_number": 40
    },
    {
     "cell_type": "code",
     "collapsed": false,
     "input": [
      "def encode_opinions(opinions):\n",
      "    one_hot = pd.get_dummies(opinions['To'], 'opinion', '_')\n",
      "    opinions = opinions.drop('To', axis=1)\n",
      "    opinions = pd.concat([opinions, one_hot], axis=1)\n",
      "    opinions = opinions.groupby([opinions.index, 'Ticker']).sum()\n",
      "    return opinions"
     ],
     "language": "python",
     "metadata": {},
     "outputs": [],
     "prompt_number": 10
    },
    {
     "cell_type": "code",
     "collapsed": false,
     "input": [
      "DJIA = pd.read_csv('../data/DowJonesIA.csv')\n",
      "\n",
      "opinions = load_yahoo_opinions(DJIA)"
     ],
     "language": "python",
     "metadata": {},
     "outputs": [
      {
       "output_type": "stream",
       "stream": "stdout",
       "text": [
        "Downloading analyst opinions for AXP\n",
        "Downloading analyst opinions for"
       ]
      },
      {
       "output_type": "stream",
       "stream": "stdout",
       "text": [
        " BA\n",
        "Downloading analyst opinions for"
       ]
      },
      {
       "output_type": "stream",
       "stream": "stdout",
       "text": [
        " CAT\n",
        "Downloading analyst opinions for"
       ]
      },
      {
       "output_type": "stream",
       "stream": "stdout",
       "text": [
        " CSCO\n",
        "Downloading analyst opinions for"
       ]
      },
      {
       "output_type": "stream",
       "stream": "stdout",
       "text": [
        " CVX\n",
        "Downloading analyst opinions for"
       ]
      },
      {
       "output_type": "stream",
       "stream": "stdout",
       "text": [
        " DD\n",
        "Downloading analyst opinions for"
       ]
      },
      {
       "output_type": "stream",
       "stream": "stdout",
       "text": [
        " DIS\n",
        "Downloading analyst opinions for"
       ]
      },
      {
       "output_type": "stream",
       "stream": "stdout",
       "text": [
        " GE\n",
        "Downloading analyst opinions for"
       ]
      },
      {
       "output_type": "stream",
       "stream": "stdout",
       "text": [
        " GS\n",
        "Downloading analyst opinions for"
       ]
      },
      {
       "output_type": "stream",
       "stream": "stdout",
       "text": [
        " HD\n",
        "Downloading analyst opinions for"
       ]
      },
      {
       "output_type": "stream",
       "stream": "stdout",
       "text": [
        " IBM\n",
        "Downloading analyst opinions for"
       ]
      },
      {
       "output_type": "stream",
       "stream": "stdout",
       "text": [
        " INTC\n",
        "Downloading analyst opinions for"
       ]
      },
      {
       "output_type": "stream",
       "stream": "stdout",
       "text": [
        " JNJ\n",
        "Downloading analyst opinions for"
       ]
      },
      {
       "output_type": "stream",
       "stream": "stdout",
       "text": [
        " JPM\n",
        "Downloading analyst opinions for"
       ]
      },
      {
       "output_type": "stream",
       "stream": "stdout",
       "text": [
        " KO\n",
        "Downloading analyst opinions for"
       ]
      },
      {
       "output_type": "stream",
       "stream": "stdout",
       "text": [
        " MCD\n",
        "Downloading analyst opinions for"
       ]
      },
      {
       "output_type": "stream",
       "stream": "stdout",
       "text": [
        " MMM\n",
        "Downloading analyst opinions for"
       ]
      },
      {
       "output_type": "stream",
       "stream": "stdout",
       "text": [
        " MRK\n",
        "Downloading analyst opinions for"
       ]
      },
      {
       "output_type": "stream",
       "stream": "stdout",
       "text": [
        " MSFT\n",
        "Downloading analyst opinions for"
       ]
      },
      {
       "output_type": "stream",
       "stream": "stdout",
       "text": [
        " NKE\n",
        "Downloading analyst opinions for"
       ]
      },
      {
       "output_type": "stream",
       "stream": "stdout",
       "text": [
        " PFE\n",
        "Downloading analyst opinions for"
       ]
      },
      {
       "output_type": "stream",
       "stream": "stdout",
       "text": [
        " PG\n",
        "Downloading analyst opinions for"
       ]
      },
      {
       "output_type": "stream",
       "stream": "stdout",
       "text": [
        " T\n",
        "Downloading analyst opinions for"
       ]
      },
      {
       "output_type": "stream",
       "stream": "stdout",
       "text": [
        " TRV\n",
        "Downloading analyst opinions for"
       ]
      },
      {
       "output_type": "stream",
       "stream": "stdout",
       "text": [
        " UNH\n",
        "Downloading analyst opinions for"
       ]
      },
      {
       "output_type": "stream",
       "stream": "stdout",
       "text": [
        " UTX\n",
        "Downloading analyst opinions for"
       ]
      },
      {
       "output_type": "stream",
       "stream": "stdout",
       "text": [
        " V\n",
        "Downloading analyst opinions for"
       ]
      },
      {
       "output_type": "stream",
       "stream": "stdout",
       "text": [
        " VZ\n",
        "Downloading analyst opinions for"
       ]
      },
      {
       "output_type": "stream",
       "stream": "stdout",
       "text": [
        " WMT\n",
        "Downloading analyst opinions for"
       ]
      },
      {
       "output_type": "stream",
       "stream": "stdout",
       "text": [
        " XOM\n"
       ]
      }
     ],
     "prompt_number": 7
    },
    {
     "cell_type": "code",
     "collapsed": false,
     "input": [
      "opinion_sentiments = determine_sentiments(opinions)"
     ],
     "language": "python",
     "metadata": {},
     "outputs": [],
     "prompt_number": 8
    },
    {
     "cell_type": "code",
     "collapsed": false,
     "input": [
      "prices = load_quandl_prices(DJIA, start=datetime(2000, 1, 1))"
     ],
     "language": "python",
     "metadata": {},
     "outputs": []
    },
    {
     "cell_type": "code",
     "collapsed": false,
     "input": [
      "dataset = prices.join(opinion_sentiments)\n",
      "dataset[['Positive', 'Negative']] = dataset[['Positive', 'Negative']].fillna(0)"
     ],
     "language": "python",
     "metadata": {},
     "outputs": [],
     "prompt_number": 28
    },
    {
     "cell_type": "code",
     "collapsed": false,
     "input": [
      "def offsetPrices(prices, days):\n",
      "    prices = prices.reset_index(level='Ticker')\n",
      "    prices.index = prices.index - pd.offsets.Day(days)\n",
      "    prices.index = pd.MultiIndex.from_arrays([prices.index, prices['Ticker']], names=['Date', 'Ticker'])\n",
      "    prices.drop('Ticker', axis=1, inplace=True)\n",
      "    return prices"
     ],
     "language": "python",
     "metadata": {},
     "outputs": [],
     "prompt_number": 120
    },
    {
     "cell_type": "code",
     "collapsed": false,
     "input": [
      "one_hot_opinions = encode_opinions(opinions)\n",
      "# dataset = one_hot_opinions.join(prices['CloseClass']).dropna(axis=0).reset_index(level='Ticker', drop=True)\n",
      "offsetPrices(prices, 1)['CloseClass']"
     ],
     "language": "python",
     "metadata": {},
     "outputs": [
      {
       "metadata": {},
       "output_type": "pyout",
       "prompt_number": 121,
       "text": [
        "Date        Ticker\n",
        "2000-01-03  AXP       Loss\n",
        "2000-01-04  AXP       Loss\n",
        "2000-01-05  AXP       Gain\n",
        "2000-01-06  AXP       Gain\n",
        "2000-01-09  AXP       Gain\n",
        "2000-01-10  AXP       Gain\n",
        "2000-01-11  AXP       Loss\n",
        "2000-01-12  AXP       Gain\n",
        "2000-01-13  AXP       Gain\n",
        "2000-01-17  AXP       Loss\n",
        "2000-01-18  AXP       Loss\n",
        "2000-01-19  AXP       Gain\n",
        "2000-01-20  AXP       Loss\n",
        "2000-01-23  AXP       Gain\n",
        "2000-01-24  AXP       Gain\n",
        "...\n",
        "2015-01-27  XOM       Loss\n",
        "2015-01-28  XOM       Loss\n",
        "2015-01-29  XOM       Loss\n",
        "2015-02-01  XOM       Gain\n",
        "2015-02-02  XOM       Gain\n",
        "2015-02-03  XOM       Loss\n",
        "2015-02-04  XOM       Gain\n",
        "2015-02-05  XOM       Loss\n",
        "2015-02-08  XOM       Gain\n",
        "2015-02-09  XOM       Loss\n",
        "2015-02-10  XOM       Loss\n",
        "2015-02-11  XOM       Gain\n",
        "2015-02-12  XOM       Gain\n",
        "2015-02-16  XOM       Loss\n",
        "2015-02-17  XOM       Loss\n",
        "Name: CloseClass, Length: 112060, dtype: object"
       ]
      }
     ],
     "prompt_number": 121
    },
    {
     "cell_type": "heading",
     "level": 1,
     "metadata": {},
     "source": [
      "MultinominalNB based on words"
     ]
    },
    {
     "cell_type": "code",
     "collapsed": false,
     "input": [
      "day_scores = []\n",
      "\n",
      "for day_offset in range(-3, 10):\n",
      "    offset_prices = offsetPrices(prices, day_offset)\n",
      "    dataset = one_hot_opinions.join(offset_prices['CloseClass']).dropna(axis=0).reset_index(level='Ticker', drop=True)\n",
      "    \n",
      "    X = dataset.drop('CloseClass', axis=1)\n",
      "    y = dataset['CloseClass']\n",
      "\n",
      "    pipeline = Pipeline([\n",
      "      ('tf-idf', TfidfTransformer()),\n",
      "      ('classifier',  MultinomialNB()) ])\n",
      "    \n",
      "    folds = KFold(len(dataset), n_folds=10, shuffle=True)\n",
      "    scores = cross_val_score(pipeline, X, y, cv = folds)\n",
      "    \n",
      "    day_scores.append((day_offset, scores.mean()))\n",
      "    print 'mean kfold score: ', scores.mean(), 'on day', day_offset"
     ],
     "language": "python",
     "metadata": {},
     "outputs": []
    },
    {
     "cell_type": "code",
     "collapsed": false,
     "input": [
      "x, y = zip(*day_scores)\n",
      "plt.plot(x, y)\n",
      "plt.ylim(.3, .8)\n",
      "plt.title('MultinomialNB score in days surrounding\\nanalyst opinion with TF-IDF')\n",
      "plt.ylabel('Score')\n",
      "plt.xlabel('Day offset')\n",
      "plt.axhline(.5, color='r')"
     ],
     "language": "python",
     "metadata": {},
     "outputs": []
    },
    {
     "cell_type": "heading",
     "level": 2,
     "metadata": {},
     "source": [
      "Learning Curve"
     ]
    },
    {
     "cell_type": "code",
     "collapsed": false,
     "input": [
      "dataset = one_hot_opinions.join(prices['CloseClass']).dropna(axis=0).reset_index(level='Ticker', drop=True)\n",
      "\n",
      "X = dataset.drop('CloseClass', axis=1)\n",
      "y = dataset['CloseClass']\n",
      "\n",
      "classifier = MultinomialNB()\n",
      "folds = KFold(len(dataset), n_folds=10, shuffle=True)\n",
      "fig = plot_learning_curve(classifier, \"MultinomialNB Learning Curve\", X, y, cv=folds, train_sizes=np.linspace(.1, 1.0, 20))\n",
      "fig.show()"
     ],
     "language": "python",
     "metadata": {},
     "outputs": [
      {
       "output_type": "stream",
       "stream": "stderr",
       "text": [
        "[Parallel(n_jobs=1)]: Done   1 jobs       | elapsed:    0.0s\n",
        "[Parallel(n_jobs=1)]: Done  50 jobs       | elapsed:    0.8s\n"
       ]
      },
      {
       "output_type": "stream",
       "stream": "stdout",
       "text": [
        "[learning_curve] Training set sizes: [ 238  351  464  577  690  804  917 1030 1143 1256 1369 1482 1595 1708 1821\n",
        " 1934 2047 2160 2273 2387]\n"
       ]
      },
      {
       "output_type": "stream",
       "stream": "stderr",
       "text": [
        "[Parallel(n_jobs=1)]: Done 200 jobs       | elapsed:    3.5s\n",
        "[Parallel(n_jobs=1)]: Done 200 out of 200 | elapsed:    3.5s finished\n"
       ]
      },
      {
       "metadata": {},
       "output_type": "display_data",
       "png": "[encoded data removed]",
       "text": [
        "<matplotlib.figure.Figure at 0x9e99cd2c>"
       ]
      }
     ],
     "prompt_number": 178
    },
    {
     "cell_type": "heading",
     "level": 1,
     "metadata": {},
     "source": [
      "MultinominalNB based on Sentiment"
     ]
    },
    {
     "cell_type": "code",
     "collapsed": false,
     "input": [
      "day_scores = []\n",
      "\n",
      "for day_offset in range(-3, 5):\n",
      "    offset_prices = offsetPrices(prices, day_offset)\n",
      "    dataset = opinion_sentiments.join(offset_prices['CloseClass']).dropna(axis=0, subset=['CloseClass']).fillna(0).reset_index(level='Ticker', drop=True)\n",
      "    \n",
      "    X = dataset.drop('CloseClass', axis=1)\n",
      "    y = dataset['CloseClass']\n",
      "\n",
      "    pipeline = Pipeline([    \n",
      "      ('classifier',   SVC(gamma=2, C=1)) ])    \n",
      "    \n",
      "    folds = KFold(len(dataset), n_folds=10, shuffle=True)\n",
      "    scores = cross_val_score(pipeline, X, y, cv = folds)\n",
      "    \n",
      "    day_scores.append((day_offset, scores.mean()))\n",
      "    print 'mean kfold score: ', scores.mean(), 'on day', day_offset"
     ],
     "language": "python",
     "metadata": {},
     "outputs": [
      {
       "output_type": "stream",
       "stream": "stdout",
       "text": [
        "mean kfold score:  0.524350495985 on day -3\n",
        "mean kfold score: "
       ]
      },
      {
       "output_type": "stream",
       "stream": "stdout",
       "text": [
        " 0.496448439894 on day -2\n",
        "mean kfold score: "
       ]
      },
      {
       "output_type": "stream",
       "stream": "stdout",
       "text": [
        " 0.54093282436 on day -1\n",
        "mean kfold score: "
       ]
      },
      {
       "output_type": "stream",
       "stream": "stdout",
       "text": [
        " 0.672069797134 on day 0\n",
        "mean kfold score: "
       ]
      },
      {
       "output_type": "stream",
       "stream": "stdout",
       "text": [
        " 0.542395949461 on day 1\n",
        "mean kfold score: "
       ]
      },
      {
       "output_type": "stream",
       "stream": "stdout",
       "text": [
        " 0.519851116625 on day 2\n",
        "mean kfold score: "
       ]
      },
      {
       "output_type": "stream",
       "stream": "stdout",
       "text": [
        " 0.467514348786 on day 3\n",
        "mean kfold score: "
       ]
      },
      {
       "output_type": "stream",
       "stream": "stdout",
       "text": [
        " 0.503065820923 on day 4\n"
       ]
      }
     ],
     "prompt_number": 193
    },
    {
     "cell_type": "code",
     "collapsed": false,
     "input": [
      "x, y = zip(*day_scores)\n",
      "plt.plot(x, y)\n",
      "plt.ylim(.3, .8)\n",
      "plt.title('MultinomialNB score in days surrounding\\nanalyst opinion without TF-IDF')\n",
      "plt.ylabel('Score')\n",
      "plt.xlabel('Day offset')\n",
      "plt.axhline(.5, color='r')"
     ],
     "language": "python",
     "metadata": {},
     "outputs": [
      {
       "metadata": {},
       "output_type": "pyout",
       "prompt_number": 194,
       "text": [
        "<matplotlib.lines.Line2D at 0x9d224f0c>"
       ]
      },
      {
       "metadata": {},
       "output_type": "display_data",
       "png": "[encoded data removed]",
       "text": [
        "<matplotlib.figure.Figure at 0x9c1d49ec>"
       ]
      }
     ],
     "prompt_number": 194
    }
   ],
   "metadata": {}
  }
 ]
}