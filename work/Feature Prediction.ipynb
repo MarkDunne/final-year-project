{
 "metadata": {
  "name": "",
  "signature": "sha256:6bb00b7cf374ec228255bd63f3b8a3685b22e6a128b51ce184066a8ad3b64015"
 },
 "nbformat": 3,
 "nbformat_minor": 0,
 "worksheets": [
  {
   "cells": [
    {
     "cell_type": "code",
     "collapsed": false,
     "input": [
      "%matplotlib inline\n",
      "\n",
      "import Quandl\n",
      "import numpy as np\n",
      "import pandas as pd\n",
      "import matplotlib.pyplot as plt\n",
      "\n",
      "from datetime import datetime\n",
      "from sklearn.linear_model import SGDClassifier\n",
      "from sklearn.linear_model import LogisticRegression\n",
      "from sklearn.cross_validation import cross_val_score\n",
      "from sklearn.cross_validation import StratifiedKFold\n",
      "from sklearn.cross_validation import train_test_split\n",
      "from sklearn.preprocessing import LabelEncoder\n",
      "from sklearn.metrics import confusion_matrix\n",
      "from sklearn.metrics import make_scorer\n",
      "from sklearn.neighbors import KNeighborsClassifier\n",
      "from sklearn.grid_search import GridSearchCV\n",
      "\n",
      "from plot_learning_curve import plot_learning_curve"
     ],
     "language": "python",
     "metadata": {},
     "outputs": [],
     "prompt_number": 109
    },
    {
     "cell_type": "code",
     "collapsed": false,
     "input": [
      "def kappa(cm):\n",
      "    num_classes = len(cm)\n",
      "    sum_all = 0\n",
      "    sum_diag = 0\n",
      "    sum_rands = 0\n",
      "    for i in range(0, num_classes):\n",
      "        sum_diag = sum_diag + cm[i, i]\n",
      "        sum_col = 0\n",
      "        sum_row = 0\n",
      "        for j in range(0, num_classes):\n",
      "            sum_col = sum_col + cm[j, i]\n",
      "            sum_row = sum_row + cm[i, j]\n",
      "            sum_all = sum_all + cm[i, j]\n",
      "        sum_rands = sum_rands + sum_row * sum_col\n",
      "    acc = sum_diag * 1.0 / sum_all\n",
      "    rand = sum_rands * 1.0 / (sum_all * sum_all)\n",
      "    return (acc - rand) / (1 - rand)"
     ],
     "language": "python",
     "metadata": {},
     "outputs": [],
     "prompt_number": 2
    },
    {
     "cell_type": "code",
     "collapsed": false,
     "input": [
      "kappa_scorer = make_scorer(lambda y_true, y_pred: kappa(confusion_matrix(y_true, y_pred)), greater_is_better=True)"
     ],
     "language": "python",
     "metadata": {},
     "outputs": [],
     "prompt_number": 3
    },
    {
     "cell_type": "code",
     "collapsed": false,
     "input": [
      "start_date = datetime(2008, 1, 1)"
     ],
     "language": "python",
     "metadata": {},
     "outputs": [],
     "prompt_number": 4
    },
    {
     "cell_type": "code",
     "collapsed": false,
     "input": [
      "dji = Quandl.get(\"GOOG/AMEX_DIA\", trim_start = start_date, transformation = 'rdiff')"
     ],
     "language": "python",
     "metadata": {},
     "outputs": [],
     "prompt_number": 19
    },
    {
     "cell_type": "code",
     "collapsed": false,
     "input": [
      "dax = Quandl.get(\"YAHOO/INDEX_GDAXI\", trim_start = start_date, transformation = 'rdiff')"
     ],
     "language": "python",
     "metadata": {},
     "outputs": [],
     "prompt_number": 6
    },
    {
     "cell_type": "code",
     "collapsed": false,
     "input": [
      "ftse = Quandl.get(\"YAHOO/INDEX_FTSE\", trim_start = start_date, transformation = 'rdiff')"
     ],
     "language": "python",
     "metadata": {},
     "outputs": [],
     "prompt_number": 7
    },
    {
     "cell_type": "code",
     "collapsed": false,
     "input": [
      "aud = Quandl.get(\"CURRFX/AUDUSD\", trim_start = start_date, transformation = 'rdiff')"
     ],
     "language": "python",
     "metadata": {},
     "outputs": [],
     "prompt_number": 8
    },
    {
     "cell_type": "code",
     "collapsed": false,
     "input": [
      "eur = Quandl.get(\"CURRFX/EURUSD\", trim_start = start_date, transformation = 'rdiff')"
     ],
     "language": "python",
     "metadata": {},
     "outputs": [],
     "prompt_number": 9
    },
    {
     "cell_type": "code",
     "collapsed": false,
     "input": [
      "dax_fut = Quandl.get(\"CHRIS/EUREX_FDAX1\", trim_start = start_date, transformation = 'rdiff')"
     ],
     "language": "python",
     "metadata": {},
     "outputs": [],
     "prompt_number": 10
    },
    {
     "cell_type": "code",
     "collapsed": false,
     "input": [
      "oil = Quandl.get(\"OFDP/FUTURE_B1\", trim_start = start_date, transformation = 'rdiff')"
     ],
     "language": "python",
     "metadata": {},
     "outputs": [],
     "prompt_number": 11
    },
    {
     "cell_type": "code",
     "collapsed": false,
     "input": [
      "n225 = Quandl.get(\"YAHOO/INDEX_N225\", trim_start = start_date, transformation = 'rdiff')"
     ],
     "language": "python",
     "metadata": {},
     "outputs": [],
     "prompt_number": 12
    },
    {
     "cell_type": "code",
     "collapsed": false,
     "input": [
      "sse = Quandl.get(\"YAHOO/INDEX_SSEC\", trim_start = start_date, transformation = 'rdiff')"
     ],
     "language": "python",
     "metadata": {},
     "outputs": [],
     "prompt_number": 13
    },
    {
     "cell_type": "code",
     "collapsed": false,
     "input": [
      "dji_change = pd.DataFrame({'pc_change' : dji['Close']})#, 'pc_change_class': dji['Adjusted Close'] > 0})\n",
      "dax_change = pd.DataFrame({'pc_change' : dax['Adjusted Close']})#, 'pc_change_class': dax['Adjusted Close'] > 0})\n",
      "ftse_change = pd.DataFrame({'pc_change' : ftse['Adjusted Close']})#, 'pc_change_class': ftse['Adjusted Close'] > 0})\n",
      "n225_change = pd.DataFrame({'pc_change' : n225['Adjusted Close']})\n",
      "aud_change = pd.DataFrame({'pc_change': aud['Rate']})\n",
      "eur_change = pd.DataFrame({'pc_change': eur['Rate']})\n",
      "dax_fut_change = pd.DataFrame({'pc_change': dax_fut['Settle']})\n",
      "oil_change = pd.DataFrame({'pc_change': oil['Settle']})\n",
      "sse_change = pd.DataFrame({'pc_change': sse['Adjusted Close']})"
     ],
     "language": "python",
     "metadata": {},
     "outputs": [],
     "prompt_number": 130
    },
    {
     "cell_type": "code",
     "collapsed": false,
     "input": [
      "dji_change = dji_change.shift(-1)"
     ],
     "language": "python",
     "metadata": {},
     "outputs": [],
     "prompt_number": 120
    },
    {
     "cell_type": "heading",
     "level": 2,
     "metadata": {},
     "source": [
      "Feature Selection"
     ]
    },
    {
     "cell_type": "code",
     "collapsed": false,
     "input": [
      "def test_feature(dataset, col_name):    \n",
      "    dataset.loc[dataset['pc_change'] > 0 , 'trend'] = 'Gain'\n",
      "    dataset.loc[dataset['pc_change'] < 0 , 'trend'] = 'Loss' \n",
      "    dataset = dataset.dropna()\n",
      "    \n",
      "    X = dataset.drop(['trend', 'pc_change'], axis=1)\n",
      "    y = dataset['trend']\n",
      "    folds = StratifiedKFold(y, n_folds = 10)\n",
      "    classifer = KNeighborsClassifier(30)\n",
      "    scores = cross_val_score(classifer, X, y, cv = folds)\n",
      "    return np.mean(scores)\n",
      "\n",
      "feature_accuracy = dict()\n",
      "\n",
      "dataset = dji_change.join(dax_change, rsuffix='_dax', how='inner')\n",
      "feature_accuracy['DAX'] = test_feature(dataset, 'pc_change_dax')\n",
      "\n",
      "dataset = dji_change.join(ftse_change, rsuffix='_ftse', how='inner')\n",
      "feature_accuracy['FTSE'] = test_feature(dataset, 'pc_change_ftse')\n",
      "\n",
      "dataset = dji_change.join(n225_change, rsuffix='_n225', how='inner')\n",
      "feature_accuracy['N225'] = test_feature(dataset, 'pc_change_n225')\n",
      "\n",
      "dataset = dji_change.join(aud_change, rsuffix='_aud', how='inner')\n",
      "feature_accuracy['AUD'] = test_feature(dataset, 'pc_change_aud')\n",
      "\n",
      "dataset = dji_change.join(eur_change, rsuffix='_eur', how='inner')\n",
      "feature_accuracy['EUR'] = test_feature(dataset, 'pc_change_eur')\n",
      "\n",
      "dataset = dji_change.join(dax_fut_change, rsuffix='_dax_fut', how='inner')\n",
      "feature_accuracy['DAX FUT'] = test_feature(dataset, 'pc_change_dax_fut')\n",
      "\n",
      "dataset = dji_change.join(oil_change, rsuffix='_oil', how='inner')\n",
      "feature_accuracy['OIL'] = test_feature(dataset, 'pc_change_oil')\n",
      "\n",
      "dataset = dji_change.join(sse_change, rsuffix='_sse', how='inner')\n",
      "feature_accuracy['SSE'] = test_feature(dataset, 'pc_change_sse')\n",
      "\n",
      "pd.DataFrame.from_dict(feature_accuracy, orient='index').plot(kind='bar', rot=20)"
     ],
     "language": "python",
     "metadata": {},
     "outputs": [
      {
       "metadata": {},
       "output_type": "pyout",
       "prompt_number": 135,
       "text": [
        "<matplotlib.axes._subplots.AxesSubplot at 0xab58482c>"
       ]
      },
      {
       "metadata": {},
       "output_type": "display_data",
       "png": "[encoded data removed]",
       "text": [
        "<matplotlib.figure.Figure at 0xab50c4ec>"
       ]
      }
     ],
     "prompt_number": 135
    },
    {
     "cell_type": "code",
     "collapsed": false,
     "input": [
      "# dataset = dji_change.join(dax_change, rsuffix='_dax', how='inner')\n",
      "dataset = dji_change.join(ftse_change, rsuffix='_ftse', how='inner')\n",
      "dataset = dataset.join(oil_change, rsuffix='_oil', how='inner')\n",
      "dataset = dataset.join(aud_change, rsuffix='_aud', how='inner')\n",
      "# dataset = dataset.join(dax_fut_change, rsuffix='_dax_fut', how='inner')\n",
      "\n",
      "dataset.loc[dataset['pc_change'] > 0 , 'trend'] = 'Gain'\n",
      "dataset.loc[dataset['pc_change'] < 0 , 'trend'] = 'Loss'\n",
      "dataset = dataset.dropna()\n",
      "dataset = dataset.take(np.random.permutation(len(dataset)))"
     ],
     "language": "python",
     "metadata": {},
     "outputs": [],
     "prompt_number": 125
    },
    {
     "cell_type": "code",
     "collapsed": false,
     "input": [
      "X = dataset.drop(['trend', 'pc_change'], axis=1)\n",
      "y = dataset['trend']\n",
      "\n",
      "classifer = KNeighborsClassifier(10)\n",
      "folds = StratifiedKFold(y, n_folds = 10)\n",
      "hyperparameters = {'n_neighbors' : np.arange(1, 100), 'weights' : ['uniform', 'distance']}\n",
      "\n",
      "gs = GridSearchCV(classifer, hyperparameters, scoring = kappa_scorer, cv = folds)\n",
      "gs.fit(X, y)\n",
      "\n",
      "# Display some of its instance variables afterwards\n",
      "# print(gs.grid_scores_)\n",
      "print(gs.best_estimator_)\n",
      "print(gs.best_score_)\n",
      "print(gs.best_params_)"
     ],
     "language": "python",
     "metadata": {},
     "outputs": [
      {
       "output_type": "stream",
       "stream": "stdout",
       "text": [
        "KNeighborsClassifier(algorithm='auto', leaf_size=30, metric='minkowski',\n",
        "           metric_params=None, n_neighbors=16, p=2, weights='distance')\n",
        "0.0812000380352\n",
        "{'n_neighbors': 16, 'weights': 'distance'}\n"
       ]
      }
     ],
     "prompt_number": 126
    },
    {
     "cell_type": "code",
     "collapsed": false,
     "input": [
      "classifer = KNeighborsClassifier(86, weights='uniform')\n",
      "folds = StratifiedKFold(y, n_folds = 10)\n",
      "scores = cross_val_score(classifer, X, y, cv = folds)\n",
      "print np.mean(scores)"
     ],
     "language": "python",
     "metadata": {},
     "outputs": [
      {
       "output_type": "stream",
       "stream": "stdout",
       "text": [
        "0.541817864418\n"
       ]
      }
     ],
     "prompt_number": 124
    },
    {
     "cell_type": "code",
     "collapsed": false,
     "input": [
      "plot_learning_curve(classifer, \"30NN Learning Curve\", X, y)"
     ],
     "language": "python",
     "metadata": {},
     "outputs": [
      {
       "metadata": {},
       "output_type": "pyout",
       "prompt_number": 114,
       "text": [
        "<module 'matplotlib.pyplot' from '/home/mark/anaconda/lib/python2.7/site-packages/matplotlib/pyplot.pyc'>"
       ]
      },
      {
       "metadata": {},
       "output_type": "display_data",
       "png": "[encoded data removed]",
       "text": [
        "<matplotlib.figure.Figure at 0xab7772ec>"
       ]
      }
     ],
     "prompt_number": 114
    },
    {
     "cell_type": "code",
     "collapsed": false,
     "input": [
      "trX, teX, trY, teY = train_test_split(X, y, test_size= 0.3)\n",
      "\n",
      "classifer = KNeighborsClassifier(38, weights='distance')\n",
      "classifer.fit(trX, trY)"
     ],
     "language": "python",
     "metadata": {},
     "outputs": [
      {
       "metadata": {},
       "output_type": "pyout",
       "prompt_number": 97,
       "text": [
        "KNeighborsClassifier(algorithm='auto', leaf_size=30, metric='minkowski',\n",
        "           metric_params=None, n_neighbors=38, p=2, weights='distance')"
       ]
      }
     ],
     "prompt_number": 97
    },
    {
     "cell_type": "code",
     "collapsed": false,
     "input": [
      "probs = classifer.predict_proba(teX)\n",
      "good_guesses = (probs > 0.8).any(axis=1)\n",
      "\n",
      "predictions = classifer.predict(teX)\n",
      "good_preds = predictions[good_guesses]\n",
      "good_trues = teY[good_guesses]\n",
      "\n",
      "cm = confusion_matrix(good_trues, good_preds)\n",
      "cm"
     ],
     "language": "python",
     "metadata": {},
     "outputs": [
      {
       "metadata": {},
       "output_type": "pyout",
       "prompt_number": 107,
       "text": [
        "array([[84, 16],\n",
        "       [11, 59]])"
       ]
      }
     ],
     "prompt_number": 107
    },
    {
     "cell_type": "code",
     "collapsed": false,
     "input": [],
     "language": "python",
     "metadata": {},
     "outputs": [
      {
       "metadata": {},
       "output_type": "pyout",
       "prompt_number": 85,
       "text": [
        "array([[946,   0],\n",
        "       [  0, 823]])"
       ]
      }
     ],
     "prompt_number": 85
    }
   ],
   "metadata": {}
  }
 ]
}