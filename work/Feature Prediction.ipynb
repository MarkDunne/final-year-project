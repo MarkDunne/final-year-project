{
 "metadata": {
  "name": "",
  "signature": "sha256:438c36e707edd73504b88c3e179fd6ea26a99d8a339b2c78b2dca1b9b1260e78"
 },
 "nbformat": 3,
 "nbformat_minor": 0,
 "worksheets": [
  {
   "cells": [
    {
     "cell_type": "code",
     "collapsed": false,
     "input": [
      "%matplotlib inline\n",
      "\n",
      "import Quandl\n",
      "import numpy as np\n",
      "import pandas as pd\n",
      "import matplotlib.pyplot as plt\n",
      "\n",
      "from datetime import datetime\n",
      "from sklearn.linear_model import SGDClassifier\n",
      "from sklearn.linear_model import LogisticRegression\n",
      "from sklearn.cross_validation import cross_val_score\n",
      "from sklearn.cross_validation import StratifiedKFold\n",
      "from sklearn.cross_validation import train_test_split\n",
      "from sklearn.preprocessing import LabelEncoder\n",
      "from sklearn.metrics import confusion_matrix\n",
      "from sklearn.metrics import make_scorer\n",
      "from sklearn.neighbors import KNeighborsClassifier"
     ],
     "language": "python",
     "metadata": {},
     "outputs": [],
     "prompt_number": 170
    },
    {
     "cell_type": "code",
     "collapsed": false,
     "input": [
      "def kappa(cm):\n",
      "    num_classes = len(cm)\n",
      "    sum_all = 0\n",
      "    sum_diag = 0\n",
      "    sum_rands = 0\n",
      "    for i in range(0, num_classes):\n",
      "        sum_diag = sum_diag + cm[i, i]\n",
      "        sum_col = 0\n",
      "        sum_row = 0\n",
      "        for j in range(0, num_classes):\n",
      "            sum_col = sum_col + cm[j, i]\n",
      "            sum_row = sum_row + cm[i, j]\n",
      "            sum_all = sum_all + cm[i, j]\n",
      "        sum_rands = sum_rands + sum_row * sum_col\n",
      "    acc = sum_diag * 1.0 / sum_all\n",
      "    rand = sum_rands * 1.0 / (sum_all * sum_all)\n",
      "    return (acc - rand) / (1 - rand)"
     ],
     "language": "python",
     "metadata": {},
     "outputs": [],
     "prompt_number": 2
    },
    {
     "cell_type": "code",
     "collapsed": false,
     "input": [
      "kappa_scorer = make_scorer(lambda y_true, y_pred: kappa(confusion_matrix(y_true, y_pred)), greater_is_better=True)"
     ],
     "language": "python",
     "metadata": {},
     "outputs": [],
     "prompt_number": 26
    },
    {
     "cell_type": "code",
     "collapsed": false,
     "input": [
      "start_date = datetime(2008, 1, 1)"
     ],
     "language": "python",
     "metadata": {},
     "outputs": [],
     "prompt_number": 3
    },
    {
     "cell_type": "code",
     "collapsed": false,
     "input": [
      "dji = Quandl.get(\"YAHOO/INDEX_DJI\", trim_start = start_date, transformation = 'rdiff')"
     ],
     "language": "python",
     "metadata": {},
     "outputs": [],
     "prompt_number": 4
    },
    {
     "cell_type": "code",
     "collapsed": false,
     "input": [
      "dax = Quandl.get(\"YAHOO/INDEX_GDAXI\", trim_start = start_date, transformation = 'rdiff')"
     ],
     "language": "python",
     "metadata": {},
     "outputs": [],
     "prompt_number": 5
    },
    {
     "cell_type": "code",
     "collapsed": false,
     "input": [
      "ftse = Quandl.get(\"YAHOO/INDEX_FTSE\", trim_start = start_date, transformation = 'rdiff')"
     ],
     "language": "python",
     "metadata": {},
     "outputs": [],
     "prompt_number": 6
    },
    {
     "cell_type": "code",
     "collapsed": false,
     "input": [
      "aud = Quandl.get(\"CURRFX/AUDUSD\", trim_start = start_date, transformation = 'rdiff')"
     ],
     "language": "python",
     "metadata": {},
     "outputs": [],
     "prompt_number": 7
    },
    {
     "cell_type": "code",
     "collapsed": false,
     "input": [
      "eur = Quandl.get(\"CURRFX/EURUSD\", trim_start = start_date, transformation = 'rdiff')"
     ],
     "language": "python",
     "metadata": {},
     "outputs": [],
     "prompt_number": 8
    },
    {
     "cell_type": "code",
     "collapsed": false,
     "input": [
      "dax_fut = Quandl.get(\"CHRIS/EUREX_FDAX1\", trim_start = start_date, transformation = 'rdiff')"
     ],
     "language": "python",
     "metadata": {},
     "outputs": [],
     "prompt_number": 9
    },
    {
     "cell_type": "code",
     "collapsed": false,
     "input": [
      "oil = Quandl.get(\"OFDP/FUTURE_B1\", trim_start = start_date, transformation = 'rdiff')"
     ],
     "language": "python",
     "metadata": {},
     "outputs": [],
     "prompt_number": 70
    },
    {
     "cell_type": "code",
     "collapsed": false,
     "input": [
      "n225 = Quandl.get(\"YAHOO/INDEX_N225\", trim_start = start_date, transformation = 'rdiff')"
     ],
     "language": "python",
     "metadata": {},
     "outputs": [],
     "prompt_number": 75
    },
    {
     "cell_type": "code",
     "collapsed": false,
     "input": [
      "sse = Quandl.get(\"YAHOO/INDEX_SSEC\", trim_start = start_date, transformation = 'rdiff')"
     ],
     "language": "python",
     "metadata": {},
     "outputs": [],
     "prompt_number": 152
    },
    {
     "cell_type": "code",
     "collapsed": false,
     "input": [
      "dji_change = pd.DataFrame({'pc_change' : dji['Adjusted Close']})#, 'pc_change_class': dji['Adjusted Close'] > 0})\n",
      "dax_change = pd.DataFrame({'pc_change' : dax['Adjusted Close']})#, 'pc_change_class': dax['Adjusted Close'] > 0})\n",
      "ftse_change = pd.DataFrame({'pc_change' : ftse['Adjusted Close']})#, 'pc_change_class': ftse['Adjusted Close'] > 0})\n",
      "n225_change = pd.DataFrame({'pc_change' : n225['Adjusted Close']})\n",
      "aud_change = pd.DataFrame({'pc_change': aud['Rate']})\n",
      "eur_change = pd.DataFrame({'pc_change': eur['Rate']})\n",
      "dax_fut_change = pd.DataFrame({'pc_change': dax_fut['Settle']})\n",
      "oil_change = pd.DataFrame({'pc_change': oil['Settle']})\n",
      "sse_change = pd.DataFrame({'pc_change': sse['Adjusted Close']})"
     ],
     "language": "python",
     "metadata": {},
     "outputs": [],
     "prompt_number": 154
    },
    {
     "cell_type": "heading",
     "level": 2,
     "metadata": {},
     "source": [
      "Feature Selection"
     ]
    },
    {
     "cell_type": "code",
     "collapsed": false,
     "input": [
      "def test_feature(dataset, col_name):    \n",
      "    dataset.loc[dataset['pc_change'] > 0 , 'trend'] = 'Gain'\n",
      "    dataset.loc[dataset['pc_change'] < 0 , 'trend'] = 'Loss' \n",
      "    dataset = dataset.dropna()\n",
      "    \n",
      "    X = dataset.drop(['trend', 'pc_change'], axis=1)\n",
      "    y = dataset['trend']\n",
      "    folds = StratifiedKFold(y, n_folds = 10)\n",
      "    classifer = KNeighborsClassifier(10)\n",
      "    scores = cross_val_score(classifer, X, y, cv = folds, scoring=kappa_scorer)\n",
      "    return np.mean(scores)\n",
      "\n",
      "feature_accuracy = dict()\n",
      "\n",
      "dataset = dji_change.join(dax_change, rsuffix='_dax', how='inner')\n",
      "feature_accuracy['DAX'] = test_feature(dataset, 'pc_change_dax')\n",
      "\n",
      "dataset = dji_change.join(ftse_change, rsuffix='_ftse', how='inner')\n",
      "feature_accuracy['FTSE'] = test_feature(dataset, 'pc_change_ftse')\n",
      "\n",
      "dataset = dji_change.join(n225_change, rsuffix='_n225', how='inner')\n",
      "feature_accuracy['N225'] = test_feature(dataset, 'pc_change_n225')\n",
      "\n",
      "dataset = dji_change.join(aud_change, rsuffix='_aud', how='inner')\n",
      "feature_accuracy['AUD'] = test_feature(dataset, 'pc_change_aud')\n",
      "\n",
      "dataset = dji_change.join(eur_change, rsuffix='_eur', how='inner')\n",
      "feature_accuracy['EUR'] = test_feature(dataset, 'pc_change_eur')\n",
      "\n",
      "dataset = dji_change.join(dax_fut_change, rsuffix='_dax_fut', how='inner')\n",
      "feature_accuracy['DAX FUT'] = test_feature(dataset, 'pc_change_dax_fut')\n",
      "\n",
      "dataset = dji_change.join(oil_change, rsuffix='_oil', how='inner')\n",
      "feature_accuracy['OIL'] = test_feature(dataset, 'pc_change_oil')\n",
      "\n",
      "dataset = dji_change.join(sse_change, rsuffix='_sse', how='inner')\n",
      "feature_accuracy['SSE'] = test_feature(dataset, 'pc_change_sse')\n",
      "\n",
      "pd.DataFrame.from_dict(feature_accuracy, orient='index').plot(kind='bar', rot=20)"
     ],
     "language": "python",
     "metadata": {},
     "outputs": [
      {
       "metadata": {},
       "output_type": "pyout",
       "prompt_number": 177,
       "text": [
        "<matplotlib.axes._subplots.AxesSubplot at 0xa90114cc>"
       ]
      },
      {
       "metadata": {},
       "output_type": "display_data",
       "png": "[encoded data removed]",
       "text": [
        "<matplotlib.figure.Figure at 0xa901358c>"
       ]
      }
     ],
     "prompt_number": 177
    },
    {
     "cell_type": "code",
     "collapsed": false,
     "input": [
      "dataset = dji_change.join(dax_change, rsuffix='_dax', how='inner')\n",
      "dataset = dataset.join(ftse_change, rsuffix='_ftse', how='inner')\n",
      "# dataset = dataset.join(oil_change, rsuffix='_oil', how='inner')\n",
      "dataset = dataset.join(dax_fut_change, rsuffix='_dax_fut', how='inner')\n",
      "\n",
      "dataset.loc[dataset['pc_change'] > 0 , 'trend'] = 'Gain'\n",
      "dataset.loc[dataset['pc_change'] < 0 , 'trend'] = 'Loss'\n",
      "dataset = dataset.dropna()\n",
      "dataset = dataset.take(np.random.permutation(len(dataset)))"
     ],
     "language": "python",
     "metadata": {},
     "outputs": [],
     "prompt_number": 187
    },
    {
     "cell_type": "code",
     "collapsed": false,
     "input": [
      "len(dataset)"
     ],
     "language": "python",
     "metadata": {},
     "outputs": [
      {
       "metadata": {},
       "output_type": "pyout",
       "prompt_number": 188,
       "text": [
        "528"
       ]
      }
     ],
     "prompt_number": 188
    },
    {
     "cell_type": "code",
     "collapsed": false,
     "input": [
      "X = dataset.drop(['trend', 'pc_change'], axis=1)\n",
      "y = dataset['trend']\n",
      "\n",
      "classifer = KNeighborsClassifier(10)\n",
      "folds = StratifiedKFold(y, n_folds = 10)\n",
      "scores = cross_val_score(classifer, X, y, cv = folds, scoring=kappa_scorer)\n",
      "\n",
      "print np.mean(scores)"
     ],
     "language": "python",
     "metadata": {},
     "outputs": [
      {
       "output_type": "stream",
       "stream": "stdout",
       "text": [
        "0.423800036336\n"
       ]
      }
     ],
     "prompt_number": 190
    }
   ],
   "metadata": {}
  }
 ]
}