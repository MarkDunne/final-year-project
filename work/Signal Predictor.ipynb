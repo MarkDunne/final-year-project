{
 "metadata": {
  "name": "",
  "signature": "sha256:d60a7d0fb68c4240410784d4a07addf98373f649f40310ad48b6820402ada9e9"
 },
 "nbformat": 3,
 "nbformat_minor": 0,
 "worksheets": [
  {
   "cells": [
    {
     "cell_type": "code",
     "collapsed": false,
     "input": [
      "%matplotlib inline\n",
      "\n",
      "import talib\n",
      "import common\n",
      "import numpy as np\n",
      "import pandas as pd\n",
      "import matplotlib.pyplot as plt\n",
      "\n",
      "from sklearn.pipeline import Pipeline\n",
      "from sklearn.preprocessing import StandardScaler\n",
      "from sklearn.linear_model import LogisticRegression\n",
      "from sklearn.naive_bayes import GaussianNB\n",
      "from sklearn.cross_validation import cross_val_score\n",
      "from sklearn.metrics import make_scorer\n",
      "from sklearn.metrics import confusion_matrix\n",
      "from sklearn.metrics import accuracy_score\n",
      "\n",
      "from datetime import datetime\n",
      "from pylab import rcParams\n",
      "rcParams['figure.figsize'] = 12, 6"
     ],
     "language": "python",
     "metadata": {},
     "outputs": [
      {
       "output_type": "stream",
       "stream": "stderr",
       "text": [
        "/home/mark/anaconda/lib/python2.7/site-packages/setuptools-12.2-py2.7.egg/pkg_resources/__init__.py:1224: UserWarning: /home/mark/.python-eggs is writable by group/others and vulnerable to attack when used with get_resource_filename. Consider a more secure location (set with .set_extraction_path or the PYTHON_EGG_CACHE environment variable).\n"
       ]
      }
     ],
     "prompt_number": 1
    },
    {
     "cell_type": "code",
     "collapsed": false,
     "input": [
      "DJIA = pd.read_csv('../data/DowJonesIA.csv')"
     ],
     "language": "python",
     "metadata": {},
     "outputs": [],
     "prompt_number": 2
    },
    {
     "cell_type": "code",
     "collapsed": false,
     "input": [
      "prices = common.load_quandl_absolute_prices(DJIA, datetime(2000, 1, 1))"
     ],
     "language": "python",
     "metadata": {},
     "outputs": [
      {
       "output_type": "stream",
       "stream": "stdout",
       "text": [
        "Loading prices from cache\n"
       ]
      }
     ],
     "prompt_number": 3
    },
    {
     "cell_type": "code",
     "collapsed": false,
     "input": [
      "def sign(num):\n",
      "    if num < 0:\n",
      "        return -1\n",
      "    if num == 0:\n",
      "        return 0\n",
      "    if num > 0:\n",
      "        return 1\n",
      "\n",
      "def crossover(df, col1, col2):\n",
      "    def find_crossover(vals):\n",
      "        if sign(vals[0]) == sign(vals[1]):\n",
      "            return 0\n",
      "        else:\n",
      "            return sign(vals[0])\n",
      "    \n",
      "    diff = df[col2] - df[col1]\n",
      "    return pd.rolling_apply(diff, 2, find_crossover)"
     ],
     "language": "python",
     "metadata": {},
     "outputs": [],
     "prompt_number": 4
    },
    {
     "cell_type": "code",
     "collapsed": false,
     "input": [
      "def kappa(cm):\n",
      "    num_classes = len(cm)\n",
      "    sum_all = 0\n",
      "    sum_diag = 0\n",
      "    sum_rands = 0\n",
      "    for i in range(0, num_classes):\n",
      "        sum_diag = sum_diag + cm[i, i]\n",
      "        sum_col = 0\n",
      "        sum_row = 0\n",
      "        for j in range(0, num_classes):\n",
      "            sum_col = sum_col + cm[j, i]\n",
      "            sum_row = sum_row + cm[i, j]\n",
      "            sum_all = sum_all + cm[i, j]\n",
      "        sum_rands = sum_rands + sum_row * sum_col\n",
      "    acc = sum_diag * 1.0 / sum_all\n",
      "    rand = sum_rands * 1.0 / (sum_all * sum_all)\n",
      "    return (acc - rand) / (1 - rand)\n",
      "\n",
      "kappa_scorer = make_scorer(lambda y_true, y_pred: kappa(confusion_matrix(y_true, y_pred)), greater_is_better=True)"
     ],
     "language": "python",
     "metadata": {},
     "outputs": [],
     "prompt_number": 5
    },
    {
     "cell_type": "code",
     "collapsed": false,
     "input": [
      "dataset = pd.DataFrame()\n",
      "\n",
      "def augmented_crossover(df, col1, col2):\n",
      "    def find_crossover(vals):\n",
      "        if sign(vals[0]) == sign(vals[1]):\n",
      "            return 0\n",
      "        else:\n",
      "            return vals[0] - vals[1]\n",
      "    \n",
      "    diff = df[col2] - df[col1]\n",
      "    return pd.rolling_apply(diff, 2, find_crossover)\n",
      "\n",
      "for ticker in prices['Ticker'].unique():\n",
      "    ticker_prices = prices[prices['Ticker'] == ticker] \n",
      "        \n",
      "    #Moving averages(1, 51):\n",
      "    for term in range(1, 51):\n",
      "        ticker_prices[term] = pd.rolling_mean(ticker_prices['Close'], term)\n",
      "#     ticker_prices['Crossover'] = crossover(ticker_prices, '10MA', '20MA')\n",
      "    #ticker_prices['momentum'] = talib.MOM(ticker_prices['Close'].values)\n",
      "    \n",
      "    #dependent variables\n",
      "    ticker_prices['y'] = common.rdiff(ticker_prices.shift(-1)['Close'], 2)\n",
      "    ticker_prices['yClass'] = 'Neutral'\n",
      "    ticker_prices.loc[ticker_prices['y'] > 0, 'yClass'] = 'Gain'\n",
      "    ticker_prices.loc[ticker_prices['y'] < 0, 'yClass'] = 'Loss'\n",
      "    \n",
      "    dataset = dataset.append(ticker_prices)"
     ],
     "language": "python",
     "metadata": {},
     "outputs": [],
     "prompt_number": 9
    },
    {
     "cell_type": "code",
     "collapsed": false,
     "input": [
      "sample = dataset[:80]\n",
      "sample['n'] = np.arange(len(sample))\n",
      "\n",
      "plt.plot(sample['Close'], label='Price', linewidth=2)\n",
      "\n",
      "shortMA = sample[10]\n",
      "longMA = sample[20]\n",
      "plt.fill_between(np.arange(len(sample)), shortMA, longMA, where=shortMA>=longMA, facecolor='green', alpha=0.3)\n",
      "plt.fill_between(np.arange(len(sample)), shortMA, longMA, where=shortMA<longMA, facecolor='red', alpha=0.3)\n",
      "plt.plot(shortMA, color='g', label='Short Moving Average')\n",
      "plt.plot(longMA, color='r', label='Long Moving Average')\n",
      "plt.legend()\n",
      "    \n",
      "plt.twinx().plot(sample['Crossover'])    \n",
      "    \n",
      "plt.ylabel('Price')    \n",
      "plt.xlabel('Time')\n",
      "plt.title('Plot displaying elements of a moving average crossover strategy')"
     ],
     "language": "python",
     "metadata": {},
     "outputs": []
    },
    {
     "cell_type": "markdown",
     "metadata": {},
     "source": [
      "Should decide \n",
      "* cross val methodology\n",
      "* score metric\n",
      "* features"
     ]
    },
    {
     "cell_type": "heading",
     "level": 1,
     "metadata": {},
     "source": [
      "Simple Predictor"
     ]
    },
    {
     "cell_type": "heading",
     "level": 2,
     "metadata": {},
     "source": [
      "Split data into train and test sets by company"
     ]
    },
    {
     "cell_type": "code",
     "collapsed": false,
     "input": [
      "train_tickers = np.random.choice(dataset['Ticker'].unique(), 20, replace = False)\n",
      "test_tickers = list(set(dataset['Ticker'].unique()) - set(train_tickers))\n",
      "\n",
      "train_dataset = dataset[dataset['Ticker'].isin(train_tickers)]\n",
      "test_dataset = dataset[dataset['Ticker'].isin(test_tickers)]"
     ],
     "language": "python",
     "metadata": {},
     "outputs": [],
     "prompt_number": 10
    },
    {
     "cell_type": "markdown",
     "metadata": {},
     "source": [
      "Can use NaN zones between tickers as buffer zones for the crossover points"
     ]
    },
    {
     "cell_type": "code",
     "collapsed": false,
     "input": [
      "best_score    = 0\n",
      "best_short_ma = 0\n",
      "best_long_ma  = 0\n",
      "\n",
      "for short_ma in range(1, 51):\n",
      "    print 'short_ma: ', short_ma\n",
      "    for long_ma in range(short_ma+1, 51):\n",
      "        train_dataset['Crossover'] = crossover(train_dataset, short_ma, long_ma)\n",
      "        train_dataset.dropna(subset=['Crossover'], inplace=True)\n",
      "\n",
      "        sample = train_dataset[train_dataset['Crossover'] != 0]\n",
      "        sample.loc[sample['Crossover'] == 1, 'y_pred'] = 'Gain'\n",
      "        sample.loc[sample['Crossover'] == -1, 'y_pred'] = 'Loss'\n",
      "\n",
      "        score = accuracy_score(sample['yClass'], sample['y_pred'].astype(str))  \n",
      "            \n",
      "        if score > best_score:\n",
      "            best_score = score\n",
      "            best_short_ma = short_ma\n",
      "            best_long_ma = long_ma\n",
      "            print best_score, best_short_ma, best_long_ma\n",
      "        "
     ],
     "language": "python",
     "metadata": {},
     "outputs": []
    },
    {
     "cell_type": "markdown",
     "metadata": {},
     "source": [
      "Results"
     ]
    },
    {
     "cell_type": "code",
     "collapsed": false,
     "input": [
      "\"\"\"\n",
      "0.501616031028 2 36\n",
      "0.507306434024 2 37\n",
      "0.51274581209 8 33\n",
      "0.521982116244 8 34\n",
      "0.522935779817 8 35\n",
      "\"\"\""
     ],
     "language": "python",
     "metadata": {},
     "outputs": [
      {
       "metadata": {},
       "output_type": "pyout",
       "prompt_number": 27,
       "text": [
        "'\\n0.501616031028 2 36\\n0.507306434024 2 37\\n0.51274581209 8 33\\n0.521982116244 8 34\\n0.522935779817 8 35\\n'"
       ]
      }
     ],
     "prompt_number": 27
    },
    {
     "cell_type": "heading",
     "level": 1,
     "metadata": {},
     "source": [
      "Cross Validation"
     ]
    },
    {
     "cell_type": "code",
     "collapsed": false,
     "input": [
      "best_pair = (8, 35)\n",
      "\n",
      "short_ma, long_ma = best_pair\n",
      "\n",
      "test_dataset['Crossover'] = crossover(test_dataset, short_ma, long_ma)\n",
      "test_dataset.dropna(subset=['Crossover'], inplace=True)\n",
      "\n",
      "sample = test_dataset[test_dataset['Crossover'] != 0]\n",
      "sample.loc[sample['Crossover'] == 1, 'y_pred'] = 'Gain'\n",
      "sample.loc[sample['Crossover'] == -1, 'y_pred'] = 'Loss'\n",
      "\n",
      "score = accuracy_score(sample['yClass'], sample['y_pred'].astype(str))              \n",
      "print score\n",
      "test_dataset['y_pred'].value_counts()"
     ],
     "language": "python",
     "metadata": {},
     "outputs": [
      {
       "output_type": "stream",
       "stream": "stdout",
       "text": [
        "0.493497604381\n"
       ]
      },
      {
       "metadata": {},
       "output_type": "pyout",
       "prompt_number": 28,
       "text": [
        "Loss    1581\n",
        "Gain    1580\n",
        "dtype: int64"
       ]
      }
     ],
     "prompt_number": 28
    }
   ],
   "metadata": {}
  }
 ]
}