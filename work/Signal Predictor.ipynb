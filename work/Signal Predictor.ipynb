{
 "cells": [
  {
   "cell_type": "code",
   "execution_count": 2,
   "metadata": {
    "collapsed": false
   },
   "outputs": [],
   "source": [
    "%matplotlib inline\n",
    "\n",
    "# import talib\n",
    "import common\n",
    "import numpy as np\n",
    "import pandas as pd\n",
    "import matplotlib.pyplot as plt\n",
    "\n",
    "from sklearn.pipeline import Pipeline\n",
    "from sklearn.preprocessing import StandardScaler\n",
    "from sklearn.linear_model import LogisticRegression\n",
    "from sklearn.naive_bayes import GaussianNB\n",
    "from sklearn.cross_validation import cross_val_score\n",
    "from sklearn.metrics import make_scorer\n",
    "from sklearn.metrics import confusion_matrix\n",
    "from sklearn.metrics import accuracy_score\n",
    "\n",
    "from datetime import datetime\n",
    "from pylab import rcParams\n",
    "rcParams['figure.figsize'] = 12, 6"
   ]
  },
  {
   "cell_type": "code",
   "execution_count": 3,
   "metadata": {
    "collapsed": false
   },
   "outputs": [],
   "source": [
    "DJIA = pd.read_csv('../data/DowJonesIA.csv')"
   ]
  },
  {
   "cell_type": "code",
   "execution_count": 4,
   "metadata": {
    "collapsed": false
   },
   "outputs": [
    {
     "name": "stdout",
     "output_type": "stream",
     "text": [
      "Loading prices from cache\n"
     ]
    }
   ],
   "source": [
    "prices = common.load_quandl_absolute_prices(DJIA, datetime(2000, 1, 1))"
   ]
  },
  {
   "cell_type": "code",
   "execution_count": 4,
   "metadata": {
    "collapsed": false
   },
   "outputs": [],
   "source": [
    "def sign(num):\n",
    "    if num < 0:\n",
    "        return -1\n",
    "    if num == 0:\n",
    "        return 0\n",
    "    if num > 0:\n",
    "        return 1\n",
    "\n",
    "def crossover(df, col1, col2):\n",
    "    def find_crossover(vals):\n",
    "        if sign(vals[0]) == sign(vals[1]):\n",
    "            return 0\n",
    "        else:\n",
    "            return sign(vals[0])\n",
    "    \n",
    "    diff = df[col2] - df[col1]\n",
    "    return pd.rolling_apply(diff, 2, find_crossover)"
   ]
  },
  {
   "cell_type": "code",
   "execution_count": 5,
   "metadata": {
    "collapsed": false
   },
   "outputs": [],
   "source": [
    "def kappa(cm):\n",
    "    num_classes = len(cm)\n",
    "    sum_all = 0\n",
    "    sum_diag = 0\n",
    "    sum_rands = 0\n",
    "    for i in range(0, num_classes):\n",
    "        sum_diag = sum_diag + cm[i, i]\n",
    "        sum_col = 0\n",
    "        sum_row = 0\n",
    "        for j in range(0, num_classes):\n",
    "            sum_col = sum_col + cm[j, i]\n",
    "            sum_row = sum_row + cm[i, j]\n",
    "            sum_all = sum_all + cm[i, j]\n",
    "        sum_rands = sum_rands + sum_row * sum_col\n",
    "    acc = sum_diag * 1.0 / sum_all\n",
    "    rand = sum_rands * 1.0 / (sum_all * sum_all)\n",
    "    return (acc - rand) / (1 - rand)\n",
    "\n",
    "kappa_scorer = make_scorer(lambda y_true, y_pred: kappa(confusion_matrix(y_true, y_pred)), greater_is_better=True)"
   ]
  },
  {
   "cell_type": "code",
   "execution_count": 6,
   "metadata": {
    "collapsed": false
   },
   "outputs": [
    {
     "name": "stderr",
     "output_type": "stream",
     "text": [
      "/home/mark/anaconda/lib/python2.7/site-packages/pandas/core/indexing.py:389: SettingWithCopyWarning: A value is trying to be set on a copy of a slice from a DataFrame.\n",
      "Try using .loc[row_index,col_indexer] = value instead\n",
      "  self.obj[item] = s\n"
     ]
    }
   ],
   "source": [
    "dataset = pd.DataFrame()\n",
    "\n",
    "def augmented_crossover(df, col1, col2):\n",
    "    def find_crossover(vals):\n",
    "        if sign(vals[0]) == sign(vals[1]):\n",
    "            return 0\n",
    "        else:\n",
    "            return vals[0] - vals[1]\n",
    "    \n",
    "    diff = df[col2] - df[col1]\n",
    "    return pd.rolling_apply(diff, 2, find_crossover)\n",
    "\n",
    "for ticker in prices['Ticker'].unique():\n",
    "    ticker_prices = prices[prices['Ticker'] == ticker] \n",
    "        \n",
    "    #Moving averages(1, 51):\n",
    "    for term in range(1, 51):\n",
    "        ticker_prices[term] = pd.rolling_mean(ticker_prices['Close'], term)\n",
    "#     ticker_prices['Crossover'] = crossover(ticker_prices, '10MA', '20MA')\n",
    "    #ticker_prices['momentum'] = talib.MOM(ticker_prices['Close'].values)\n",
    "    \n",
    "    #dependent variables\n",
    "    ticker_prices['y'] = common.rdiff(ticker_prices.shift(-1)['Close'], 2)\n",
    "    ticker_prices['yClass'] = 'Neutral'\n",
    "    ticker_prices.loc[ticker_prices['y'] > 0, 'yClass'] = 'Gain'\n",
    "    ticker_prices.loc[ticker_prices['y'] < 0, 'yClass'] = 'Loss'\n",
    "    \n",
    "    dataset = dataset.append(ticker_prices)"
   ]
  },
  {
   "cell_type": "code",
   "execution_count": null,
   "metadata": {
    "collapsed": false
   },
   "outputs": [],
   "source": [
    "sample = dataset[:80]\n",
    "sample['n'] = np.arange(len(sample))\n",
    "\n",
    "plt.plot(sample['Close'], label='Price', linewidth=2)\n",
    "\n",
    "shortMA = sample[10]\n",
    "longMA = sample[20]\n",
    "plt.fill_between(np.arange(len(sample)), shortMA, longMA, where=shortMA>=longMA, facecolor='green', alpha=0.3)\n",
    "plt.fill_between(np.arange(len(sample)), shortMA, longMA, where=shortMA<longMA, facecolor='red', alpha=0.3)\n",
    "plt.plot(shortMA, color='g', label='Short Moving Average')\n",
    "plt.plot(longMA, color='r', label='Long Moving Average')\n",
    "plt.legend()\n",
    "    \n",
    "plt.twinx().plot(sample['Crossover'])    \n",
    "    \n",
    "plt.ylabel('Price')    \n",
    "plt.xlabel('Time')\n",
    "plt.title('Plot displaying elements of a moving average crossover strategy')"
   ]
  },
  {
   "cell_type": "markdown",
   "metadata": {},
   "source": [
    "Should decide \n",
    "* cross val methodology\n",
    "* score metric\n",
    "* features"
   ]
  },
  {
   "cell_type": "markdown",
   "metadata": {},
   "source": [
    "# Simple Predictor"
   ]
  },
  {
   "cell_type": "markdown",
   "metadata": {},
   "source": [
    "## Split data into train and test sets by company"
   ]
  },
  {
   "cell_type": "code",
   "execution_count": 7,
   "metadata": {
    "collapsed": false
   },
   "outputs": [],
   "source": [
    "train_tickers = np.random.choice(dataset['Ticker'].unique(), 20, replace = False)\n",
    "test_tickers = list(set(dataset['Ticker'].unique()) - set(train_tickers))\n",
    "\n",
    "train_dataset = dataset[dataset['Ticker'].isin(train_tickers)]\n",
    "test_dataset = dataset[dataset['Ticker'].isin(test_tickers)]"
   ]
  },
  {
   "cell_type": "code",
   "execution_count": 10,
   "metadata": {
    "collapsed": false
   },
   "outputs": [
    {
     "data": {
      "text/plain": [
       "38315"
      ]
     },
     "execution_count": 10,
     "metadata": {},
     "output_type": "execute_result"
    }
   ],
   "source": [
    "len(test_dataset)"
   ]
  },
  {
   "cell_type": "markdown",
   "metadata": {},
   "source": [
    "Can use NaN zones between tickers as buffer zones for the crossover points"
   ]
  },
  {
   "cell_type": "code",
   "execution_count": null,
   "metadata": {
    "collapsed": false
   },
   "outputs": [],
   "source": [
    "best_score    = 0\n",
    "best_short_ma = 0\n",
    "best_long_ma  = 0\n",
    "\n",
    "for short_ma in range(1, 51):\n",
    "    print 'short_ma: ', short_ma\n",
    "    for long_ma in range(short_ma+1, 51):\n",
    "        train_dataset['Crossover'] = crossover(train_dataset, short_ma, long_ma)\n",
    "        train_dataset.dropna(subset=['Crossover'], inplace=True)\n",
    "\n",
    "        sample = train_dataset[train_dataset['Crossover'] != 0]\n",
    "        sample.loc[sample['Crossover'] == 1, 'y_pred'] = 'Gain'\n",
    "        sample.loc[sample['Crossover'] == -1, 'y_pred'] = 'Loss'\n",
    "\n",
    "        score = accuracy_score(sample['yClass'], sample['y_pred'].astype(str))  \n",
    "            \n",
    "        if score > best_score:\n",
    "            best_score = score\n",
    "            best_short_ma = short_ma\n",
    "            best_long_ma = long_ma\n",
    "            print best_score, best_short_ma, best_long_ma\n",
    "        "
   ]
  },
  {
   "cell_type": "markdown",
   "metadata": {},
   "source": [
    "Results"
   ]
  },
  {
   "cell_type": "code",
   "execution_count": 27,
   "metadata": {
    "collapsed": false
   },
   "outputs": [
    {
     "data": {
      "text/plain": [
       "'\\n0.501616031028 2 36\\n0.507306434024 2 37\\n0.51274581209 8 33\\n0.521982116244 8 34\\n0.522935779817 8 35\\n'"
      ]
     },
     "execution_count": 27,
     "metadata": {},
     "output_type": "execute_result"
    }
   ],
   "source": [
    "\"\"\"\n",
    "0.501616031028 2 36\n",
    "0.507306434024 2 37\n",
    "0.51274581209 8 33\n",
    "0.521982116244 8 34\n",
    "0.522935779817 8 35\n",
    "\"\"\""
   ]
  },
  {
   "cell_type": "markdown",
   "metadata": {},
   "source": [
    "# Cross Validation"
   ]
  },
  {
   "cell_type": "code",
   "execution_count": 20,
   "metadata": {
    "collapsed": false
   },
   "outputs": [
    {
     "name": "stdout",
     "output_type": "stream",
     "text": [
      "0.515759312321\n",
      "0.0427171433815\n"
     ]
    }
   ],
   "source": [
    "best_pair = (8, 35)\n",
    "\n",
    "short_ma, long_ma = best_pair\n",
    "\n",
    "test_dataset['Crossover'] = crossover(test_dataset, short_ma, long_ma)\n",
    "test_dataset.dropna(subset=['Crossover'], inplace=True)\n",
    "\n",
    "sample = test_dataset[test_dataset['Crossover'] != 0]\n",
    "sample.loc[sample['Crossover'] == 1, 'y_pred'] = 'Gain'\n",
    "sample.loc[sample['Crossover'] == -1, 'y_pred'] = 'Loss'\n",
    "\n",
    "score = accuracy_score(sample['yClass'], sample['y_pred'].astype(str))              \n",
    "print score\n",
    "\n",
    "\n",
    "\n",
    "print kappa(confusion_matrix(sample['yClass'], sample['y_pred'].astype(str), labels=['Gain', 'Loss']))"
   ]
  },
  {
   "cell_type": "code",
   "execution_count": 19,
   "metadata": {
    "collapsed": false
   },
   "outputs": [
    {
     "data": {
      "text/plain": [
       "0.503982621288921"
      ]
     },
     "execution_count": 19,
     "metadata": {},
     "output_type": "execute_result"
    }
   ],
   "source": [
    "(363+333) / 1381.0\n"
   ]
  }
 ],
 "metadata": {
  "kernelspec": {
   "display_name": "Python 2",
   "language": "python",
   "name": "python2"
  },
  "language_info": {
   "codemirror_mode": {
    "name": "ipython",
    "version": 2
   },
   "file_extension": ".py",
   "mimetype": "text/x-python",
   "name": "python",
   "nbconvert_exporter": "python",
   "pygments_lexer": "ipython2",
   "version": "2.7.9"
  }
 },
 "nbformat": 4,
 "nbformat_minor": 0
}
