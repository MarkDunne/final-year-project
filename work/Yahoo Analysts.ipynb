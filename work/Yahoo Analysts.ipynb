{
 "metadata": {
  "name": "",
  "signature": "sha256:d2aea207f1d29552681085c46ad19a7e19100d3ca700fdc841557e6583374711"
 },
 "nbformat": 3,
 "nbformat_minor": 0,
 "worksheets": [
  {
   "cells": [
    {
     "cell_type": "code",
     "collapsed": false,
     "input": [
      "%matplotlib inline\n",
      "\n",
      "import os\n",
      "import Quandl\n",
      "import common\n",
      "import urllib2\n",
      "import numpy as np\n",
      "import pandas as pd\n",
      "import matplotlib.pyplot as plt\n",
      "from datetime import datetime\n",
      "from collections import defaultdict\n",
      "from sklearn.cross_validation import cross_val_score\n",
      "from sklearn.cross_validation import KFold\n",
      "from sklearn.naive_bayes import MultinomialNB\n",
      "from sklearn.linear_model import LinearRegression\n",
      "from sklearn.feature_extraction.text import TfidfTransformer\n",
      "from sklearn.pipeline import Pipeline\n",
      "from sklearn.metrics import classification_report\n",
      "from sklearn.preprocessing import LabelEncoder\n",
      "from sklearn.preprocessing import OneHotEncoder\n",
      "from plot_learning_curve import plot_learning_curve\n",
      "from sklearn.neighbors import KNeighborsClassifier\n",
      "from sklearn.preprocessing import StandardScaler\n",
      "import matplotlib.dates as mdates\n",
      "from pylab import rcParams\n",
      "rcParams['figure.figsize'] = 12, 6"
     ],
     "language": "python",
     "metadata": {},
     "outputs": [],
     "prompt_number": 23
    },
    {
     "cell_type": "code",
     "collapsed": false,
     "input": [
      "DJIA = pd.read_csv('../data/DowJonesIA.csv')\n",
      "\n",
      "opinions = common.load_yahoo_opinions(DJIA)\n",
      "opinion_sentiments = common.determine_opinion_sentiments(opinions)\n",
      "prices = common.load_quandl_prices(DJIA, start=datetime(2000, 1, 1))\n",
      "\n",
      "dataset = prices.join(opinion_sentiments)\n",
      "dataset[['Positive', 'Negative']] = dataset[['Positive', 'Negative']].fillna(0)\n",
      "\n",
      "one_hot_opinions = common.encode_opinions(opinions)"
     ],
     "language": "python",
     "metadata": {},
     "outputs": [
      {
       "output_type": "stream",
       "stream": "stdout",
       "text": [
        "Loading opinions from cache\n",
        "Loading prices from cache"
       ]
      },
      {
       "output_type": "stream",
       "stream": "stdout",
       "text": [
        "\n"
       ]
      }
     ],
     "prompt_number": 2
    },
    {
     "cell_type": "code",
     "collapsed": false,
     "input": [
      "opinions_cache = opinion_sentiments.reset_index()\n",
      "lex_sorted = opinions_cache.sort(columns=['Ticker', 'Date'])\n",
      "lex_sorted.to_csv('../data/opinion_sentiments.csv')"
     ],
     "language": "python",
     "metadata": {},
     "outputs": [],
     "prompt_number": 11
    },
    {
     "cell_type": "code",
     "collapsed": false,
     "input": [
      "def offsetPrices(prices, days):\n",
      "    prices = prices.reset_index(level='Ticker')\n",
      "    prices.index = prices.index - pd.offsets.Day(days)\n",
      "    prices.index = pd.MultiIndex.from_arrays([prices.index, prices['Ticker']], names=['Date', 'Ticker'])\n",
      "    prices.drop('Ticker', axis=1, inplace=True)\n",
      "    return prices"
     ],
     "language": "python",
     "metadata": {},
     "outputs": [],
     "prompt_number": 12
    },
    {
     "cell_type": "code",
     "collapsed": false,
     "input": [
      "prcs = common.load_quandl_absolute_prices(1,1).reset_index()"
     ],
     "language": "python",
     "metadata": {},
     "outputs": [
      {
       "output_type": "stream",
       "stream": "stdout",
       "text": [
        "Loading prices from cache\n"
       ]
      }
     ],
     "prompt_number": 4
    },
    {
     "cell_type": "code",
     "collapsed": false,
     "input": [
      "from matplotlib.dates import DateFormatter\n",
      "\n",
      "ops = opinion_sentiments.reset_index()\n",
      "prc_ops = pd.merge(prcs, ops, how='left', on=['Date', 'Ticker'])\n",
      "prc_ops[['Negative', 'Positive']] = prc_ops[['Negative', 'Positive']].fillna(0)\n",
      "\n",
      "intc = prc_ops[prc_ops['Ticker'] == 'INTC'].reset_index()\n",
      "# intc.index = intc['Date']\n",
      "\n",
      "plt.plot(intc['Close'], color='k', alpha=0.2)\n",
      "plt.fill_between(intc.index, intc['Close'], [0] * len(intc), alpha=0.1)\n",
      "\n",
      "pos = intc[intc['Positive'] > 0]\n",
      "plt.scatter(pos.index, pos['Close'], marker='^', color='g', s=20 + 20 * pos['Positive'] ** 2, alpha=0.7)\n",
      "\n",
      "neg = intc[intc['Negative'] > 0]\n",
      "plt.scatter(neg.index, neg['Close'], marker='v', color='r', s=20 + 20 * neg['Negative'] ** 2, alpha=0.7)\n",
      "\n",
      "plt.xlim(0, len(intc)-100)\n",
      "plt.ylim(0, 80)\n",
      "\n",
      "plt.title('Aggregate analyst opinions, and price history of Intel')\n",
      "plt.xlabel('Time')\n",
      "plt.ylabel('Price')"
     ],
     "language": "python",
     "metadata": {},
     "outputs": [
      {
       "metadata": {},
       "output_type": "pyout",
       "prompt_number": 13,
       "text": [
        "<matplotlib.text.Text at 0xa8b3cf6c>"
       ]
      },
      {
       "metadata": {},
       "output_type": "display_data",
       "png": "[encoded data removed]",
       "text": [
        "<matplotlib.figure.Figure at 0xa8b86c0c>"
       ]
      }
     ],
     "prompt_number": 13
    },
    {
     "cell_type": "code",
     "collapsed": false,
     "input": [
      "intc[(intc['Positive'] > 0) & (intc['Negative'] > 0)]"
     ],
     "language": "python",
     "metadata": {},
     "outputs": [
      {
       "html": [
        "<div style=\"max-height:1000px;max-width:1500px;overflow:auto;\">\n",
        "<table border=\"1\" class=\"dataframe\">\n",
        "  <thead>\n",
        "    <tr style=\"text-align: right;\">\n",
        "      <th></th>\n",
        "      <th>index</th>\n",
        "      <th>Date</th>\n",
        "      <th>Close</th>\n",
        "      <th>Ticker</th>\n",
        "      <th>Negative</th>\n",
        "      <th>Positive</th>\n",
        "    </tr>\n",
        "  </thead>\n",
        "  <tbody>\n",
        "    <tr>\n",
        "      <th>201</th>\n",
        "      <td> 41909</td>\n",
        "      <td>2000-10-18</td>\n",
        "      <td> 38.19</td>\n",
        "      <td> INTC</td>\n",
        "      <td> 2</td>\n",
        "      <td> 2</td>\n",
        "    </tr>\n",
        "    <tr>\n",
        "      <th>237</th>\n",
        "      <td> 41945</td>\n",
        "      <td>2000-12-08</td>\n",
        "      <td> 34.00</td>\n",
        "      <td> INTC</td>\n",
        "      <td> 2</td>\n",
        "      <td> 2</td>\n",
        "    </tr>\n",
        "    <tr>\n",
        "      <th>740</th>\n",
        "      <td> 42448</td>\n",
        "      <td>2002-12-13</td>\n",
        "      <td> 17.58</td>\n",
        "      <td> INTC</td>\n",
        "      <td> 1</td>\n",
        "      <td> 1</td>\n",
        "    </tr>\n",
        "  </tbody>\n",
        "</table>\n",
        "</div>"
       ],
       "metadata": {},
       "output_type": "pyout",
       "prompt_number": 29,
       "text": [
        "     index       Date  Close Ticker  Negative  Positive\n",
        "201  41909 2000-10-18  38.19   INTC         2         2\n",
        "237  41945 2000-12-08  34.00   INTC         2         2\n",
        "740  42448 2002-12-13  17.58   INTC         1         1"
       ]
      }
     ],
     "prompt_number": 29
    },
    {
     "cell_type": "code",
     "collapsed": false,
     "input": [
      "intc.describe()"
     ],
     "language": "python",
     "metadata": {},
     "outputs": [
      {
       "html": [
        "<div style=\"max-height:1000px;max-width:1500px;overflow:auto;\">\n",
        "<table border=\"1\" class=\"dataframe\">\n",
        "  <thead>\n",
        "    <tr style=\"text-align: right;\">\n",
        "      <th></th>\n",
        "      <th>Close</th>\n",
        "      <th>Negative</th>\n",
        "      <th>Positive</th>\n",
        "    </tr>\n",
        "  </thead>\n",
        "  <tbody>\n",
        "    <tr>\n",
        "      <th>count</th>\n",
        "      <td> 3831.000000</td>\n",
        "      <td> 3831.000000</td>\n",
        "      <td> 3831.000000</td>\n",
        "    </tr>\n",
        "    <tr>\n",
        "      <th>mean</th>\n",
        "      <td>   25.654210</td>\n",
        "      <td>    0.027930</td>\n",
        "      <td>    0.038632</td>\n",
        "    </tr>\n",
        "    <tr>\n",
        "      <th>std</th>\n",
        "      <td>    9.806077</td>\n",
        "      <td>    0.260553</td>\n",
        "      <td>    0.224063</td>\n",
        "    </tr>\n",
        "    <tr>\n",
        "      <th>min</th>\n",
        "      <td>   12.080000</td>\n",
        "      <td>    0.000000</td>\n",
        "      <td>    0.000000</td>\n",
        "    </tr>\n",
        "    <tr>\n",
        "      <th>25%</th>\n",
        "      <td>   20.430000</td>\n",
        "      <td>    0.000000</td>\n",
        "      <td>    0.000000</td>\n",
        "    </tr>\n",
        "    <tr>\n",
        "      <th>50%</th>\n",
        "      <td>   23.290000</td>\n",
        "      <td>    0.000000</td>\n",
        "      <td>    0.000000</td>\n",
        "    </tr>\n",
        "    <tr>\n",
        "      <th>75%</th>\n",
        "      <td>   27.445000</td>\n",
        "      <td>    0.000000</td>\n",
        "      <td>    0.000000</td>\n",
        "    </tr>\n",
        "    <tr>\n",
        "      <th>max</th>\n",
        "      <td>   74.880000</td>\n",
        "      <td>    9.000000</td>\n",
        "      <td>    6.000000</td>\n",
        "    </tr>\n",
        "  </tbody>\n",
        "</table>\n",
        "</div>"
       ],
       "metadata": {},
       "output_type": "pyout",
       "prompt_number": 24,
       "text": [
        "             Close     Negative     Positive\n",
        "count  3831.000000  3831.000000  3831.000000\n",
        "mean     25.654210     0.027930     0.038632\n",
        "std       9.806077     0.260553     0.224063\n",
        "min      12.080000     0.000000     0.000000\n",
        "25%      20.430000     0.000000     0.000000\n",
        "50%      23.290000     0.000000     0.000000\n",
        "75%      27.445000     0.000000     0.000000\n",
        "max      74.880000     9.000000     6.000000"
       ]
      }
     ],
     "prompt_number": 24
    },
    {
     "cell_type": "heading",
     "level": 1,
     "metadata": {},
     "source": [
      "MultinominalNB based on words"
     ]
    },
    {
     "cell_type": "code",
     "collapsed": false,
     "input": [
      "day_scores = []\n",
      "\n",
      "for day_offset in range(-3, 5):\n",
      "    offset_prices = offsetPrices(prices, day_offset)\n",
      "    dataset = one_hot_opinions.join(offset_prices['CloseClass']).dropna(axis=0).reset_index(level='Ticker', drop=True)\n",
      "    \n",
      "    X = dataset.drop('CloseClass', axis=1)\n",
      "    y = dataset['CloseClass']\n",
      "\n",
      "    pipeline = Pipeline([\n",
      "      ('tf-idf', TfidfTransformer()),\n",
      "      ('classifier',  MultinomialNB()) ])\n",
      "    \n",
      "    folds = KFold(len(dataset), n_folds=10, shuffle=True)\n",
      "    scores = cross_val_score(pipeline, X, y, cv = folds)\n",
      "    \n",
      "    day_scores.append((day_offset, scores.mean()))"
     ],
     "language": "python",
     "metadata": {},
     "outputs": []
    },
    {
     "cell_type": "code",
     "collapsed": false,
     "input": [
      "x, y = zip(*day_scores)\n",
      "plt.plot(x, y)\n",
      "plt.ylim(.3, .8)\n",
      "plt.title('MultinomialNB score in days surrounding\\nanalyst opinion with TF-IDF')\n",
      "plt.ylabel('Score')\n",
      "plt.xlabel('Day offset')\n",
      "plt.axhline(.5, color='r')"
     ],
     "language": "python",
     "metadata": {},
     "outputs": [
      {
       "metadata": {},
       "output_type": "pyout",
       "prompt_number": 6,
       "text": [
        "<matplotlib.lines.Line2D at 0xaa8de0cc>"
       ]
      },
      {
       "metadata": {},
       "output_type": "display_data",
       "png": "[encoded data removed]",
       "text": [
        "<matplotlib.figure.Figure at 0xac3c8e0c>"
       ]
      }
     ],
     "prompt_number": 6
    },
    {
     "cell_type": "heading",
     "level": 2,
     "metadata": {},
     "source": [
      "Learning Curve"
     ]
    },
    {
     "cell_type": "code",
     "collapsed": false,
     "input": [
      "dataset = one_hot_opinions.join(prices['CloseClass']).dropna(axis=0).reset_index(level='Ticker', drop=True)\n",
      "\n",
      "X = dataset.drop('CloseClass', axis=1)\n",
      "y = dataset['CloseClass']\n",
      "\n",
      "classifier = MultinomialNB()\n",
      "folds = KFold(len(dataset), n_folds=10, shuffle=True)\n",
      "fig = plot_learning_curve(classifier, \"MultinomialNB Learning Curve\", X, y, cv=folds, train_sizes=np.linspace(.1, 1.0, 20))\n",
      "fig.show()"
     ],
     "language": "python",
     "metadata": {},
     "outputs": [
      {
       "metadata": {},
       "output_type": "display_data",
       "png": "[encoded data removed]",
       "text": [
        "<matplotlib.figure.Figure at 0xaa91412c>"
       ]
      }
     ],
     "prompt_number": 7
    },
    {
     "cell_type": "heading",
     "level": 1,
     "metadata": {},
     "source": [
      "MultinominalNB based on Sentiment"
     ]
    },
    {
     "cell_type": "code",
     "collapsed": false,
     "input": [
      "day_scores = []\n",
      "\n",
      "for day_offset in range(-3, 5):\n",
      "    offset_prices = offsetPrices(prices, day_offset)\n",
      "    dataset = opinion_sentiments.join(offset_prices['CloseClass']).dropna(axis=0, subset=['CloseClass']).fillna(0).reset_index(level='Ticker', drop=True)\n",
      "    \n",
      "    X = dataset.drop('CloseClass', axis=1)\n",
      "    y = dataset['CloseClass']\n",
      "\n",
      "    pipeline = Pipeline([    \n",
      "      ('classifier',   MultinomialNB() )])    \n",
      "    \n",
      "    folds = KFold(len(dataset), n_folds=10, shuffle=True)\n",
      "    scores = cross_val_score(pipeline, X, y, cv = folds)\n",
      "    \n",
      "    day_scores.append((day_offset, scores.mean()))"
     ],
     "language": "python",
     "metadata": {},
     "outputs": [],
     "prompt_number": 8
    },
    {
     "cell_type": "code",
     "collapsed": false,
     "input": [
      "x, y = zip(*day_scores)\n",
      "plt.plot(x, y)\n",
      "plt.ylim(.3, .8)\n",
      "plt.title('MultinomialNB score in days surrounding\\nanalyst opinion without TF-IDF')\n",
      "plt.ylabel('Score')\n",
      "plt.xlabel('Day offset')\n",
      "plt.axhline(.5, color='r')"
     ],
     "language": "python",
     "metadata": {},
     "outputs": [
      {
       "metadata": {},
       "output_type": "pyout",
       "prompt_number": 9,
       "text": [
        "<matplotlib.lines.Line2D at 0xaa74af6c>"
       ]
      },
      {
       "metadata": {},
       "output_type": "display_data",
       "png": "[encoded data removed]",
       "text": [
        "<matplotlib.figure.Figure at 0xac3c8dec>"
       ]
      }
     ],
     "prompt_number": 9
    },
    {
     "cell_type": "code",
     "collapsed": false,
     "input": [
      "dataset = opinion_sentiments.join(prices['CloseClass']).dropna(axis=0, subset=['CloseClass']).fillna(0).reset_index()\n",
      "dataset = dataset.take(np.random.permutation(len(dataset)))\n",
      "\n",
      "X = dataset.drop(['CloseClass', 'Ticker', 'Date'], axis=1)\n",
      "y = dataset['CloseClass']\n",
      "\n",
      "pipeline = Pipeline([   \n",
      "    ('classifier', MultinomialNB())\n",
      "])    \n",
      "\n",
      "print cross_val_score(pipeline, X, y, cv = 10).mean()"
     ],
     "language": "python",
     "metadata": {},
     "outputs": [
      {
       "output_type": "stream",
       "stream": "stdout",
       "text": [
        "0.675106330405\n"
       ]
      }
     ],
     "prompt_number": 63
    },
    {
     "cell_type": "code",
     "collapsed": false,
     "input": [
      "lex_sorted = dataset.sort(columns=['Ticker', 'Date'])\n",
      "lex_sorted = lex_sorted.rename(columns={'Ticker': 'symbol'})\n",
      "lex_sorted.to_csv('../data/opinion_sentiments.csv', date_format='%Y-%m-%d')"
     ],
     "language": "python",
     "metadata": {},
     "outputs": [],
     "prompt_number": 64
    },
    {
     "cell_type": "heading",
     "level": 1,
     "metadata": {},
     "source": [
      "Merge Opinions and prices"
     ]
    },
    {
     "cell_type": "code",
     "collapsed": false,
     "input": [
      "window_size = 6\n",
      "\n",
      "def sliding_windows(data, window_len):\n",
      "    for i in xrange(0, len(data) - window_len + 1):\n",
      "        yield data[i : i + window_len].values\n",
      "             \n",
      "def ends_in_opinion(window):\n",
      "    return window[-1][-1] > 0 or window[-1][-2] > 0\n",
      "\n",
      "def generate_examples(prices):\n",
      "    \n",
      "    classification_examples = pd.DataFrame()   \n",
      "    dataset = prices.join(opinion_sentiments, how='left').reset_index(level='Ticker')        \n",
      "\n",
      "    for ticker in dataset['Ticker'].unique():\n",
      "        ticker_data = dataset[dataset['Ticker'] == ticker]\n",
      "\n",
      "        windows = sliding_windows(ticker_data, window_size)\n",
      "        windows = filter(ends_in_opinion, windows)\n",
      "\n",
      "        for opinion_window in windows:\n",
      "            example = pd.Series(opinion_window[:-1,2])\n",
      "            example['Pos'] = opinion_window[-1][-1]\n",
      "            example['Neg'] = opinion_window[-1][-2]\n",
      "            example['y'] = opinion_window[-1][2]\n",
      "            classification_examples = classification_examples.append(example, ignore_index=True)\n",
      "\n",
      "    return classification_examples"
     ],
     "language": "python",
     "metadata": {},
     "outputs": [],
     "prompt_number": 13
    },
    {
     "cell_type": "code",
     "collapsed": false,
     "input": [
      "running_scores = defaultdict(list)\n",
      "\n",
      "def compare_methods():\n",
      "    for day_offset in range(-3, 4):\n",
      "        offset_prices = offsetPrices(prices, day_offset)\n",
      "            \n",
      "        labeler = LabelEncoder()\n",
      "        labeler.fit(['Gain', 'Loss', 'Neutral'])\n",
      "        modes = ['prices', 'opinions', 'merged']\n",
      "        \n",
      "        print 'generating examples', day_offset\n",
      "        examples = generate_examples(offsetPrices(prices, day_offset))\n",
      "\n",
      "        for mode in modes:\n",
      "            X = examples.drop('y', axis=1)\n",
      "            y = examples['y']\n",
      "            price_cols = range(window_size-1)\n",
      "\n",
      "            if mode == 'prices':\n",
      "                X.drop(['Pos', 'Neg'], axis=1, inplace=1)      \n",
      "                X[price_cols] = labeler.transform(X[price_cols])\n",
      "                for col in price_cols:\n",
      "                    X = pd.concat([X, pd.get_dummies(X[col], prefix=str(col))], axis=1)\n",
      "                    X.drop(col, inplace=True, axis=1)\n",
      "\n",
      "            if mode == 'opinions':\n",
      "                X.drop(price_cols, axis=1, inplace=True)\n",
      "\n",
      "            if mode == 'merged':\n",
      "                X[price_cols] = labeler.transform(X[price_cols])\n",
      "                for col in price_cols:\n",
      "                    X = pd.concat([X, pd.get_dummies(X[col], prefix=str(col))], axis=1)\n",
      "                    X.drop(col, inplace=True, axis=1)\n",
      "\n",
      "            classifier = MultinomialNB()\n",
      "            folds = KFold(len(X), n_folds=10, shuffle=True)\n",
      "            scores = cross_val_score(classifier, X, y, cv = folds)    \n",
      "            print day_offset, mode, scores.mean()\n",
      "            \n",
      "            running_scores[mode].append(scores.mean())    \n",
      "            \n",
      "compare_methods()            "
     ],
     "language": "python",
     "metadata": {},
     "outputs": [
      {
       "output_type": "stream",
       "stream": "stdout",
       "text": [
        "generating examples -3\n",
        "-3"
       ]
      },
      {
       "output_type": "stream",
       "stream": "stdout",
       "text": [
        " prices 0.515328467153\n",
        "-3"
       ]
      },
      {
       "output_type": "stream",
       "stream": "stdout",
       "text": [
        " opinions 0.51897810219\n",
        "-3"
       ]
      },
      {
       "output_type": "stream",
       "stream": "stdout",
       "text": [
        " merged 0.513868613139\n",
        "generating examples"
       ]
      },
      {
       "output_type": "stream",
       "stream": "stdout",
       "text": [
        " -2\n",
        "-2"
       ]
      },
      {
       "output_type": "stream",
       "stream": "stdout",
       "text": [
        " prices 0.497183372183\n",
        "-2"
       ]
      },
      {
       "output_type": "stream",
       "stream": "stdout",
       "text": [
        " opinions 0.481871600622\n",
        "-2"
       ]
      },
      {
       "output_type": "stream",
       "stream": "stdout",
       "text": [
        " merged 0.502768065268\n",
        "generating examples"
       ]
      },
      {
       "output_type": "stream",
       "stream": "stdout",
       "text": [
        " -1\n",
        "-1"
       ]
      },
      {
       "output_type": "stream",
       "stream": "stdout",
       "text": [
        " prices 0.490475812847\n",
        "-1"
       ]
      },
      {
       "output_type": "stream",
       "stream": "stdout",
       "text": [
        " opinions 0.554779275707\n",
        "-1"
       ]
      },
      {
       "output_type": "stream",
       "stream": "stdout",
       "text": [
        " merged 0.551625693894\n",
        "generating examples 0\n",
        "0"
       ]
      },
      {
       "output_type": "stream",
       "stream": "stdout",
       "text": [
        " prices 0.516315136476\n",
        "0"
       ]
      },
      {
       "output_type": "stream",
       "stream": "stdout",
       "text": [
        " opinions 0.702706673632\n",
        "0"
       ]
      },
      {
       "output_type": "stream",
       "stream": "stdout",
       "text": [
        " merged 0.702706673632\n",
        "generating examples"
       ]
      },
      {
       "output_type": "stream",
       "stream": "stdout",
       "text": [
        " 1\n",
        "1"
       ]
      },
      {
       "output_type": "stream",
       "stream": "stdout",
       "text": [
        " prices 0.519289340102\n",
        "1"
       ]
      },
      {
       "output_type": "stream",
       "stream": "stdout",
       "text": [
        " opinions 0.546700507614\n",
        "1"
       ]
      },
      {
       "output_type": "stream",
       "stream": "stdout",
       "text": [
        " merged 0.526903553299\n",
        "generating examples 2\n",
        "2"
       ]
      },
      {
       "output_type": "stream",
       "stream": "stdout",
       "text": [
        " prices 0.518093959732\n",
        "2"
       ]
      },
      {
       "output_type": "stream",
       "stream": "stdout",
       "text": [
        " opinions 0.500017897092\n",
        "2"
       ]
      },
      {
       "output_type": "stream",
       "stream": "stdout",
       "text": [
        " merged 0.503977628635\n",
        "generating examples"
       ]
      },
      {
       "output_type": "stream",
       "stream": "stdout",
       "text": [
        " 3\n",
        "3"
       ]
      },
      {
       "output_type": "stream",
       "stream": "stdout",
       "text": [
        " prices 0.516842312617\n",
        "3"
       ]
      },
      {
       "output_type": "stream",
       "stream": "stdout",
       "text": [
        " opinions 0.443164581897\n",
        "3"
       ]
      },
      {
       "output_type": "stream",
       "stream": "stdout",
       "text": [
        " merged 0.51546340983\n"
       ]
      }
     ],
     "prompt_number": 277
    },
    {
     "cell_type": "code",
     "collapsed": false,
     "input": [
      "for mode in running_scores.keys():\n",
      "    print mode, np.mean(running_scores[mode])\n",
      "    \n",
      "plt.plot(range(-3,4), running_scores['prices'], label='Price Data', linewidth=2)\n",
      "plt.plot(range(-3,4), running_scores['opinions'], label='Opinions Data', linewidth=2)\n",
      "plt.plot(range(-3,4), running_scores['merged'], label='Merged Data', linewidth=2)\n",
      "plt.ylim(0.2, .8)\n",
      "\n",
      "\n",
      "plt.legend(loc = 'lower left')"
     ],
     "language": "python",
     "metadata": {},
     "outputs": [
      {
       "output_type": "stream",
       "stream": "stdout",
       "text": [
        "prices 0.510504057301\n",
        "opinions 0.535459805536\n",
        "merged 0.545330519671\n"
       ]
      },
      {
       "metadata": {},
       "output_type": "pyout",
       "prompt_number": 299,
       "text": [
        "<matplotlib.legend.Legend at 0xa956ef4c>"
       ]
      },
      {
       "metadata": {},
       "output_type": "display_data",
       "png": "[encoded data removed]",
       "text": [
        "<matplotlib.figure.Figure at 0xa87ad22c>"
       ]
      }
     ],
     "prompt_number": 299
    },
    {
     "cell_type": "code",
     "collapsed": false,
     "input": [],
     "language": "python",
     "metadata": {},
     "outputs": []
    }
   ],
   "metadata": {}
  }
 ]
}