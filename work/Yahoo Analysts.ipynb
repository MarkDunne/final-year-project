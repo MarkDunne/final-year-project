{
 "metadata": {
  "name": "",
  "signature": "sha256:7f136daf90cd82c029a646b9f61a301fd24c36e3f72d8063a568c7bc5622bc60"
 },
 "nbformat": 3,
 "nbformat_minor": 0,
 "worksheets": [
  {
   "cells": [
    {
     "cell_type": "code",
     "collapsed": false,
     "input": [
      "%matplotlib inline\n",
      "\n",
      "import Quandl\n",
      "import urllib2\n",
      "import numpy as np\n",
      "import pandas as pd\n",
      "from datetime import datetime\n",
      "import matplotlib.pyplot as plt\n",
      "import matplotlib.dates as mdates\n",
      "import matplotlib.cbook as cbook\n",
      "import pandas.io.data as web\n",
      "from bs4 import BeautifulSoup\n",
      "from IPython.display import HTML\n",
      "from pandas.stats.moments import rolling_apply"
     ],
     "language": "python",
     "metadata": {},
     "outputs": [],
     "prompt_number": 11
    },
    {
     "cell_type": "code",
     "collapsed": false,
     "input": [
      "def loadSoup(url):\n",
      "    return BeautifulSoup(urllib2.urlopen(url).read())"
     ],
     "language": "python",
     "metadata": {},
     "outputs": [],
     "prompt_number": 2
    },
    {
     "cell_type": "code",
     "collapsed": false,
     "input": [
      "def load_yahoo_opinions_for_ticker(ticker):\n",
      "    print 'Downloading analyst opinions for', ticker\n",
      "    soup  = loadSoup('http://finance.yahoo.com/q/ud?s=' + ticker)\n",
      "    table = soup.select('.yfnc_datamodoutline1 table')[0]\n",
      "    data  = pd.read_html(str(table), flavor='bs4', header=0, index_col=0)[0]\n",
      "    data.index = pd.to_datetime(data.index)\n",
      "    data['Ticker'] = ticker    \n",
      "    return data\n",
      "\n",
      "def load_yahoo_opinions(dataset):\n",
      "    raw_opinions = pd.DataFrame()\n",
      "    for ticker in dataset['Ticker']:        \n",
      "        raw_opinions = raw_opinions.append(load_yahoo_opinions_for_ticker(ticker))\n",
      "    raw_opinions.index.name = 'Date'\n",
      "    return raw_opinions"
     ],
     "language": "python",
     "metadata": {},
     "outputs": [],
     "prompt_number": 3
    },
    {
     "cell_type": "code",
     "collapsed": false,
     "input": [
      "def determine_sentiment(opinion):    \n",
      "    negitive = [u'Sell', u'Underperform', u'Underweight', u'Reduce', u'Sector Underperform', u'Mkt Underperform', u'Below Average', u'Avoid', u'Avoi', u'Strong Sell']\n",
      "    neutral  = [u'Hold', u'Equal Weight', u'Perform', u'Neutral', u'Mkt Perform', u'Equal-weight', u'In-Line', u'Sector Perform', u'Market Perform', u'Maintain Position', u'Perform-In-Line', u'Maintain', u'NT Neutral', u'NT Accumulate', u'ST Mkt Perform', u'ST Buy', u'LT Mkt Performer', u'Mkt Performer', u'NT Mkt Performer', u'Average', u'ST Neutral', u'Perform In Line', u'LT Neutral', u'ST Mkt Perform/LT Buy', u'In-line', u'NT/LT Mkt Performer', u'In Line', u'LT Mkt Perform', u'Equal-Weight']\n",
      "    positive = [u'Buy', u'Outperform', u'Overweight', u'Sector Outperform', u'NT Buy/LT Buy', u'Strong Buy', u'NT Buy', u'Attractive', u'Recommended List', u'Accumulate', u'NT Accum/LT Buy', u'Top Pick', u'Peer Perform', u'NT Strong Buy', u'Recomm List', u'NT Accum', u'Mkt Outperform', u'Add', u'Market Outperform', u'Positive', u'Above Average', u'Buy Aggressive', u'NT/LT Outperformer', u'Outperf. Signif.', u'Buy-Focus List', u'Trading Buy', u'Mkt Outperformer', u'ST Accumulate', u'Long-term Buy', u'US Recomm. List', u'Net Positive', u'Buy $100', u'NT Outperformer', u'NT/LT Buy', u'Outperform/Buy', u'NT Mkt Outperformer', u'NT Acc/LT Buy', u'Buy/Core', u'Recomm. List', u'NT Strong Buy/LT Strong Buy']\n",
      "    \n",
      "    if opinion['Action'] == 'Downgrade' or (opinion['Action'] == 'Initiated' and opinion['To'] in negitive):\n",
      "        opinion['Negative'] = 1.0\n",
      "\n",
      "    if opinion['Action'] == 'Upgrade' or (opinion['Action'] == 'Initiated' and opinion['To'] in positive):\n",
      "        opinion['Positive'] = 1.0\n",
      "\n",
      "    return opinion\n",
      "\n",
      "def determine_sentiments(opinions):\n",
      "    opinion_sentiments = opinions.apply(determine_sentiment, axis=1)\n",
      "    opinion_sentiments = opinion_sentiments.groupby([opinions.index, 'Ticker']).sum()\n",
      "    return opinion_sentiments\n"
     ],
     "language": "python",
     "metadata": {},
     "outputs": [],
     "prompt_number": 4
    },
    {
     "cell_type": "code",
     "collapsed": false,
     "input": [
      "def load_quandl_prices(dataset, start, transform='rdiff'):\n",
      "    prices = pd.DataFrame()\n",
      "    quandl_auth = 'pdRRzNygCjs_YY5Y2MVe'    \n",
      "    for index, row in dataset.iterrows():\n",
      "        print 'Downloading prices for', row['Ticker']\n",
      "        all_price_data = Quandl.get(row['Code'], trim_start=start, transformation = transform, authtoken=quandl_auth)\n",
      "        close_price_data = all_price_data[['Close']]\n",
      "        close_price_data['Ticker'] = row['Ticker']\n",
      "        prices = prices.append(close_price_data)\n",
      "    prices.index = pd.MultiIndex.from_arrays([prices.index, prices['Ticker']])\n",
      "    prices.drop('Ticker', axis=1, inplace=True)\n",
      "    return prices"
     ],
     "language": "python",
     "metadata": {},
     "outputs": [],
     "prompt_number": 52
    },
    {
     "cell_type": "code",
     "collapsed": false,
     "input": [
      "DJIA = pd.read_csv('../data/DowJonesIA.csv')\n",
      "\n",
      "opinions = load_yahoo_opinions(DJIA)\n",
      "opinion_sentiments = determine_sentiments(opinions)\n",
      "prices = load_quandl_prices(DJIA, start=datetime(2000, 1, 1))"
     ],
     "language": "python",
     "metadata": {},
     "outputs": [
      {
       "output_type": "stream",
       "stream": "stdout",
       "text": [
        "Downloading analyst opinions for AXP\n",
        "Downloading analyst opinions for"
       ]
      },
      {
       "output_type": "stream",
       "stream": "stdout",
       "text": [
        " BA\n",
        "Downloading analyst opinions for"
       ]
      },
      {
       "output_type": "stream",
       "stream": "stdout",
       "text": [
        " CAT\n",
        "Downloading analyst opinions for"
       ]
      },
      {
       "output_type": "stream",
       "stream": "stdout",
       "text": [
        " CSCO\n",
        "Downloading analyst opinions for"
       ]
      },
      {
       "output_type": "stream",
       "stream": "stdout",
       "text": [
        " CVX\n",
        "Downloading analyst opinions for"
       ]
      },
      {
       "output_type": "stream",
       "stream": "stdout",
       "text": [
        " DD\n",
        "Downloading analyst opinions for"
       ]
      },
      {
       "output_type": "stream",
       "stream": "stdout",
       "text": [
        " DIS\n",
        "Downloading analyst opinions for"
       ]
      },
      {
       "output_type": "stream",
       "stream": "stdout",
       "text": [
        " GE\n",
        "Downloading analyst opinions for"
       ]
      },
      {
       "output_type": "stream",
       "stream": "stdout",
       "text": [
        " GS\n",
        "Downloading analyst opinions for"
       ]
      },
      {
       "output_type": "stream",
       "stream": "stdout",
       "text": [
        " HD\n",
        "Downloading analyst opinions for"
       ]
      },
      {
       "output_type": "stream",
       "stream": "stdout",
       "text": [
        " IBM\n",
        "Downloading analyst opinions for"
       ]
      },
      {
       "output_type": "stream",
       "stream": "stdout",
       "text": [
        " INTC\n",
        "Downloading analyst opinions for"
       ]
      },
      {
       "output_type": "stream",
       "stream": "stdout",
       "text": [
        " JNJ\n",
        "Downloading analyst opinions for"
       ]
      },
      {
       "output_type": "stream",
       "stream": "stdout",
       "text": [
        " JPM\n",
        "Downloading analyst opinions for"
       ]
      },
      {
       "output_type": "stream",
       "stream": "stdout",
       "text": [
        " KO\n",
        "Downloading analyst opinions for"
       ]
      },
      {
       "output_type": "stream",
       "stream": "stdout",
       "text": [
        " MCD\n",
        "Downloading analyst opinions for"
       ]
      },
      {
       "output_type": "stream",
       "stream": "stdout",
       "text": [
        " MMM\n",
        "Downloading analyst opinions for"
       ]
      },
      {
       "output_type": "stream",
       "stream": "stdout",
       "text": [
        " MRK\n",
        "Downloading analyst opinions for"
       ]
      },
      {
       "output_type": "stream",
       "stream": "stdout",
       "text": [
        " MSFT\n",
        "Downloading analyst opinions for"
       ]
      },
      {
       "output_type": "stream",
       "stream": "stdout",
       "text": [
        " NKE\n",
        "Downloading analyst opinions for"
       ]
      },
      {
       "output_type": "stream",
       "stream": "stdout",
       "text": [
        " PFE\n",
        "Downloading analyst opinions for"
       ]
      },
      {
       "output_type": "stream",
       "stream": "stdout",
       "text": [
        " PG\n",
        "Downloading analyst opinions for"
       ]
      },
      {
       "output_type": "stream",
       "stream": "stdout",
       "text": [
        " T\n",
        "Downloading analyst opinions for"
       ]
      },
      {
       "output_type": "stream",
       "stream": "stdout",
       "text": [
        " TRV\n",
        "Downloading analyst opinions for"
       ]
      },
      {
       "output_type": "stream",
       "stream": "stdout",
       "text": [
        " UNH\n",
        "Downloading analyst opinions for"
       ]
      },
      {
       "output_type": "stream",
       "stream": "stdout",
       "text": [
        " UTX\n",
        "Downloading analyst opinions for"
       ]
      },
      {
       "output_type": "stream",
       "stream": "stdout",
       "text": [
        " V\n",
        "Downloading analyst opinions for"
       ]
      },
      {
       "output_type": "stream",
       "stream": "stdout",
       "text": [
        " VZ\n",
        "Downloading analyst opinions for"
       ]
      },
      {
       "output_type": "stream",
       "stream": "stdout",
       "text": [
        " WMT\n",
        "Downloading analyst opinions for"
       ]
      },
      {
       "output_type": "stream",
       "stream": "stdout",
       "text": [
        " XOM\n",
        "Downloading prices for"
       ]
      },
      {
       "output_type": "stream",
       "stream": "stdout",
       "text": [
        " AXP\n",
        "Downloading prices for"
       ]
      },
      {
       "output_type": "stream",
       "stream": "stdout",
       "text": [
        " BA\n",
        "Downloading prices for"
       ]
      },
      {
       "output_type": "stream",
       "stream": "stdout",
       "text": [
        " CAT\n",
        "Downloading prices for"
       ]
      },
      {
       "output_type": "stream",
       "stream": "stdout",
       "text": [
        " CSCO\n",
        "Downloading prices for"
       ]
      },
      {
       "output_type": "stream",
       "stream": "stdout",
       "text": [
        " CVX\n",
        "Downloading prices for"
       ]
      },
      {
       "output_type": "stream",
       "stream": "stdout",
       "text": [
        " DD\n",
        "Downloading prices for"
       ]
      },
      {
       "output_type": "stream",
       "stream": "stdout",
       "text": [
        " DIS\n",
        "Downloading prices for"
       ]
      },
      {
       "output_type": "stream",
       "stream": "stdout",
       "text": [
        " GE\n",
        "Downloading prices for"
       ]
      },
      {
       "output_type": "stream",
       "stream": "stdout",
       "text": [
        " GS\n",
        "Downloading prices for"
       ]
      },
      {
       "output_type": "stream",
       "stream": "stdout",
       "text": [
        " HD\n",
        "Downloading prices for"
       ]
      },
      {
       "output_type": "stream",
       "stream": "stdout",
       "text": [
        " IBM\n",
        "Downloading prices for"
       ]
      },
      {
       "output_type": "stream",
       "stream": "stdout",
       "text": [
        " INTC\n",
        "Downloading prices for"
       ]
      },
      {
       "output_type": "stream",
       "stream": "stdout",
       "text": [
        " JNJ\n",
        "Downloading prices for"
       ]
      },
      {
       "output_type": "stream",
       "stream": "stdout",
       "text": [
        " JPM\n",
        "Downloading prices for"
       ]
      },
      {
       "output_type": "stream",
       "stream": "stdout",
       "text": [
        " KO\n",
        "Downloading prices for"
       ]
      },
      {
       "output_type": "stream",
       "stream": "stdout",
       "text": [
        " MCD\n",
        "Downloading prices for"
       ]
      },
      {
       "output_type": "stream",
       "stream": "stdout",
       "text": [
        " MMM\n",
        "Downloading prices for"
       ]
      },
      {
       "output_type": "stream",
       "stream": "stdout",
       "text": [
        " MRK\n",
        "Downloading prices for"
       ]
      },
      {
       "output_type": "stream",
       "stream": "stdout",
       "text": [
        " MSFT\n",
        "Downloading prices for"
       ]
      },
      {
       "output_type": "stream",
       "stream": "stdout",
       "text": [
        " NKE\n",
        "Downloading prices for"
       ]
      },
      {
       "output_type": "stream",
       "stream": "stdout",
       "text": [
        " PFE\n",
        "Downloading prices for"
       ]
      },
      {
       "output_type": "stream",
       "stream": "stdout",
       "text": [
        " PG\n",
        "Downloading prices for"
       ]
      },
      {
       "output_type": "stream",
       "stream": "stdout",
       "text": [
        " T\n",
        "Downloading prices for"
       ]
      },
      {
       "output_type": "stream",
       "stream": "stdout",
       "text": [
        " TRV\n",
        "Downloading prices for"
       ]
      },
      {
       "output_type": "stream",
       "stream": "stdout",
       "text": [
        " UNH\n",
        "Downloading prices for"
       ]
      },
      {
       "output_type": "stream",
       "stream": "stdout",
       "text": [
        " UTX\n",
        "Downloading prices for"
       ]
      },
      {
       "output_type": "stream",
       "stream": "stdout",
       "text": [
        " V\n",
        "Downloading prices for"
       ]
      },
      {
       "output_type": "stream",
       "stream": "stdout",
       "text": [
        " VZ\n",
        "Downloading prices for"
       ]
      },
      {
       "output_type": "stream",
       "stream": "stdout",
       "text": [
        " WMT\n",
        "Downloading prices for"
       ]
      },
      {
       "output_type": "stream",
       "stream": "stdout",
       "text": [
        " XOM\n"
       ]
      }
     ],
     "prompt_number": 6
    },
    {
     "cell_type": "code",
     "collapsed": false,
     "input": [
      "dataset = prices.join(opinion_sentiments)\n",
      "dataset[['Positive', 'Negative']] = dataset[['Positive', 'Negative']].fillna(0)"
     ],
     "language": "python",
     "metadata": {},
     "outputs": [],
     "prompt_number": 7
    },
    {
     "cell_type": "code",
     "collapsed": false,
     "input": [
      "def pdiff(prices):\n",
      "    y1, y2 = prices\n",
      "    return (y2 - y1) / y1"
     ],
     "language": "python",
     "metadata": {},
     "outputs": [],
     "prompt_number": 73
    },
    {
     "cell_type": "code",
     "collapsed": false,
     "input": [
      "dataset['pdiff'] = rolling_apply(dataset['Close'], 2, pdiff)"
     ],
     "language": "python",
     "metadata": {},
     "outputs": [],
     "prompt_number": 74
    },
    {
     "cell_type": "code",
     "collapsed": false,
     "input": [
      "rdiff_prices = load_quandl_prices(DJIA, start=datetime(2000, 1, 1))"
     ],
     "language": "python",
     "metadata": {},
     "outputs": [
      {
       "output_type": "stream",
       "stream": "stdout",
       "text": [
        "Downloading prices for AXP\n",
        "Downloading prices for"
       ]
      },
      {
       "output_type": "stream",
       "stream": "stdout",
       "text": [
        " BA\n",
        "Downloading prices for"
       ]
      },
      {
       "output_type": "stream",
       "stream": "stdout",
       "text": [
        " CAT\n",
        "Downloading prices for"
       ]
      },
      {
       "output_type": "stream",
       "stream": "stdout",
       "text": [
        " CSCO\n",
        "Downloading prices for"
       ]
      },
      {
       "output_type": "stream",
       "stream": "stdout",
       "text": [
        " CVX\n",
        "Downloading prices for"
       ]
      },
      {
       "output_type": "stream",
       "stream": "stdout",
       "text": [
        " DD\n",
        "Downloading prices for"
       ]
      },
      {
       "output_type": "stream",
       "stream": "stdout",
       "text": [
        " DIS\n",
        "Downloading prices for"
       ]
      },
      {
       "output_type": "stream",
       "stream": "stdout",
       "text": [
        " GE\n",
        "Downloading prices for"
       ]
      },
      {
       "output_type": "stream",
       "stream": "stdout",
       "text": [
        " GS\n",
        "Downloading prices for"
       ]
      },
      {
       "output_type": "stream",
       "stream": "stdout",
       "text": [
        " HD\n",
        "Downloading prices for"
       ]
      },
      {
       "output_type": "stream",
       "stream": "stdout",
       "text": [
        " IBM\n",
        "Downloading prices for"
       ]
      },
      {
       "output_type": "stream",
       "stream": "stdout",
       "text": [
        " INTC\n",
        "Downloading prices for"
       ]
      },
      {
       "output_type": "stream",
       "stream": "stdout",
       "text": [
        " JNJ\n",
        "Downloading prices for"
       ]
      },
      {
       "output_type": "stream",
       "stream": "stdout",
       "text": [
        " JPM\n",
        "Downloading prices for"
       ]
      },
      {
       "output_type": "stream",
       "stream": "stdout",
       "text": [
        " KO\n",
        "Downloading prices for"
       ]
      },
      {
       "output_type": "stream",
       "stream": "stdout",
       "text": [
        " MCD\n",
        "Downloading prices for"
       ]
      },
      {
       "output_type": "stream",
       "stream": "stdout",
       "text": [
        " MMM\n",
        "Downloading prices for"
       ]
      },
      {
       "output_type": "stream",
       "stream": "stdout",
       "text": [
        " MRK\n",
        "Downloading prices for"
       ]
      },
      {
       "output_type": "stream",
       "stream": "stdout",
       "text": [
        " MSFT\n",
        "Downloading prices for"
       ]
      },
      {
       "output_type": "stream",
       "stream": "stdout",
       "text": [
        " NKE\n",
        "Downloading prices for"
       ]
      },
      {
       "output_type": "stream",
       "stream": "stdout",
       "text": [
        " PFE\n",
        "Downloading prices for"
       ]
      },
      {
       "output_type": "stream",
       "stream": "stdout",
       "text": [
        " PG\n",
        "Downloading prices for"
       ]
      },
      {
       "output_type": "stream",
       "stream": "stdout",
       "text": [
        " T\n",
        "Downloading prices for"
       ]
      },
      {
       "output_type": "stream",
       "stream": "stdout",
       "text": [
        " TRV\n",
        "Downloading prices for"
       ]
      },
      {
       "output_type": "stream",
       "stream": "stdout",
       "text": [
        " UNH\n",
        "Downloading prices for"
       ]
      },
      {
       "output_type": "stream",
       "stream": "stdout",
       "text": [
        " UTX\n",
        "Downloading prices for"
       ]
      },
      {
       "output_type": "stream",
       "stream": "stdout",
       "text": [
        " V\n",
        "Downloading prices for"
       ]
      },
      {
       "output_type": "stream",
       "stream": "stdout",
       "text": [
        " VZ\n",
        "Downloading prices for"
       ]
      },
      {
       "output_type": "stream",
       "stream": "stdout",
       "text": [
        " WMT\n",
        "Downloading prices for"
       ]
      },
      {
       "output_type": "stream",
       "stream": "stdout",
       "text": [
        " XOM\n"
       ]
      }
     ],
     "prompt_number": 54
    },
    {
     "cell_type": "code",
     "collapsed": false,
     "input": [
      "INTC_prices = dataset.xs('INTC', level='Ticker')\n",
      "# INTC_prices['Close'].plot(alpha= 0.1, figsize=(10, 6), kind='area', color='b')\n",
      "# INTC_prices['Close'].plot(alpha= 0.1, figsize=(10, 6), color='b')\n",
      "fig, ax1 = plt.subplots()\n",
      "ax2 = ax1.twinx()\n",
      "\n",
      "a = rdiff_prices.xs('INTC', level='Ticker')['Close'] + 1\n",
      "a[0] = -0.8\n",
      "\n",
      "ax1.plot(INTC_prices['Close'])\n",
      "# ax2.plot(np.cumsum(INTC_prices['pdiff']), color='g')\n",
      "ax2.plot(1 - np.cumproduct(a), color='r')\n",
      "# ax2.plot(np.cumsum(INTC_prices['pdiff']), color='g')\n",
      "# ax2.plot(np.cumsum(r['pdiff']), color='r')\n",
      "\n",
      "# for i, upgrade in INTC_prices[INTC_prices['Upgrade'] > 0].iterrows():\n",
      "#      plt.plot(i, upgrade['Close'], 'g^', ms= (upgrade['Upgrade'] + 1) * 3, alpha=0.5)\n",
      " \n",
      "# for i, upgrade in INTC_prices[INTC_prices['Downgrade'] > 0].iterrows():\n",
      "#      plt.plot(i, upgrade['Close'], u'rv', ms= (upgrade['Downgrade'] + 1) * 3, alpha=0.5)    \n",
      "    \n",
      "# plt.title('Intel Analyst Opinions')    \n",
      "# plt.ylabel('Intel Stock Price')\n",
      "1 - np.cumproduct(a)"
     ],
     "language": "python",
     "metadata": {},
     "outputs": [
      {
       "metadata": {},
       "output_type": "pyout",
       "prompt_number": 81,
       "text": [
        "Date\n",
        "2000-01-04    1.800000\n",
        "2000-01-05    1.806559\n",
        "2000-01-06    1.759682\n",
        "2000-01-07    1.790933\n",
        "2000-01-10    1.827200\n",
        "2000-01-11    1.865011\n",
        "2000-01-12    1.880058\n",
        "2000-01-13    1.878322\n",
        "2000-01-14    1.994068\n",
        "2000-01-18    1.985001\n",
        "2000-01-19    1.965131\n",
        "2000-01-20    1.922305\n",
        "2000-01-21    1.944683\n",
        "2000-01-24    1.953171\n",
        "2000-01-25    1.979600\n",
        "...\n",
        "2015-01-26    1.690620\n",
        "2015-01-27    1.659368\n",
        "2015-01-28    1.651652\n",
        "2015-01-29    1.659947\n",
        "2015-01-30    1.637376\n",
        "2015-02-02    1.649144\n",
        "2015-02-03    1.650109\n",
        "2015-02-04    1.648179\n",
        "2015-02-05    1.654738\n",
        "2015-02-06    1.642392\n",
        "2015-02-09    1.635254\n",
        "2015-02-10    1.650109\n",
        "2015-02-11    1.647215\n",
        "2015-02-12    1.658211\n",
        "2015-02-13    1.662841\n",
        "Name: Close, Length: 3816"
       ]
      },
      {
       "metadata": {},
       "output_type": "display_data",
       "png": "[encoded data removed]",
       "text": [
        "<matplotlib.figure.Figure at 0x7fba9721a910>"
       ]
      }
     ],
     "prompt_number": 81
    }
   ],
   "metadata": {}
  }
 ]
}