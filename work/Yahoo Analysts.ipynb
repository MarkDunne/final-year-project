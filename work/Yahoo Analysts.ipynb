{
 "metadata": {
  "name": "",
  "signature": "sha256:26e0f8237539f260966a721833269df6cac605f7a15090d72155274ce4bbe7bd"
 },
 "nbformat": 3,
 "nbformat_minor": 0,
 "worksheets": [
  {
   "cells": [
    {
     "cell_type": "code",
     "collapsed": false,
     "input": [
      "%matplotlib inline\n",
      "\n",
      "import os\n",
      "import Quandl\n",
      "import common\n",
      "import urllib2\n",
      "import numpy as np\n",
      "import pandas as pd\n",
      "import matplotlib.pyplot as plt\n",
      "from datetime import datetime\n",
      "from collections import defaultdict\n",
      "from sklearn.cross_validation import cross_val_score\n",
      "from sklearn.cross_validation import KFold\n",
      "from sklearn.naive_bayes import MultinomialNB\n",
      "from sklearn.linear_model import LinearRegression\n",
      "from sklearn.feature_extraction.text import TfidfTransformer\n",
      "from sklearn.pipeline import Pipeline\n",
      "from sklearn.metrics import classification_report\n",
      "from sklearn.preprocessing import LabelEncoder\n",
      "from sklearn.preprocessing import OneHotEncoder\n",
      "from plot_learning_curve import plot_learning_curve"
     ],
     "language": "python",
     "metadata": {},
     "outputs": [],
     "prompt_number": 270
    },
    {
     "cell_type": "code",
     "collapsed": false,
     "input": [
      "DJIA = pd.read_csv('../data/DowJonesIA.csv')\n",
      "\n",
      "opinions = common.load_yahoo_opinions(DJIA)\n",
      "opinion_sentiments = common.determine_opinion_sentiments(opinions)\n",
      "prices = common.load_quandl_prices(DJIA, start=datetime(2000, 1, 1))\n",
      "\n",
      "dataset = prices.join(opinion_sentiments)\n",
      "dataset[['Positive', 'Negative']] = dataset[['Positive', 'Negative']].fillna(0)\n",
      "\n",
      "one_hot_opinions = common.encode_opinions(opinions)"
     ],
     "language": "python",
     "metadata": {},
     "outputs": [
      {
       "output_type": "stream",
       "stream": "stdout",
       "text": [
        "Loading opinions from cache\n",
        "Loading prices from cache"
       ]
      },
      {
       "output_type": "stream",
       "stream": "stdout",
       "text": [
        "\n"
       ]
      }
     ],
     "prompt_number": 3
    },
    {
     "cell_type": "code",
     "collapsed": false,
     "input": [
      "def offsetPrices(prices, days):\n",
      "    prices = prices.reset_index(level='Ticker')\n",
      "    prices.index = prices.index - pd.offsets.Day(days)\n",
      "    prices.index = pd.MultiIndex.from_arrays([prices.index, prices['Ticker']], names=['Date', 'Ticker'])\n",
      "    prices.drop('Ticker', axis=1, inplace=True)\n",
      "    return prices"
     ],
     "language": "python",
     "metadata": {},
     "outputs": [],
     "prompt_number": 4
    },
    {
     "cell_type": "heading",
     "level": 1,
     "metadata": {},
     "source": [
      "MultinominalNB based on words"
     ]
    },
    {
     "cell_type": "code",
     "collapsed": false,
     "input": [
      "day_scores = []\n",
      "\n",
      "for day_offset in range(-3, 5):\n",
      "    offset_prices = offsetPrices(prices, day_offset)\n",
      "    dataset = one_hot_opinions.join(offset_prices['CloseClass']).dropna(axis=0).reset_index(level='Ticker', drop=True)\n",
      "    \n",
      "    X = dataset.drop('CloseClass', axis=1)\n",
      "    y = dataset['CloseClass']\n",
      "\n",
      "    pipeline = Pipeline([\n",
      "      ('tf-idf', TfidfTransformer()),\n",
      "      ('classifier',  MultinomialNB()) ])\n",
      "    \n",
      "    folds = KFold(len(dataset), n_folds=10, shuffle=True)\n",
      "    scores = cross_val_score(pipeline, X, y, cv = folds)\n",
      "    \n",
      "    day_scores.append((day_offset, scores.mean()))"
     ],
     "language": "python",
     "metadata": {},
     "outputs": [],
     "prompt_number": 5
    },
    {
     "cell_type": "code",
     "collapsed": false,
     "input": [
      "x, y = zip(*day_scores)\n",
      "plt.plot(x, y)\n",
      "plt.ylim(.3, .8)\n",
      "plt.title('MultinomialNB score in days surrounding\\nanalyst opinion with TF-IDF')\n",
      "plt.ylabel('Score')\n",
      "plt.xlabel('Day offset')\n",
      "plt.axhline(.5, color='r')"
     ],
     "language": "python",
     "metadata": {},
     "outputs": [
      {
       "metadata": {},
       "output_type": "pyout",
       "prompt_number": 6,
       "text": [
        "<matplotlib.lines.Line2D at 0xaa8de0cc>"
       ]
      },
      {
       "metadata": {},
       "output_type": "display_data",
       "png": "[encoded data removed]",
       "text": [
        "<matplotlib.figure.Figure at 0xac3c8e0c>"
       ]
      }
     ],
     "prompt_number": 6
    },
    {
     "cell_type": "heading",
     "level": 2,
     "metadata": {},
     "source": [
      "Learning Curve"
     ]
    },
    {
     "cell_type": "code",
     "collapsed": false,
     "input": [
      "dataset = one_hot_opinions.join(prices['CloseClass']).dropna(axis=0).reset_index(level='Ticker', drop=True)\n",
      "\n",
      "X = dataset.drop('CloseClass', axis=1)\n",
      "y = dataset['CloseClass']\n",
      "\n",
      "classifier = MultinomialNB()\n",
      "folds = KFold(len(dataset), n_folds=10, shuffle=True)\n",
      "fig = plot_learning_curve(classifier, \"MultinomialNB Learning Curve\", X, y, cv=folds, train_sizes=np.linspace(.1, 1.0, 20))\n",
      "fig.show()"
     ],
     "language": "python",
     "metadata": {},
     "outputs": [
      {
       "metadata": {},
       "output_type": "display_data",
       "png": "[encoded data removed]",
       "text": [
        "<matplotlib.figure.Figure at 0xaa91412c>"
       ]
      }
     ],
     "prompt_number": 7
    },
    {
     "cell_type": "heading",
     "level": 1,
     "metadata": {},
     "source": [
      "MultinominalNB based on Sentiment"
     ]
    },
    {
     "cell_type": "code",
     "collapsed": false,
     "input": [
      "day_scores = []\n",
      "\n",
      "for day_offset in range(-3, 5):\n",
      "    offset_prices = offsetPrices(prices, day_offset)\n",
      "    dataset = opinion_sentiments.join(offset_prices['CloseClass']).dropna(axis=0, subset=['CloseClass']).fillna(0).reset_index(level='Ticker', drop=True)\n",
      "    \n",
      "    X = dataset.drop('CloseClass', axis=1)\n",
      "    y = dataset['CloseClass']\n",
      "\n",
      "    pipeline = Pipeline([    \n",
      "      ('classifier',   MultinomialNB() )])    \n",
      "    \n",
      "    folds = KFold(len(dataset), n_folds=10, shuffle=True)\n",
      "    scores = cross_val_score(pipeline, X, y, cv = folds)\n",
      "    \n",
      "    day_scores.append((day_offset, scores.mean()))"
     ],
     "language": "python",
     "metadata": {},
     "outputs": [],
     "prompt_number": 8
    },
    {
     "cell_type": "code",
     "collapsed": false,
     "input": [
      "x, y = zip(*day_scores)\n",
      "plt.plot(x, y)\n",
      "plt.ylim(.3, .8)\n",
      "plt.title('MultinomialNB score in days surrounding\\nanalyst opinion without TF-IDF')\n",
      "plt.ylabel('Score')\n",
      "plt.xlabel('Day offset')\n",
      "plt.axhline(.5, color='r')"
     ],
     "language": "python",
     "metadata": {},
     "outputs": [
      {
       "metadata": {},
       "output_type": "pyout",
       "prompt_number": 9,
       "text": [
        "<matplotlib.lines.Line2D at 0xaa74af6c>"
       ]
      },
      {
       "metadata": {},
       "output_type": "display_data",
       "png": "[encoded data removed]",
       "text": [
        "<matplotlib.figure.Figure at 0xac3c8dec>"
       ]
      }
     ],
     "prompt_number": 9
    },
    {
     "cell_type": "heading",
     "level": 1,
     "metadata": {},
     "source": [
      "Merge Opinions and prices"
     ]
    },
    {
     "cell_type": "code",
     "collapsed": false,
     "input": [
      "window_size = 6\n",
      "\n",
      "def sliding_windows(data, window_len):\n",
      "    for i in xrange(0, len(data) - window_len + 1):\n",
      "        yield data[i : i + window_len].values\n",
      "             \n",
      "def ends_in_opinion(window):\n",
      "    return window[-1][-1] > 0 or window[-1][-2] > 0\n",
      "\n",
      "def generate_examples(prices):\n",
      "    \n",
      "    classification_examples = pd.DataFrame()   \n",
      "    dataset = prices.join(opinion_sentiments, how='left').reset_index(level='Ticker')        \n",
      "\n",
      "    for ticker in dataset['Ticker'].unique():\n",
      "        ticker_data = dataset[dataset['Ticker'] == ticker]\n",
      "\n",
      "        windows = sliding_windows(ticker_data, window_size)\n",
      "        windows = filter(ends_in_opinion, windows)\n",
      "\n",
      "        for opinion_window in windows:\n",
      "            example = pd.Series(opinion_window[:-1,2])\n",
      "            example['Pos'] = opinion_window[-1][-1]\n",
      "            example['Neg'] = opinion_window[-1][-2]\n",
      "            example['y'] = opinion_window[-1][2]\n",
      "            classification_examples = classification_examples.append(example, ignore_index=True)\n",
      "\n",
      "    return classification_examples"
     ],
     "language": "python",
     "metadata": {},
     "outputs": [],
     "prompt_number": 267
    },
    {
     "cell_type": "code",
     "collapsed": false,
     "input": [
      "running_scores = defaultdict(list)\n",
      "\n",
      "def compare_methods():\n",
      "    for day_offset in range(-3, 4):\n",
      "        offset_prices = offsetPrices(prices, day_offset)\n",
      "            \n",
      "        labeler = LabelEncoder()\n",
      "        labeler.fit(['Gain', 'Loss', 'Neutral'])\n",
      "        modes = ['prices', 'opinions', 'merged']\n",
      "        \n",
      "        print 'generating examples', day_offset\n",
      "        examples = generate_examples(offsetPrices(prices, day_offset))\n",
      "\n",
      "        for mode in modes:\n",
      "            X = examples.drop('y', axis=1)\n",
      "            y = examples['y']\n",
      "            price_cols = range(window_size-1)\n",
      "\n",
      "            if mode == 'prices':\n",
      "                X.drop(['Pos', 'Neg'], axis=1, inplace=1)      \n",
      "                X[price_cols] = labeler.transform(X[price_cols])\n",
      "                for col in price_cols:\n",
      "                    X = pd.concat([X, pd.get_dummies(X[col], prefix=str(col))], axis=1)\n",
      "                    X.drop(col, inplace=True, axis=1)\n",
      "\n",
      "            if mode == 'opinions':\n",
      "                X.drop(price_cols, axis=1, inplace=True)\n",
      "\n",
      "            if mode == 'merged':\n",
      "                X[price_cols] = labeler.transform(X[price_cols])\n",
      "                for col in price_cols:\n",
      "                    X = pd.concat([X, pd.get_dummies(X[col], prefix=str(col))], axis=1)\n",
      "                    X.drop(col, inplace=True, axis=1)\n",
      "\n",
      "            classifier = MultinomialNB()\n",
      "            folds = KFold(len(X), n_folds=10, shuffle=True)\n",
      "            scores = cross_val_score(classifier, X, y, cv = folds)    \n",
      "            print day_offset, mode, scores.mean()\n",
      "            \n",
      "            running_scores[mode].append(scores.mean())    \n",
      "            \n",
      "compare_methods()            "
     ],
     "language": "python",
     "metadata": {},
     "outputs": [
      {
       "output_type": "stream",
       "stream": "stdout",
       "text": [
        "generating examples -3\n",
        "-3"
       ]
      },
      {
       "output_type": "stream",
       "stream": "stdout",
       "text": [
        " prices 0.515328467153\n",
        "-3"
       ]
      },
      {
       "output_type": "stream",
       "stream": "stdout",
       "text": [
        " opinions 0.51897810219\n",
        "-3"
       ]
      },
      {
       "output_type": "stream",
       "stream": "stdout",
       "text": [
        " merged 0.513868613139\n",
        "generating examples"
       ]
      },
      {
       "output_type": "stream",
       "stream": "stdout",
       "text": [
        " -2\n",
        "-2"
       ]
      },
      {
       "output_type": "stream",
       "stream": "stdout",
       "text": [
        " prices 0.497183372183\n",
        "-2"
       ]
      },
      {
       "output_type": "stream",
       "stream": "stdout",
       "text": [
        " opinions 0.481871600622\n",
        "-2"
       ]
      },
      {
       "output_type": "stream",
       "stream": "stdout",
       "text": [
        " merged 0.502768065268\n",
        "generating examples"
       ]
      },
      {
       "output_type": "stream",
       "stream": "stdout",
       "text": [
        " -1\n",
        "-1"
       ]
      },
      {
       "output_type": "stream",
       "stream": "stdout",
       "text": [
        " prices 0.490475812847\n",
        "-1"
       ]
      },
      {
       "output_type": "stream",
       "stream": "stdout",
       "text": [
        " opinions 0.554779275707\n",
        "-1"
       ]
      },
      {
       "output_type": "stream",
       "stream": "stdout",
       "text": [
        " merged 0.551625693894\n",
        "generating examples 0\n",
        "0"
       ]
      },
      {
       "output_type": "stream",
       "stream": "stdout",
       "text": [
        " prices 0.516315136476\n",
        "0"
       ]
      },
      {
       "output_type": "stream",
       "stream": "stdout",
       "text": [
        " opinions 0.702706673632\n",
        "0"
       ]
      },
      {
       "output_type": "stream",
       "stream": "stdout",
       "text": [
        " merged 0.702706673632\n",
        "generating examples"
       ]
      },
      {
       "output_type": "stream",
       "stream": "stdout",
       "text": [
        " 1\n",
        "1"
       ]
      },
      {
       "output_type": "stream",
       "stream": "stdout",
       "text": [
        " prices 0.519289340102\n",
        "1"
       ]
      },
      {
       "output_type": "stream",
       "stream": "stdout",
       "text": [
        " opinions 0.546700507614\n",
        "1"
       ]
      },
      {
       "output_type": "stream",
       "stream": "stdout",
       "text": [
        " merged 0.526903553299\n",
        "generating examples 2\n",
        "2"
       ]
      },
      {
       "output_type": "stream",
       "stream": "stdout",
       "text": [
        " prices 0.518093959732\n",
        "2"
       ]
      },
      {
       "output_type": "stream",
       "stream": "stdout",
       "text": [
        " opinions 0.500017897092\n",
        "2"
       ]
      },
      {
       "output_type": "stream",
       "stream": "stdout",
       "text": [
        " merged 0.503977628635\n",
        "generating examples"
       ]
      },
      {
       "output_type": "stream",
       "stream": "stdout",
       "text": [
        " 3\n",
        "3"
       ]
      },
      {
       "output_type": "stream",
       "stream": "stdout",
       "text": [
        " prices 0.516842312617\n",
        "3"
       ]
      },
      {
       "output_type": "stream",
       "stream": "stdout",
       "text": [
        " opinions 0.443164581897\n",
        "3"
       ]
      },
      {
       "output_type": "stream",
       "stream": "stdout",
       "text": [
        " merged 0.51546340983\n"
       ]
      }
     ],
     "prompt_number": 277
    },
    {
     "cell_type": "code",
     "collapsed": false,
     "input": [
      "for mode in running_scores.keys():\n",
      "    print mode, np.mean(running_scores[mode])\n",
      "    \n",
      "plt.plot(range(-3,4), running_scores['prices'], label='Price Data', linewidth=2)\n",
      "plt.plot(range(-3,4), running_scores['opinions'], label='Opinions Data', linewidth=2)\n",
      "plt.plot(range(-3,4), running_scores['merged'], label='Merged Data', linewidth=2)\n",
      "plt.ylim(0.2, .8)\n",
      "\n",
      "\n",
      "plt.legend(loc = 'lower left')"
     ],
     "language": "python",
     "metadata": {},
     "outputs": [
      {
       "output_type": "stream",
       "stream": "stdout",
       "text": [
        "prices 0.510504057301\n",
        "opinions 0.535459805536\n",
        "merged 0.545330519671\n"
       ]
      },
      {
       "metadata": {},
       "output_type": "pyout",
       "prompt_number": 299,
       "text": [
        "<matplotlib.legend.Legend at 0xa956ef4c>"
       ]
      },
      {
       "metadata": {},
       "output_type": "display_data",
       "png": "[encoded data removed]",
       "text": [
        "<matplotlib.figure.Figure at 0xa87ad22c>"
       ]
      }
     ],
     "prompt_number": 299
    },
    {
     "cell_type": "code",
     "collapsed": false,
     "input": [],
     "language": "python",
     "metadata": {},
     "outputs": []
    }
   ],
   "metadata": {}
  }
 ]
}