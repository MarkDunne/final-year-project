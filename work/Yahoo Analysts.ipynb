{
 "metadata": {
  "name": "",
  "signature": "sha256:eb14ba6285f208557b0b4c59a21c2c0df37f59f9a0f5f28a0dec640637299daf"
 },
 "nbformat": 3,
 "nbformat_minor": 0,
 "worksheets": [
  {
   "cells": [
    {
     "cell_type": "code",
     "collapsed": false,
     "input": [
      "import urllib2\n",
      "import pandas as pd\n",
      "from bs4 import BeautifulSoup\n",
      "from IPython.display import HTML"
     ],
     "language": "python",
     "metadata": {},
     "outputs": [],
     "prompt_number": 2
    },
    {
     "cell_type": "code",
     "collapsed": false,
     "input": [
      "def loadSoup(url):\n",
      "    return BeautifulSoup(urllib2.urlopen(url).read())"
     ],
     "language": "python",
     "metadata": {},
     "outputs": [],
     "prompt_number": 3
    },
    {
     "cell_type": "code",
     "collapsed": false,
     "input": [
      "def load_df(ticker):\n",
      "    soup  = loadSoup('http://finance.yahoo.com/q/ud?s=' + ticker)\n",
      "    table = soup.select('.yfnc_datamodoutline1 table')[0]\n",
      "    data  = pd.read_html(str(table), flavor='bs4', header=0)[0]\n",
      "    data['Ticker'] = ticker\n",
      "    return data"
     ],
     "language": "python",
     "metadata": {},
     "outputs": [],
     "prompt_number": 4
    },
    {
     "cell_type": "code",
     "collapsed": false,
     "input": [
      "DJIA = pd.read_csv('../data/DowJonesIA.csv')\n",
      "df = pd.DataFrame()\n",
      "for ticker in DJIA['Ticker']:\n",
      "    print 'Loading data for', ticker\n",
      "    df = df.append(load_df(ticker))"
     ],
     "language": "python",
     "metadata": {},
     "outputs": [
      {
       "output_type": "stream",
       "stream": "stdout",
       "text": [
        "Loading data for AXP\n",
        "Loading data for"
       ]
      },
      {
       "output_type": "stream",
       "stream": "stdout",
       "text": [
        " BA\n",
        "Loading data for"
       ]
      },
      {
       "output_type": "stream",
       "stream": "stdout",
       "text": [
        " CAT\n",
        "Loading data for"
       ]
      },
      {
       "output_type": "stream",
       "stream": "stdout",
       "text": [
        " CSCO\n",
        "Loading data for"
       ]
      },
      {
       "output_type": "stream",
       "stream": "stdout",
       "text": [
        " CVX\n",
        "Loading data for"
       ]
      },
      {
       "output_type": "stream",
       "stream": "stdout",
       "text": [
        " DD\n",
        "Loading data for"
       ]
      },
      {
       "output_type": "stream",
       "stream": "stdout",
       "text": [
        " DIS\n",
        "Loading data for"
       ]
      },
      {
       "output_type": "stream",
       "stream": "stdout",
       "text": [
        " GE\n",
        "Loading data for"
       ]
      },
      {
       "output_type": "stream",
       "stream": "stdout",
       "text": [
        " GS\n",
        "Loading data for"
       ]
      },
      {
       "output_type": "stream",
       "stream": "stdout",
       "text": [
        " HD\n",
        "Loading data for"
       ]
      },
      {
       "output_type": "stream",
       "stream": "stdout",
       "text": [
        " IBM\n",
        "Loading data for"
       ]
      },
      {
       "output_type": "stream",
       "stream": "stdout",
       "text": [
        " INTC\n",
        "Loading data for"
       ]
      },
      {
       "output_type": "stream",
       "stream": "stdout",
       "text": [
        " JNJ\n",
        "Loading data for"
       ]
      },
      {
       "output_type": "stream",
       "stream": "stdout",
       "text": [
        " JPM\n",
        "Loading data for"
       ]
      },
      {
       "output_type": "stream",
       "stream": "stdout",
       "text": [
        " KO\n",
        "Loading data for"
       ]
      },
      {
       "output_type": "stream",
       "stream": "stdout",
       "text": [
        " MCD\n",
        "Loading data for"
       ]
      },
      {
       "output_type": "stream",
       "stream": "stdout",
       "text": [
        " MMM\n",
        "Loading data for"
       ]
      },
      {
       "output_type": "stream",
       "stream": "stdout",
       "text": [
        " MRK\n",
        "Loading data for"
       ]
      },
      {
       "output_type": "stream",
       "stream": "stdout",
       "text": [
        " MSFT\n",
        "Loading data for"
       ]
      },
      {
       "output_type": "stream",
       "stream": "stdout",
       "text": [
        " NKE\n",
        "Loading data for"
       ]
      },
      {
       "output_type": "stream",
       "stream": "stdout",
       "text": [
        " PFE\n",
        "Loading data for"
       ]
      },
      {
       "output_type": "stream",
       "stream": "stdout",
       "text": [
        " PG\n",
        "Loading data for"
       ]
      },
      {
       "output_type": "stream",
       "stream": "stdout",
       "text": [
        " T\n",
        "Loading data for"
       ]
      },
      {
       "output_type": "stream",
       "stream": "stdout",
       "text": [
        " TRV\n",
        "Loading data for"
       ]
      },
      {
       "output_type": "stream",
       "stream": "stdout",
       "text": [
        " UNH\n",
        "Loading data for"
       ]
      },
      {
       "output_type": "stream",
       "stream": "stdout",
       "text": [
        " UTX\n",
        "Loading data for"
       ]
      },
      {
       "output_type": "stream",
       "stream": "stdout",
       "text": [
        " V\n",
        "Loading data for"
       ]
      },
      {
       "output_type": "stream",
       "stream": "stdout",
       "text": [
        " VZ\n",
        "Loading data for"
       ]
      },
      {
       "output_type": "stream",
       "stream": "stdout",
       "text": [
        " WMT\n",
        "Loading data for"
       ]
      },
      {
       "output_type": "stream",
       "stream": "stdout",
       "text": [
        " XOM\n"
       ]
      }
     ],
     "prompt_number": 5
    },
    {
     "cell_type": "code",
     "collapsed": false,
     "input": [
      "# for action in df['To'].unique():\n",
      "#     print action\n",
      "    \n",
      "sorted([(len(group), ticker) for ticker, group in df.groupby(['Ticker'])], reverse=True)"
     ],
     "language": "python",
     "metadata": {},
     "outputs": [
      {
       "metadata": {},
       "output_type": "pyout",
       "prompt_number": 25,
       "text": [
        "[(326, 'INTC'),\n",
        " (250, 'CSCO'),\n",
        " (166, 'DIS'),\n",
        " (162, 'MSFT'),\n",
        " (141, 'IBM'),\n",
        " (138, 'VZ'),\n",
        " (134, 'BA'),\n",
        " (130, 'CAT'),\n",
        " (126, 'JNJ'),\n",
        " (125, 'NKE'),\n",
        " (122, 'MRK'),\n",
        " (121, 'HD'),\n",
        " (117, 'PFE'),\n",
        " (116, 'PG'),\n",
        " (116, 'GS'),\n",
        " (115, 'AXP'),\n",
        " (112, 'WMT'),\n",
        " (110, 'XOM'),\n",
        " (110, 'UNH'),\n",
        " (103, 'DD'),\n",
        " (99, 'JPM'),\n",
        " (96, 'KO'),\n",
        " (88, 'CVX'),\n",
        " (83, 'MMM'),\n",
        " (71, 'UTX'),\n",
        " (60, 'T'),\n",
        " (60, 'GE'),\n",
        " (49, 'V'),\n",
        " (23, 'TRV')]"
       ]
      }
     ],
     "prompt_number": 25
    }
   ],
   "metadata": {}
  }
 ]
}