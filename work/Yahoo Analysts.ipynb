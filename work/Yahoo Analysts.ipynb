{
 "metadata": {
  "name": "",
  "signature": "sha256:40356505cd358fd3eade76136eeaee5fe89881c7fe9d5e2644e94742c42181ca"
 },
 "nbformat": 3,
 "nbformat_minor": 0,
 "worksheets": [
  {
   "cells": [
    {
     "cell_type": "code",
     "collapsed": false,
     "input": [
      "import urllib2\n",
      "import numpy as np\n",
      "import pandas as pd\n",
      "from bs4 import BeautifulSoup\n",
      "from IPython.display import HTML"
     ],
     "language": "python",
     "metadata": {},
     "outputs": [],
     "prompt_number": 33
    },
    {
     "cell_type": "code",
     "collapsed": false,
     "input": [
      "def loadSoup(url):\n",
      "    return BeautifulSoup(urllib2.urlopen(url).read())"
     ],
     "language": "python",
     "metadata": {},
     "outputs": [],
     "prompt_number": 2
    },
    {
     "cell_type": "code",
     "collapsed": false,
     "input": [
      "def load_df(ticker):\n",
      "    soup  = loadSoup('http://finance.yahoo.com/q/ud?s=' + ticker)\n",
      "    table = soup.select('.yfnc_datamodoutline1 table')[0]\n",
      "    data  = pd.read_html(str(table), flavor='bs4', header=0)[0]\n",
      "    data['Ticker'] = ticker\n",
      "    return data"
     ],
     "language": "python",
     "metadata": {},
     "outputs": [],
     "prompt_number": 3
    },
    {
     "cell_type": "code",
     "collapsed": false,
     "input": [
      "DJIA = pd.read_csv('../data/DowJonesIA.csv')\n",
      "df = pd.DataFrame()\n",
      "for ticker in DJIA['Ticker']:\n",
      "    df = df.append(load_df(ticker))"
     ],
     "language": "python",
     "metadata": {},
     "outputs": [
      {
       "output_type": "stream",
       "stream": "stdout",
       "text": [
        "Loading data for AXP\n",
        "Loading data for"
       ]
      },
      {
       "output_type": "stream",
       "stream": "stdout",
       "text": [
        " BA\n",
        "Loading data for"
       ]
      },
      {
       "output_type": "stream",
       "stream": "stdout",
       "text": [
        " CAT\n",
        "Loading data for"
       ]
      },
      {
       "output_type": "stream",
       "stream": "stdout",
       "text": [
        " CSCO\n",
        "Loading data for"
       ]
      },
      {
       "output_type": "stream",
       "stream": "stdout",
       "text": [
        " CVX\n",
        "Loading data for"
       ]
      },
      {
       "output_type": "stream",
       "stream": "stdout",
       "text": [
        " DD\n",
        "Loading data for"
       ]
      },
      {
       "output_type": "stream",
       "stream": "stdout",
       "text": [
        " DIS\n",
        "Loading data for"
       ]
      },
      {
       "output_type": "stream",
       "stream": "stdout",
       "text": [
        " GE\n",
        "Loading data for"
       ]
      },
      {
       "output_type": "stream",
       "stream": "stdout",
       "text": [
        " GS\n",
        "Loading data for"
       ]
      },
      {
       "output_type": "stream",
       "stream": "stdout",
       "text": [
        " HD\n",
        "Loading data for"
       ]
      },
      {
       "output_type": "stream",
       "stream": "stdout",
       "text": [
        " IBM\n",
        "Loading data for"
       ]
      },
      {
       "output_type": "stream",
       "stream": "stdout",
       "text": [
        " INTC\n",
        "Loading data for"
       ]
      },
      {
       "output_type": "stream",
       "stream": "stdout",
       "text": [
        " JNJ\n",
        "Loading data for"
       ]
      },
      {
       "output_type": "stream",
       "stream": "stdout",
       "text": [
        " JPM\n",
        "Loading data for"
       ]
      },
      {
       "output_type": "stream",
       "stream": "stdout",
       "text": [
        " KO\n",
        "Loading data for"
       ]
      },
      {
       "output_type": "stream",
       "stream": "stdout",
       "text": [
        " MCD\n",
        "Loading data for"
       ]
      },
      {
       "output_type": "stream",
       "stream": "stdout",
       "text": [
        " MMM\n",
        "Loading data for"
       ]
      },
      {
       "output_type": "stream",
       "stream": "stdout",
       "text": [
        " MRK\n",
        "Loading data for"
       ]
      },
      {
       "output_type": "stream",
       "stream": "stdout",
       "text": [
        " MSFT\n",
        "Loading data for"
       ]
      },
      {
       "output_type": "stream",
       "stream": "stdout",
       "text": [
        " NKE\n",
        "Loading data for"
       ]
      },
      {
       "output_type": "stream",
       "stream": "stdout",
       "text": [
        " PFE\n",
        "Loading data for"
       ]
      },
      {
       "output_type": "stream",
       "stream": "stdout",
       "text": [
        " PG\n",
        "Loading data for"
       ]
      },
      {
       "output_type": "stream",
       "stream": "stdout",
       "text": [
        " T\n",
        "Loading data for"
       ]
      },
      {
       "output_type": "stream",
       "stream": "stdout",
       "text": [
        " TRV\n",
        "Loading data for"
       ]
      },
      {
       "output_type": "stream",
       "stream": "stdout",
       "text": [
        " UNH\n",
        "Loading data for"
       ]
      },
      {
       "output_type": "stream",
       "stream": "stdout",
       "text": [
        " UTX\n",
        "Loading data for"
       ]
      },
      {
       "output_type": "stream",
       "stream": "stdout",
       "text": [
        " V\n",
        "Loading data for"
       ]
      },
      {
       "output_type": "stream",
       "stream": "stdout",
       "text": [
        " VZ\n",
        "Loading data for"
       ]
      },
      {
       "output_type": "stream",
       "stream": "stdout",
       "text": [
        " WMT\n",
        "Loading data for"
       ]
      },
      {
       "output_type": "stream",
       "stream": "stdout",
       "text": [
        " XOM\n"
       ]
      }
     ],
     "prompt_number": 4
    },
    {
     "cell_type": "code",
     "collapsed": false,
     "input": [
      "df[df['To'] == 'Mkt Performer']"
     ],
     "language": "python",
     "metadata": {},
     "outputs": [
      {
       "html": [
        "<div style=\"max-height:1000px;max-width:1500px;overflow:auto;\">\n",
        "<table border=\"1\" class=\"dataframe\">\n",
        "  <thead>\n",
        "    <tr style=\"text-align: right;\">\n",
        "      <th></th>\n",
        "      <th>Date</th>\n",
        "      <th>Research Firm</th>\n",
        "      <th>Action</th>\n",
        "      <th>From</th>\n",
        "      <th>To</th>\n",
        "      <th>Ticker</th>\n",
        "    </tr>\n",
        "  </thead>\n",
        "  <tbody>\n",
        "    <tr>\n",
        "      <th>204</th>\n",
        "      <td>2001-03-12</td>\n",
        "      <td> Robertson Stephens</td>\n",
        "      <td> Downgrade</td>\n",
        "      <td> LT Attractive</td>\n",
        "      <td> Mkt Performer</td>\n",
        "      <td> CSCO</td>\n",
        "    </tr>\n",
        "    <tr>\n",
        "      <th>153</th>\n",
        "      <td>1998-09-14</td>\n",
        "      <td>      Goldman Sachs</td>\n",
        "      <td> Downgrade</td>\n",
        "      <td>  Recomm. List</td>\n",
        "      <td> Mkt Performer</td>\n",
        "      <td>  DIS</td>\n",
        "    </tr>\n",
        "    <tr>\n",
        "      <th>322</th>\n",
        "      <td>1998-04-02</td>\n",
        "      <td>          JP Morgan</td>\n",
        "      <td> Initiated</td>\n",
        "      <td>           NaN</td>\n",
        "      <td> Mkt Performer</td>\n",
        "      <td> INTC</td>\n",
        "    </tr>\n",
        "    <tr>\n",
        "      <th>120</th>\n",
        "      <td>1998-10-05</td>\n",
        "      <td>          JP Morgan</td>\n",
        "      <td> Initiated</td>\n",
        "      <td>           NaN</td>\n",
        "      <td> Mkt Performer</td>\n",
        "      <td>  JNJ</td>\n",
        "    </tr>\n",
        "    <tr>\n",
        "      <th>112</th>\n",
        "      <td>1998-03-26</td>\n",
        "      <td>          JP Morgan</td>\n",
        "      <td> Initiated</td>\n",
        "      <td>           NaN</td>\n",
        "      <td> Mkt Performer</td>\n",
        "      <td>  MCD</td>\n",
        "    </tr>\n",
        "    <tr>\n",
        "      <th>98 </th>\n",
        "      <td>2000-05-04</td>\n",
        "      <td> Robertson Stephens</td>\n",
        "      <td> Initiated</td>\n",
        "      <td>           NaN</td>\n",
        "      <td> Mkt Performer</td>\n",
        "      <td>  MRK</td>\n",
        "    </tr>\n",
        "  </tbody>\n",
        "</table>\n",
        "</div>"
       ],
       "metadata": {},
       "output_type": "pyout",
       "prompt_number": 29,
       "text": [
        "          Date       Research Firm     Action           From             To  \\\n",
        "204 2001-03-12  Robertson Stephens  Downgrade  LT Attractive  Mkt Performer   \n",
        "153 1998-09-14       Goldman Sachs  Downgrade   Recomm. List  Mkt Performer   \n",
        "322 1998-04-02           JP Morgan  Initiated            NaN  Mkt Performer   \n",
        "120 1998-10-05           JP Morgan  Initiated            NaN  Mkt Performer   \n",
        "112 1998-03-26           JP Morgan  Initiated            NaN  Mkt Performer   \n",
        "98  2000-05-04  Robertson Stephens  Initiated            NaN  Mkt Performer   \n",
        "\n",
        "    Ticker  \n",
        "204   CSCO  \n",
        "153    DIS  \n",
        "322   INTC  \n",
        "120    JNJ  \n",
        "112    MCD  \n",
        "98     MRK  "
       ]
      }
     ],
     "prompt_number": 29
    },
    {
     "cell_type": "code",
     "collapsed": false,
     "input": [
      "negitive = [u'Sell', u'Underperform', u'Underweight', u'Reduce', u'Sector Underperform', u'Mkt Underperform', u'Below Average', u'Avoid', u'Avoi', u'Strong Sell']\n",
      "neutral  = [u'Hold', u'Equal Weight', u'Perform', u'Neutral', u'Mkt Perform', u'Equal-weight', u'In-Line', u'Sector Perform', u'Market Perform', u'Maintain Position', u'Perform-In-Line', u'Maintain', u'NT Neutral', u'NT Accumulate', u'ST Mkt Perform', u'ST Buy', u'LT Mkt Performer', u'Mkt Performer', u'NT Mkt Performer', u'Average', u'ST Neutral', u'Perform In Line', u'LT Neutral', u'ST Mkt Perform/LT Buy', u'In-line', u'NT/LT Mkt Performer', u'In Line', u'LT Mkt Perform', u'Equal-Weight']\n",
      "positive = [u'Buy', u'Outperform', u'Overweight', u'Sector Outperform', u'NT Buy/LT Buy', u'Strong Buy', u'NT Buy', u'Attractive', u'Recommended List', u'Accumulate', u'NT Accum/LT Buy', u'Top Pick', u'Peer Perform', u'NT Strong Buy', u'Recomm List', u'NT Accum', u'Mkt Outperform', u'Add', u'Market Outperform', u'Positive', u'Above Average', u'Buy Aggressive', u'NT/LT Outperformer', u'Outperf. Signif.', u'Buy-Focus List', u'Trading Buy', u'Mkt Outperformer', u'ST Accumulate', u'Long-term Buy', u'US Recomm. List', u'Net Positive', u'Buy $100', u'NT Outperformer', u'NT/LT Buy', u'Outperform/Buy', u'NT Mkt Outperformer', u'NT Acc/LT Buy', u'Buy/Core', u'Recomm. List', u'NT Strong Buy/LT Strong Buy']"
     ],
     "language": "python",
     "metadata": {},
     "outputs": [],
     "prompt_number": 39
    }
   ],
   "metadata": {}
  }
 ]
}