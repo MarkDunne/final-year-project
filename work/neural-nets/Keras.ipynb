{
 "cells": [
  {
   "cell_type": "code",
   "execution_count": 29,
   "metadata": {
    "collapsed": true
   },
   "outputs": [],
   "source": [
    "import numpy as np\n",
    "import pandas as pd\n",
    "\n",
    "from keras.models import Sequential\n",
    "from keras.layers.core import Dense, Dropout, Activation\n",
    "from keras.optimizers import SGD\n",
    "from keras.utils import np_utils\n",
    "from sklearn.cross_validation import train_test_split"
   ]
  },
  {
   "cell_type": "code",
   "execution_count": 16,
   "metadata": {
    "collapsed": true
   },
   "outputs": [],
   "source": [
    "data = pd.read_csv('../../data/machines/DJIA-window-history.csv', index_col=0)\n",
    "data = data.take(np.random.permutation(len(data)))"
   ]
  },
  {
   "cell_type": "code",
   "execution_count": 18,
   "metadata": {
    "collapsed": false
   },
   "outputs": [
    {
     "data": {
      "text/html": [
       "<div>\n",
       "<table border=\"1\" class=\"dataframe\">\n",
       "  <thead>\n",
       "    <tr style=\"text-align: right;\">\n",
       "      <th></th>\n",
       "      <th>0</th>\n",
       "      <th>1</th>\n",
       "      <th>2</th>\n",
       "      <th>3</th>\n",
       "      <th>4</th>\n",
       "      <th>outcome</th>\n",
       "      <th>outcome-class</th>\n",
       "    </tr>\n",
       "  </thead>\n",
       "  <tbody>\n",
       "    <tr>\n",
       "      <th>172006</th>\n",
       "      <td>-0.022241</td>\n",
       "      <td>0.000875</td>\n",
       "      <td>0.032343</td>\n",
       "      <td>-0.018628</td>\n",
       "      <td>-0.016393</td>\n",
       "      <td>0.034211</td>\n",
       "      <td>1</td>\n",
       "    </tr>\n",
       "    <tr>\n",
       "      <th>204225</th>\n",
       "      <td>0.027811</td>\n",
       "      <td>0.007395</td>\n",
       "      <td>-0.005672</td>\n",
       "      <td>0.000000</td>\n",
       "      <td>0.006711</td>\n",
       "      <td>-0.020833</td>\n",
       "      <td>0</td>\n",
       "    </tr>\n",
       "    <tr>\n",
       "      <th>37133</th>\n",
       "      <td>0.026316</td>\n",
       "      <td>-0.012821</td>\n",
       "      <td>-0.004329</td>\n",
       "      <td>-0.008696</td>\n",
       "      <td>0.004386</td>\n",
       "      <td>0.021834</td>\n",
       "      <td>1</td>\n",
       "    </tr>\n",
       "    <tr>\n",
       "      <th>40908</th>\n",
       "      <td>-0.010106</td>\n",
       "      <td>0.007968</td>\n",
       "      <td>0.000741</td>\n",
       "      <td>-0.017527</td>\n",
       "      <td>-0.019095</td>\n",
       "      <td>0.008197</td>\n",
       "      <td>1</td>\n",
       "    </tr>\n",
       "    <tr>\n",
       "      <th>110601</th>\n",
       "      <td>0.003815</td>\n",
       "      <td>0.003801</td>\n",
       "      <td>0.002673</td>\n",
       "      <td>-0.000888</td>\n",
       "      <td>0.007559</td>\n",
       "      <td>0.010591</td>\n",
       "      <td>1</td>\n",
       "    </tr>\n",
       "  </tbody>\n",
       "</table>\n",
       "</div>"
      ],
      "text/plain": [
       "               0         1         2         3         4   outcome  \\\n",
       "172006 -0.022241  0.000875  0.032343 -0.018628 -0.016393  0.034211   \n",
       "204225  0.027811  0.007395 -0.005672  0.000000  0.006711 -0.020833   \n",
       "37133   0.026316 -0.012821 -0.004329 -0.008696  0.004386  0.021834   \n",
       "40908  -0.010106  0.007968  0.000741 -0.017527 -0.019095  0.008197   \n",
       "110601  0.003815  0.003801  0.002673 -0.000888  0.007559  0.010591   \n",
       "\n",
       "        outcome-class  \n",
       "172006              1  \n",
       "204225              0  \n",
       "37133               1  \n",
       "40908               1  \n",
       "110601              1  "
      ]
     },
     "execution_count": 18,
     "metadata": {},
     "output_type": "execute_result"
    }
   ],
   "source": [
    "data[:5]"
   ]
  },
  {
   "cell_type": "code",
   "execution_count": 45,
   "metadata": {
    "collapsed": false
   },
   "outputs": [],
   "source": [
    "x = data[[0, 1, 2, 3, 4]].values\n",
    "y = data[['outcome-class']]\n",
    "y = np_utils.to_categorical(y)"
   ]
  },
  {
   "cell_type": "code",
   "execution_count": 46,
   "metadata": {
    "collapsed": false
   },
   "outputs": [],
   "source": [
    "x_train, x_test, y_train, y_test = train_test_split(x, y, test_size=0.15)"
   ]
  },
  {
   "cell_type": "code",
   "execution_count": null,
   "metadata": {
    "collapsed": false
   },
   "outputs": [
    {
     "name": "stdout",
     "output_type": "stream",
     "text": [
      "Train on 149292 samples, validate on 26346 samples\n",
      "Epoch 0\n",
      "100672/149292 [===================>..........] - ETA: 7s - loss: 0.2497 - acc: 0.5179"
     ]
    }
   ],
   "source": [
    "model = Sequential()\n",
    "model.add(Dense(5, 64, init='uniform', activation='tanh'))\n",
    "model.add(Dropout(0.5))\n",
    "model.add(Dense(64, 64, init='uniform', activation='tanh'))\n",
    "model.add(Dropout(0.5))\n",
    "model.add(Dense(64, 2, init='uniform', activation='softmax'))\n",
    "\n",
    "model.compile(loss='mean_squared_error', optimizer='sgd')\n",
    "\n",
    "model.fit(x_train, y_train, nb_epoch=20, batch_size=64, show_accuracy=True, verbose=1, validation_split=0.15)\n",
    "score = model.evaluate(X_test, y_test, batch_size=64)"
   ]
  }
 ],
 "metadata": {
  "kernelspec": {
   "display_name": "Python 2",
   "language": "python",
   "name": "python2"
  },
  "language_info": {
   "codemirror_mode": {
    "name": "ipython",
    "version": 2
   },
   "file_extension": ".py",
   "mimetype": "text/x-python",
   "name": "python",
   "nbconvert_exporter": "python",
   "pygments_lexer": "ipython2",
   "version": "2.7.10"
  }
 },
 "nbformat": 4,
 "nbformat_minor": 0
}
